{
  "cells": [
    {
      "cell_type": "code",
      "execution_count": 1,
      "metadata": {
        "id": "1y6Abugxrf2d"
      },
      "outputs": [
        {
          "name": "stderr",
          "output_type": "stream",
          "text": [
            "2023-07-03 21:04:45.026590: I tensorflow/core/platform/cpu_feature_guard.cc:193] This TensorFlow binary is optimized with oneAPI Deep Neural Network Library (oneDNN) to use the following CPU instructions in performance-critical operations:  SSE4.1 SSE4.2 AVX AVX2 FMA\n",
            "To enable them in other operations, rebuild TensorFlow with the appropriate compiler flags.\n"
          ]
        }
      ],
      "source": [
        "import tensorflow as tf\n",
        "from tensorflow.keras import layers\n",
        "from tensorflow.keras.optimizers import Adam\n",
        "\n",
        "import re\n",
        "import string\n",
        "import numpy as np\n",
        "import matplotlib.pyplot as plt\n",
        "\n",
        "import pandas as pd"
      ]
    },
    {
      "cell_type": "code",
      "execution_count": 2,
      "metadata": {},
      "outputs": [],
      "source": [
        "tf.config.experimental.enable_op_determinism()\n",
        "tf.keras.utils.set_random_seed(42)"
      ]
    },
    {
      "cell_type": "code",
      "execution_count": 3,
      "metadata": {
        "id": "wprxod5JHj5y"
      },
      "outputs": [],
      "source": [
        "# import os\n",
        "# os.environ['WANDB_MODE'] = 'offline'\n"
      ]
    },
    {
      "attachments": {},
      "cell_type": "markdown",
      "metadata": {
        "id": "fnFF_jmZrf2d"
      },
      "source": [
        "### Load dataset"
      ]
    },
    {
      "cell_type": "code",
      "execution_count": 4,
      "metadata": {
        "colab": {
          "base_uri": "https://localhost:8080/",
          "height": 35
        },
        "id": "URvRhEBCM19u",
        "outputId": "63b76fc3-c8f1-4688-c864-77b1280d75ab"
      },
      "outputs": [
        {
          "data": {
            "text/plain": [
              "'Running locally'"
            ]
          },
          "execution_count": 4,
          "metadata": {},
          "output_type": "execute_result"
        }
      ],
      "source": [
        "try:\n",
        "  import google.colab\n",
        "  IN_COLAB = True\n",
        "except:\n",
        "  IN_COLAB = False\n",
        "\"Running in colab\" if IN_COLAB else \"Running locally\""
      ]
    },
    {
      "attachments": {},
      "cell_type": "markdown",
      "metadata": {
        "id": "j9VR2_vwO0Un"
      },
      "source": [
        "### Init wandb"
      ]
    },
    {
      "cell_type": "code",
      "execution_count": 5,
      "metadata": {
        "id": "BB6FdX7IO56-"
      },
      "outputs": [],
      "source": [
        "if IN_COLAB:\n",
        "  !pip install wandb -q\n",
        "  !pip install python-dotenv -q\n",
        "  !pip install ruamel.yaml -q\n",
        "\n",
        "import wandb\n",
        "\n",
        "from wandb.keras import (\n",
        "   WandbMetricsLogger,\n",
        "   WandbModelCheckpoint,\n",
        "   WandbCallback,\n",
        ")\n",
        "from ruamel.yaml import YAML"
      ]
    },
    {
      "cell_type": "code",
      "execution_count": 6,
      "metadata": {
        "colab": {
          "base_uri": "https://localhost:8080/"
        },
        "id": "cLSgofojQuJl",
        "outputId": "751b4fad-f439-41b5-9cbd-b942b779dda9"
      },
      "outputs": [
        {
          "name": "stderr",
          "output_type": "stream",
          "text": [
            "\u001b[34m\u001b[1mwandb\u001b[0m: W&B API key is configured. Use \u001b[1m`wandb login --relogin`\u001b[0m to force relogin\n"
          ]
        },
        {
          "data": {
            "text/plain": [
              "True"
            ]
          },
          "execution_count": 6,
          "metadata": {},
          "output_type": "execute_result"
        }
      ],
      "source": [
        "import os\n",
        "from dotenv import load_dotenv; load_dotenv(\"wandb.env\")\n",
        "os.environ[\"WANDB_NOTEBOOK_NAME\"] = \"translate_train_debug.ipynb\"\n",
        "wandb.login()"
      ]
    },
    {
      "cell_type": "code",
      "execution_count": 7,
      "metadata": {
        "colab": {
          "base_uri": "https://localhost:8080/",
          "height": 104
        },
        "id": "2HUCLg80P5j6",
        "outputId": "129edfea-abb5-46c8-bedd-a2489adaa969"
      },
      "outputs": [
        {
          "data": {
            "application/vnd.jupyter.widget-view+json": {
              "model_id": "db24b374bfde4d22858cd8db34ae5248",
              "version_major": 2,
              "version_minor": 0
            },
            "text/plain": [
              "VBox(children=(Label(value='Waiting for wandb.init()...\\r'), FloatProgress(value=0.01666964963345284, max=1.0)…"
            ]
          },
          "metadata": {},
          "output_type": "display_data"
        },
        {
          "data": {
            "text/html": [
              "Tracking run with wandb version 0.15.4"
            ],
            "text/plain": [
              "<IPython.core.display.HTML object>"
            ]
          },
          "metadata": {},
          "output_type": "display_data"
        },
        {
          "data": {
            "text/html": [
              "Run data is saved locally in <code>/mnt/c/Users/amirf/YandexDisk/Documents/Contextual Recurrent Neural Network/translate_pipeline/wandb/run-20230703_210501-y5t1e4nd</code>"
            ],
            "text/plain": [
              "<IPython.core.display.HTML object>"
            ]
          },
          "metadata": {},
          "output_type": "display_data"
        },
        {
          "data": {
            "text/html": [
              "Syncing run <strong><a href='https://wandb.ai/amirfvb/CRNN_translate_debug/runs/y5t1e4nd' target=\"_blank\">wandering-sunset-20</a></strong> to <a href='https://wandb.ai/amirfvb/CRNN_translate_debug' target=\"_blank\">Weights & Biases</a> (<a href='https://wandb.me/run' target=\"_blank\">docs</a>)<br/>"
            ],
            "text/plain": [
              "<IPython.core.display.HTML object>"
            ]
          },
          "metadata": {},
          "output_type": "display_data"
        },
        {
          "data": {
            "text/html": [
              " View project at <a href='https://wandb.ai/amirfvb/CRNN_translate_debug' target=\"_blank\">https://wandb.ai/amirfvb/CRNN_translate_debug</a>"
            ],
            "text/plain": [
              "<IPython.core.display.HTML object>"
            ]
          },
          "metadata": {},
          "output_type": "display_data"
        },
        {
          "data": {
            "text/html": [
              " View run at <a href='https://wandb.ai/amirfvb/CRNN_translate_debug/runs/y5t1e4nd' target=\"_blank\">https://wandb.ai/amirfvb/CRNN_translate_debug/runs/y5t1e4nd</a>"
            ],
            "text/plain": [
              "<IPython.core.display.HTML object>"
            ]
          },
          "metadata": {},
          "output_type": "display_data"
        }
      ],
      "source": [
        "yaml=YAML(typ='safe')\n",
        "with open('trans_params_debug.yaml', 'r') as file:\n",
        "    config_file = yaml.load(file)\n",
        "\n",
        "wandb.init(\n",
        "    # set the wandb project where this run will be logged\n",
        "    project=\"CRNN_translate_debug\",\n",
        "\n",
        "    # name=\"test_determinism\",\n",
        "    # notes=\"Removed gradient clipping\",\n",
        "    config=config_file,\n",
        "    save_code=True,\n",
        ")\n",
        "# wandb.run.log_code(include_fn=lambda path: path.endswith(\"translate_train.ipynb\"))\n",
        "wandb.run.log_code(include_fn=lambda path: path.endswith(\".ipynb\") or path.endswith(\".py\"))\n",
        "config = wandb.config"
      ]
    },
    {
      "cell_type": "code",
      "execution_count": 8,
      "metadata": {
        "id": "Q35JVdoVHj50"
      },
      "outputs": [],
      "source": [
        "UNITS = config[\"hidden_dims\"]\n",
        "input_dim = config[\"input_size\"]"
      ]
    },
    {
      "attachments": {},
      "cell_type": "markdown",
      "metadata": {
        "id": "g08aYS4uHj51"
      },
      "source": [
        "### Dataset loading"
      ]
    },
    {
      "cell_type": "code",
      "execution_count": 9,
      "metadata": {
        "colab": {
          "base_uri": "https://localhost:8080/"
        },
        "id": "uf9bkc1Xrf2d",
        "outputId": "0138fd24-1392-432d-f7a3-2607c0d6c8a2"
      },
      "outputs": [
        {
          "name": "stdout",
          "output_type": "stream",
          "text": [
            "Un día, me desperté y vi que Dios me había puesto pelo en la cara. Me lo afeité. Al día siguiente, vi que Dios me lo había vuelto a poner en la cara, así que me lo afeité otra vez. Al tercer día, cuando vi que Dios me había puesto pelo en la cara de nuevo, decidí que Dios se saliera con la suya. Por eso tengo barba.\n",
            "One day, I woke up to find that God had put hair on my face. I shaved it off. The next day, I found that God had put it back on my face, so I shaved it off again. On the third day, when I found that God had put hair back on my face again, I decided to let God have his way. That's why I have a beard.\n"
          ]
        }
      ],
      "source": [
        "if IN_COLAB:\n",
        "    # download dataset\n",
        "\n",
        "    import pathlib\n",
        "\n",
        "    path_to_zip = tf.keras.utils.get_file(\n",
        "        'spa-eng.zip', origin='http://storage.googleapis.com/download.tensorflow.org/data/spa-eng.zip',\n",
        "        extract=True)\n",
        "\n",
        "    path_to_file = pathlib.Path(path_to_zip).parent/'spa-eng/spa.txt'\n",
        "\n",
        "    def load_data(path):\n",
        "        text = path.read_text(encoding='utf-8')\n",
        "\n",
        "        lines = text.splitlines()\n",
        "        pairs = [line.split('\\t') for line in lines]\n",
        "\n",
        "        context = np.array([context for target, context in pairs])\n",
        "        target = np.array([target for target, context in pairs])\n",
        "\n",
        "        return target, context\n",
        "\n",
        "    target_raw, context_raw = load_data(path_to_file)\n",
        "\n",
        "    print(context_raw[-1])\n",
        "    print(target_raw[-1])\n",
        "\n",
        "else:\n",
        "    df = pd.read_csv(\"data/spa-eng.zip\", delimiter=\"\\t\", names=[\"translate\", \"source\", \"attr\"])\n",
        "    context_raw = np.array(df[\"source\"])\n",
        "    target_raw = np.array(df[\"translate\"])\n",
        "    print(context_raw[-1])\n",
        "    print(target_raw[-1])\n",
        "\n",
        "BUFFER_SIZE = len(context_raw)\n",
        "BATCH_SIZE = 64\n",
        "\n",
        "is_train = np.random.uniform(size=(len(target_raw),)) < 0.8 # todo. Check reproducibility and across methods (colab/not colab)\n",
        "\n",
        "\n",
        "train_raw = (\n",
        "    tf.data.Dataset\n",
        "    .from_tensor_slices((context_raw[is_train], target_raw[is_train]))\n",
        "    .shuffle(BUFFER_SIZE)\n",
        "    .batch(BATCH_SIZE))\n",
        "val_raw = (\n",
        "    tf.data.Dataset\n",
        "    .from_tensor_slices((context_raw[~is_train], target_raw[~is_train]))\n",
        "    .shuffle(BUFFER_SIZE)\n",
        "    .batch(BATCH_SIZE))\n",
        "\n"
      ]
    },
    {
      "attachments": {},
      "cell_type": "markdown",
      "metadata": {
        "id": "4IuSKTeBc_Ei"
      },
      "source": [
        "#### My dataset processing"
      ]
    },
    {
      "cell_type": "code",
      "execution_count": 10,
      "metadata": {
        "colab": {
          "base_uri": "https://localhost:8080/"
        },
        "id": "1G0LvQANrf2d",
        "outputId": "4698815d-dfd6-4b2d-e14c-3ec524302ee0"
      },
      "outputs": [
        {
          "name": "stdout",
          "output_type": "stream",
          "text": [
            "WARNING:tensorflow:From /home/amir/miniconda3/envs/CRNN-env/lib/python3.10/site-packages/tensorflow/python/autograph/pyct/static_analysis/liveness.py:83: Analyzer.lamba_check (from tensorflow.python.autograph.pyct.static_analysis.liveness) is deprecated and will be removed after 2023-09-23.\n",
            "Instructions for updating:\n",
            "Lambda fuctions will be no more assumed to be used in the statement where they are used, or at least in the same block. https://github.com/tensorflow/tensorflow/issues/56089\n"
          ]
        },
        {
          "data": {
            "text/plain": [
              "['', '[UNK]', '[START]', '[END]', 'de', 'que', 'no', 'tom', 'a', 'la']"
            ]
          },
          "execution_count": 10,
          "metadata": {},
          "output_type": "execute_result"
        }
      ],
      "source": [
        "def custom_standardization(text):\n",
        "\n",
        "  text = tf.strings.lower(text)\n",
        "  text = tf.strings.regex_replace(text,\n",
        "                                  '[%s]' % re.escape(string.punctuation + \"¿¡\"), '')\n",
        "  text = tf.strings.join(['[START]', text, '[END]'], separator=' ')\n",
        "  return text\n",
        "vocab_size = 5000\n",
        "# sequence_length = 250\n",
        "\n",
        "\n",
        "\n",
        "context_text_processor = tf.keras.layers.TextVectorization(\n",
        "    standardize=custom_standardization,\n",
        "    max_tokens=vocab_size,\n",
        "    ragged=True)\n",
        "\n",
        "context_text_processor.adapt(train_raw.map(lambda context, target: context))\n",
        "\n",
        "# Here are the first 10 words from the vocabulary:\n",
        "context_text_processor.get_vocabulary()[:10]"
      ]
    },
    {
      "cell_type": "code",
      "execution_count": 11,
      "metadata": {
        "colab": {
          "base_uri": "https://localhost:8080/"
        },
        "id": "r2I1XfeKrf2e",
        "outputId": "943fab11-c999-4af9-83f3-01f8125c8917"
      },
      "outputs": [
        {
          "data": {
            "text/plain": [
              "['', '[UNK]', '[START]', '[END]', 'i', 'the', 'to', 'you', 'tom', 'a']"
            ]
          },
          "execution_count": 11,
          "metadata": {},
          "output_type": "execute_result"
        }
      ],
      "source": [
        "target_text_processor = tf.keras.layers.TextVectorization(\n",
        "    standardize=custom_standardization,\n",
        "    max_tokens=vocab_size,\n",
        "    ragged=True)\n",
        "\n",
        "target_text_processor.adapt(train_raw.map(lambda context, target: target))\n",
        "target_text_processor.get_vocabulary()[:10]"
      ]
    },
    {
      "attachments": {},
      "cell_type": "markdown",
      "metadata": {
        "id": "X-T8B_vkdRxJ"
      },
      "source": [
        "#### End of text processings"
      ]
    },
    {
      "cell_type": "code",
      "execution_count": 12,
      "metadata": {
        "id": "c7PxnBbyrf2e"
      },
      "outputs": [],
      "source": [
        "def process_text(context, target):\n",
        "  context = context_text_processor(context).to_tensor()\n",
        "  target = target_text_processor(target)\n",
        "  targ_in = target[:,:-1].to_tensor()\n",
        "  targ_out = target[:,1:].to_tensor()\n",
        "  return (context, targ_in), targ_out\n",
        "\n",
        "\n",
        "train_ds = train_raw.map(process_text, tf.data.AUTOTUNE)\n",
        "val_ds = val_raw.map(process_text, tf.data.AUTOTUNE)"
      ]
    },
    {
      "cell_type": "code",
      "execution_count": 13,
      "metadata": {
        "id": "yMtZ4Bhyrf2f"
      },
      "outputs": [],
      "source": [
        "def masked_loss(y_true, y_pred):\n",
        "    # Calculate the loss for each item in the batch.\n",
        "    loss_fn = tf.keras.losses.SparseCategoricalCrossentropy(\n",
        "        from_logits=True, reduction='none')\n",
        "    loss = loss_fn(y_true, y_pred)\n",
        "\n",
        "    # Mask off the losses on padding.\n",
        "    mask = tf.cast(y_true != 0, loss.dtype)\n",
        "    loss *= mask\n",
        "\n",
        "    # Return the total.\n",
        "    return tf.reduce_sum(loss)/tf.reduce_sum(mask)"
      ]
    },
    {
      "cell_type": "code",
      "execution_count": 14,
      "metadata": {},
      "outputs": [],
      "source": [
        "alpha = 1\n",
        "def reg_loss(y_true, y_pred):\n",
        "    m_loss = masked_loss(y_true, y_pred)\n",
        "    weights = model.decoder.rnn.trainable_weights\n",
        "    w = weights[0]\n",
        "    det_reg = tf.math.square(tf.linalg.det(w)-1)\n",
        "    # Return the total.\n",
        "    return m_loss + alpha*det_reg"
      ]
    },
    {
      "cell_type": "code",
      "execution_count": 15,
      "metadata": {
        "id": "b8lGVB0Rrf2f"
      },
      "outputs": [],
      "source": [
        "def masked_acc(y_true, y_pred):\n",
        "    # Calculate the loss for each item in the batch.\n",
        "    y_pred = tf.argmax(y_pred, axis=-1)\n",
        "    y_pred = tf.cast(y_pred, y_true.dtype)\n",
        "\n",
        "    match = tf.cast(y_true == y_pred, tf.float32)\n",
        "    mask = tf.cast(y_true != 0, tf.float32)\n",
        "\n",
        "    return tf.reduce_sum(match)/tf.reduce_sum(mask)"
      ]
    },
    {
      "attachments": {},
      "cell_type": "markdown",
      "metadata": {
        "id": "92wKGN7grf2e"
      },
      "source": [
        "### define model"
      ]
    },
    {
      "cell_type": "code",
      "execution_count": 16,
      "metadata": {
        "colab": {
          "base_uri": "https://localhost:8080/"
        },
        "id": "RUHCEaiGHj53",
        "outputId": "28cac008-821d-4403-d47f-8da25e3f7970"
      },
      "outputs": [],
      "source": [
        "%load_ext autoreload\n",
        "\n",
        "%autoreload 2"
      ]
    },
    {
      "cell_type": "code",
      "execution_count": 17,
      "metadata": {
        "id": "FIZKmw-4Hj53"
      },
      "outputs": [],
      "source": [
        "if config[\"model\"] == \"crnn\":\n",
        "    # from context_rnn_translate_model import Translator\n",
        "    # wandb.run.log_code(include_fn=lambda path: path.endswith(\"attention_gru_translate_model.py\"))\n",
        "\n",
        "    import tensorflow as tf\n",
        "    from tensorflow.keras import layers\n",
        "\n",
        "    from tensorflow.linalg import LinearOperatorFullMatrix\n",
        "    import numpy as np\n",
        "\n",
        "\n",
        "    class ContextualRNNCell(layers.Layer):\n",
        "        '''\n",
        "        n -- latent space dimension\n",
        "        m -- input size\n",
        "        '''\n",
        "\n",
        "        def __init__(self, units, **kwargs):\n",
        "            super().__init__(**kwargs)\n",
        "            self.n = units\n",
        "            self.state_size = [\n",
        "                tf.TensorShape((self.n, self.n)),\n",
        "                tf.TensorShape((self.n, self.n)),\n",
        "                tf.TensorShape((self.n, 1))]\n",
        "            self.ftype = tf.float32\n",
        "\n",
        "        def build(self, input_shape):\n",
        "\n",
        "            self.m = input_shape[-1]\n",
        "            n, m = self.n, self.m\n",
        "            self.W = tf.Variable(tf.linalg.eye(*(n+m,)*2, batch_shape=(1,), dtype=self.ftype))  # trainable param\n",
        "\n",
        "            # trainable dense layers\n",
        "            self.f = layers.Dense(n, dtype=self.ftype)\n",
        "            self.g = layers.Dense(m, dtype=self.ftype)\n",
        "\n",
        "            # constant dense layers\n",
        "            self.h = layers.Dense(m, dtype=self.ftype)\n",
        "            self.h.trainable = False\n",
        "            self.r = layers.Dense(m*m, dtype=self.ftype)\n",
        "            self.r.trainable = False\n",
        "\n",
        "            proj_h = np.hstack([np.identity(n), np.zeros((n, m))])  # projector on hidden space (first n coords)\n",
        "            proj_y = np.hstack([np.zeros((m, n)), np.identity(m)])  # projector measured space (last m coords)\n",
        "            self.proj_h = tf.convert_to_tensor(proj_h, dtype=self.ftype)\n",
        "            self.proj_y = tf.convert_to_tensor(proj_y, dtype=self.ftype)\n",
        "\n",
        "        def call(self, input, states):\n",
        "            A_prev, J_prev, alpha_prev = states\n",
        "            x = input\n",
        "\n",
        "            x = tf.cast(x, self.ftype)\n",
        "            # alpha = alpha_prev + tf.linalg.inv(A_prev)@tf.expand_dims(self.f(x), 2)\n",
        "            alpha = alpha_prev + tf.expand_dims(self.f(x), 2)\n",
        "\n",
        "            beta = tf.expand_dims(self.g(x), 2)\n",
        "            # K    = self.h(x) # TODO dich kakaia-to\n",
        "            S = tf.reshape(self.r(x), (-1, self.m, self.m))\n",
        "            B = S@tf.transpose(S, [0, 2, 1])\n",
        "\n",
        "            U = tf.linalg.LinearOperatorBlockDiag([LinearOperatorFullMatrix(A_prev),\n",
        "                                                LinearOperatorFullMatrix(B)]).to_dense()\n",
        "            gamma = tf.concat([alpha, beta], 1)\n",
        "\n",
        "            # transform the graph state by performing a Gaussian operation\n",
        "            U = self.W@U@tf.transpose(self.W, [0, 2, 1])\n",
        "            w_inv_t = tf.transpose(tf.linalg.inv(self.W), [0, 2, 1])\n",
        "            gamma = w_inv_t@gamma\n",
        "            # L = w_inv_t@L\n",
        "\n",
        "            # read out the lattice and stabilizer phases\n",
        "            y = self.proj_y@gamma  # Пy@L\n",
        "\n",
        "            # project out the measured register\n",
        "            A = self.proj_h@U@tf.transpose(self.proj_h, [1, 0])\n",
        "            alpha = self.proj_h@gamma\n",
        "            return y[..., 0], (A, J_prev, alpha)    # TODO replace J_prev with counted new J\n",
        "\n",
        "        def get_initial_state(self, inputs=None, batch_size=None, dtype=None):\n",
        "            A = tf.eye(self.n, batch_shape=[batch_size], dtype=self.ftype)\n",
        "            J = tf.zeros((batch_size, self.n, self.n), dtype=self.ftype)\n",
        "            alpha = tf.zeros((batch_size, self.n, 1), dtype=self.ftype)\n",
        "\n",
        "            return A, J, alpha\n",
        "\n",
        "\n",
        "    def get_rnn_layer(units, **kwargs):\n",
        "        return layers.RNN(\n",
        "            ContextualRNNCell(units),\n",
        "            **kwargs)\n",
        "\n",
        "\n",
        "    class Encoder(tf.keras.layers.Layer):\n",
        "        def __init__(self, text_processor, units, input_dim):\n",
        "            super(Encoder, self).__init__()\n",
        "            self.text_processor = text_processor\n",
        "            self.vocab_size = text_processor.vocabulary_size()\n",
        "            self.units = units\n",
        "\n",
        "            # The embedding layer converts tokens to vectors\n",
        "            self.embedding = tf.keras.layers.Embedding(self.vocab_size, input_dim,\n",
        "                                                    mask_zero=True)\n",
        "\n",
        "            # The RNN layer processes those vectors sequentially.\n",
        "            self.rnn = get_rnn_layer(units, return_state=True)\n",
        "\n",
        "        def call(self, x):\n",
        "            # 2. The embedding layer looks up the embedding vector for each token.\n",
        "            x = self.embedding(x)\n",
        "\n",
        "            # 3. The GRU processes the sequence of embeddings.\n",
        "            x, *last_state = self.rnn(x)\n",
        "\n",
        "            return last_state\n",
        "\n",
        "        def convert_input(self, texts):\n",
        "            texts = tf.convert_to_tensor(texts)\n",
        "            if len(texts.shape) == 0:\n",
        "                texts = tf.convert_to_tensor(texts)[tf.newaxis]\n",
        "            context = self.text_processor(texts).to_tensor()\n",
        "            last_state = self(context)\n",
        "            return last_state\n",
        "\n",
        "\n",
        "    class Decoder(tf.keras.layers.Layer):\n",
        "\n",
        "        def __init__(self, text_processor, units):\n",
        "            super(Decoder, self).__init__()\n",
        "            self.text_processor = text_processor\n",
        "            self.vocab_size = text_processor.vocabulary_size()\n",
        "            self.word_to_id = tf.keras.layers.StringLookup(\n",
        "                vocabulary=text_processor.get_vocabulary(),\n",
        "                mask_token='', oov_token='[UNK]')\n",
        "            self.id_to_word = tf.keras.layers.StringLookup(\n",
        "                vocabulary=text_processor.get_vocabulary(),\n",
        "                mask_token='', oov_token='[UNK]',\n",
        "                invert=True)\n",
        "            self.start_token = self.word_to_id('[START]')\n",
        "            self.end_token = self.word_to_id('[END]')\n",
        "\n",
        "            self.units = units\n",
        "\n",
        "            # 1. The embedding layer converts token IDs to vectors\n",
        "            self.embedding = tf.keras.layers.Embedding(self.vocab_size,\n",
        "                                                    units, mask_zero=True)\n",
        "\n",
        "            # 2. The RNN keeps track of what's been generated so far.\n",
        "            self.rnn = get_rnn_layer(units, return_sequences=True, return_state=True)\n",
        "\n",
        "            # 4. This fully connected layer produces the logits for each\n",
        "            # output token.\n",
        "            self.output_layer = tf.keras.layers.Dense(self.vocab_size)\n",
        "\n",
        "        def call(self,\n",
        "                x,\n",
        "                state,\n",
        "                return_state=False):\n",
        "\n",
        "            # 1. Lookup the embeddings\n",
        "            x = self.embedding(x)\n",
        "\n",
        "            # 2. Process the target sequence.\n",
        "            y, *new_states = self.rnn(x, initial_state=state)\n",
        "            if len(new_states) == 1:\n",
        "                new_states = new_states[0]\n",
        "\n",
        "            # Step 4. Generate logit predictions for the next token.\n",
        "            logits = self.output_layer(y)\n",
        "\n",
        "            if return_state:\n",
        "                return logits, new_states\n",
        "            else:\n",
        "                return logits\n",
        "\n",
        "        def get_initial_state(self, batch_size):\n",
        "            start_tokens = tf.fill([batch_size, 1], self.start_token)\n",
        "            done = tf.zeros([batch_size, 1], dtype=tf.bool)\n",
        "            embedded = self.embedding(start_tokens)\n",
        "            return start_tokens, done, self.rnn.get_initial_state(embedded)\n",
        "\n",
        "        def tokens_to_text(self, tokens):\n",
        "            words = self.id_to_word(tokens)\n",
        "            result = tf.strings.reduce_join(words, axis=-1, separator=' ')\n",
        "            result = tf.strings.regex_replace(result, '^ *\\[START\\] *', '')\n",
        "            result = tf.strings.regex_replace(result, ' *\\[END\\] *$', '')\n",
        "            return result\n",
        "\n",
        "        def get_next_token(self, last_token, done, state, temperature=0.0):\n",
        "            logits, state = self(\n",
        "                last_token,\n",
        "                state,\n",
        "                return_state=True)\n",
        "\n",
        "            if temperature == 0.0:\n",
        "                next_token = tf.argmax(logits, axis=-1)\n",
        "            else:\n",
        "                logits = logits[:, -1, :]/temperature\n",
        "                next_token = tf.random.categorical(logits, num_samples=1)\n",
        "\n",
        "            # If a sequence produces an `end_token`, set it `done`\n",
        "            done = done | (next_token == self.end_token)\n",
        "            # Once a sequence is done it only produces 0-padding.\n",
        "            next_token = tf.where(done, tf.constant(0, dtype=tf.int64), next_token)\n",
        "\n",
        "            return next_token, done, state\n",
        "\n",
        "\n",
        "    class Translator(tf.keras.Model):\n",
        "\n",
        "        def __init__(self, units,\n",
        "                    context_text_processor,\n",
        "                    target_text_processor,\n",
        "                    input_dim):\n",
        "            super().__init__()\n",
        "            # Build the encoder and decoder\n",
        "            encoder = Encoder(context_text_processor, units, input_dim)\n",
        "            decoder = Decoder(target_text_processor, units)\n",
        "\n",
        "            self.encoder = encoder\n",
        "            self.decoder = decoder\n",
        "            self.my_gradients = []\n",
        "\n",
        "        def call(self, inputs):\n",
        "            context, x = inputs\n",
        "\n",
        "            encoder_state = self.encoder(context)\n",
        "            logits = self.decoder(x, encoder_state)\n",
        "\n",
        "            # TODO(b/250038731): remove this\n",
        "            try:\n",
        "                # Delete the keras mask, so keras doesn't scale the loss+accuracy.\n",
        "                del logits._keras_mask\n",
        "            except AttributeError:\n",
        "                pass\n",
        "\n",
        "            return logits\n",
        "\n",
        "        def translate(self,\n",
        "                    texts, *,\n",
        "                    max_length=50,\n",
        "                    temperature=0.0):\n",
        "            # Process the input texts\n",
        "            last_state = self.encoder.convert_input(texts)\n",
        "            if type(last_state) == list:\n",
        "                batch_size = tf.shape(last_state[0])[0]\n",
        "            else:\n",
        "                batch_size = tf.shape(last_state)[0]\n",
        "\n",
        "            # Setup the loop inputs\n",
        "            tokens = []\n",
        "            next_token, done, _ = self.decoder.get_initial_state(batch_size)\n",
        "            state = last_state\n",
        "            for _ in range(max_length):\n",
        "                # Generate the next token\n",
        "                next_token, done, state = self.decoder.get_next_token(\n",
        "                    next_token, done,  state, temperature)\n",
        "\n",
        "                # Collect the generated tokens\n",
        "                tokens.append(next_token)\n",
        "\n",
        "                if tf.executing_eagerly() and tf.reduce_all(done):\n",
        "                    break\n",
        "\n",
        "            # Stack the lists of tokens and attention weights.\n",
        "            tokens = tf.concat(tokens, axis=-1)   # t*[(batch 1)] -> (batch, t)\n",
        "\n",
        "            result = self.decoder.tokens_to_text(tokens)\n",
        "            return result\n",
        "\n",
        "        def train_step(self, data):\n",
        "            \n",
        "            res = super().train_step(data)\n",
        "            \n",
        "            # # Unpack the data. Its structure depends on your model and\n",
        "            # # on what you pass to `fit()`.\n",
        "            # x, y = data\n",
        "\n",
        "            # with tf.GradientTape() as tape:\n",
        "            #     y_pred = self(x, training=True)  # Forward pass\n",
        "            #     # Compute the loss value\n",
        "            #     # (the loss function is configured in `compile()`)\n",
        "            #     loss = self.compute_loss(y=y, y_pred=y_pred)\n",
        "\n",
        "            # # Compute gradients\n",
        "            # trainable_vars = self.trainable_variables\n",
        "            # gradients = tape.gradient(loss, trainable_vars)\n",
        "            # # Update weights\n",
        "            # self.optimizer.apply_gradients(zip(gradients, trainable_vars))\n",
        "            # # Update metrics (includes the metric that tracks the loss)\n",
        "            # for metric in self.metrics:\n",
        "            #     if metric.name == \"loss\":\n",
        "            #         metric.update_state(loss)\n",
        "            #     else:\n",
        "            #         metric.update_state(y, y_pred)\n",
        "            # # Return a dict mapping metric names to current value\n",
        "            \n",
        "            weights = self.decoder.rnn.trainable_weights\n",
        "            w = weights[0]\n",
        "            det = tf.linalg.det(w)\n",
        "            res[\"det\"] = tf.squeeze(det)\n",
        "\n",
        "            # log gradients\n",
        "            x, y = data\n",
        "\n",
        "            with tf.GradientTape() as tape:\n",
        "                y_pred = self(x, training=True)  # Forward pass\n",
        "                # Compute the loss value\n",
        "                # (the loss function is configured in `compile()`)\n",
        "                loss = self.compute_loss(y=y, y_pred=y_pred)\n",
        "\n",
        "            # Compute gradients\n",
        "            trainable_vars = self.decoder.rnn.trainable_weights\n",
        "            gradients = tape.gradient(loss, trainable_vars)\n",
        "            self.my_gradients.append(gradients)\n",
        "            w_grads = gradients[0]\n",
        "            mean_grad = tf.reduce_mean(w_grads)\n",
        "            max_grad = tf.reduce_max(w_grads)\n",
        "            min_grad = tf.reduce_min(w_grads)\n",
        "            var_grad = tf.math.reduce_std(w_grads)\n",
        "            \n",
        "            res[\"mean_grad\"] = mean_grad\n",
        "            res[\"max_grad\"] = max_grad\n",
        "            res[\"min_grad\"] = min_grad\n",
        "            res[\"var_grad\"] = var_grad\n",
        "            return res\n",
        "\n",
        "        \n",
        "    model_kwargs = {}\n",
        "\n",
        "else:\n",
        "    raise NotImplementedError(\"Model \" + config[\"model\"] + \" is not implemented\")"
      ]
    },
    {
      "cell_type": "code",
      "execution_count": 18,
      "metadata": {
        "id": "A2ndQ8Nwrf2f"
      },
      "outputs": [],
      "source": [
        "model = Translator(UNITS, context_text_processor, target_text_processor, input_dim, **model_kwargs)"
      ]
    },
    {
      "cell_type": "code",
      "execution_count": 19,
      "metadata": {
        "id": "9zHF56Ujrf2f"
      },
      "outputs": [],
      "source": [
        "model.compile(optimizer=Adam(learning_rate=config[\"lr\"],\n",
        "                             clipvalue=config[\"grad_clipping\"]),\n",
        "              # loss=reg_loss,\n",
        "              loss=masked_loss,\n",
        "              metrics=[\n",
        "                  masked_loss,\n",
        "                  masked_acc,\n",
        "                  ],\n",
        "              run_eagerly=False)"
      ]
    },
    {
      "cell_type": "code",
      "execution_count": 20,
      "metadata": {
        "colab": {
          "base_uri": "https://localhost:8080/"
        },
        "id": "w3-cVb8grf2f",
        "outputId": "545af6a8-7a63-4cd8-d256-ae3e211d8906"
      },
      "outputs": [
        {
          "name": "stdout",
          "output_type": "stream",
          "text": [
            "Epoch 1/80\n",
            "1747/1747 [==============================] - 333s 186ms/step - loss: 5.3193 - masked_loss: 5.3301 - masked_acc: 0.1717 - det: 0.2188 - mean_grad: -7.9090e-05 - max_grad: 0.3447 - min_grad: -0.3413 - var_grad: 0.0744 - val_loss: 4.7164 - val_masked_loss: 4.7164 - val_masked_acc: 0.2209\n",
            "Epoch 2/80\n",
            "1747/1747 [==============================] - 338s 193ms/step - loss: 4.4712 - masked_loss: 4.4856 - masked_acc: 0.2559 - det: 0.0104 - mean_grad: 2.0946e-04 - max_grad: 0.6342 - min_grad: -0.6858 - var_grad: 0.1122 - val_loss: 4.2421 - val_masked_loss: 4.2421 - val_masked_acc: 0.2830\n",
            "Epoch 3/80\n",
            "1747/1747 [==============================] - 353s 202ms/step - loss: 4.0840 - masked_loss: 4.1045 - masked_acc: 0.2990 - det: 0.0015 - mean_grad: 3.4805e-04 - max_grad: 0.7501 - min_grad: -0.7530 - var_grad: 0.1270 - val_loss: 3.9824 - val_masked_loss: 3.9824 - val_masked_acc: 0.3132\n",
            "Epoch 4/80\n",
            "1747/1747 [==============================] - 348s 199ms/step - loss: 3.8628 - masked_loss: 3.8776 - masked_acc: 0.3230 - det: 6.1276e-04 - mean_grad: 3.8783e-04 - max_grad: 0.7356 - min_grad: -0.7440 - var_grad: 0.1283 - val_loss: 3.8036 - val_masked_loss: 3.8036 - val_masked_acc: 0.3321\n",
            "Epoch 5/80\n",
            "1747/1747 [==============================] - 376s 215ms/step - loss: 3.6899 - masked_loss: 3.7060 - masked_acc: 0.3431 - det: 2.0841e-04 - mean_grad: 4.4006e-04 - max_grad: 0.7260 - min_grad: -0.7235 - var_grad: 0.1257 - val_loss: 3.6525 - val_masked_loss: 3.6525 - val_masked_acc: 0.3508\n",
            "Epoch 6/80\n",
            "1747/1747 [==============================] - 372s 213ms/step - loss: 3.5382 - masked_loss: 3.5555 - masked_acc: 0.3611 - det: 8.3428e-05 - mean_grad: 8.2144e-04 - max_grad: 0.8270 - min_grad: -0.8509 - var_grad: 0.1409 - val_loss: 3.5578 - val_masked_loss: 3.5578 - val_masked_acc: 0.3622\n",
            "Epoch 7/80\n",
            "1747/1747 [==============================] - 354s 202ms/step - loss: 3.4063 - masked_loss: 3.4226 - masked_acc: 0.3745 - det: 4.3606e-05 - mean_grad: 1.5895e-04 - max_grad: 0.8660 - min_grad: -0.8586 - var_grad: 0.1448 - val_loss: 3.3954 - val_masked_loss: 3.3954 - val_masked_acc: 0.3798\n",
            "Epoch 8/80\n",
            "1747/1747 [==============================] - 339s 194ms/step - loss: 3.2958 - masked_loss: 3.3120 - masked_acc: 0.3862 - det: 2.9701e-05 - mean_grad: 3.5128e-04 - max_grad: 0.8841 - min_grad: -0.9470 - var_grad: 0.1569 - val_loss: 3.3110 - val_masked_loss: 3.3110 - val_masked_acc: 0.3869\n",
            "Epoch 9/80\n",
            "1747/1747 [==============================] - 362s 207ms/step - loss: 3.2101 - masked_loss: 3.2293 - masked_acc: 0.3943 - det: 2.6642e-05 - mean_grad: 2.5828e-04 - max_grad: 0.8164 - min_grad: -0.8295 - var_grad: 0.1448 - val_loss: 3.3648 - val_masked_loss: 3.3648 - val_masked_acc: 0.3868\n",
            "Epoch 10/80\n",
            "1747/1747 [==============================] - 351s 201ms/step - loss: 3.1440 - masked_loss: 3.1618 - masked_acc: 0.4014 - det: 2.7128e-05 - mean_grad: -1.4355e-04 - max_grad: 0.8403 - min_grad: -0.8437 - var_grad: 0.1517 - val_loss: 3.2441 - val_masked_loss: 3.2441 - val_masked_acc: 0.3981\n",
            "Epoch 11/80\n",
            "1747/1747 [==============================] - 339s 194ms/step - loss: 3.0907 - masked_loss: 3.1097 - masked_acc: 0.4071 - det: 3.3284e-05 - mean_grad: 7.2721e-05 - max_grad: 0.8183 - min_grad: -0.8260 - var_grad: 0.1473 - val_loss: 3.2069 - val_masked_loss: 3.2069 - val_masked_acc: 0.3952\n",
            "Epoch 12/80\n",
            "1747/1747 [==============================] - 332s 190ms/step - loss: 3.0504 - masked_loss: 3.0676 - masked_acc: 0.4123 - det: 4.2906e-05 - mean_grad: 3.3887e-04 - max_grad: 0.8796 - min_grad: -0.8746 - var_grad: 0.1611 - val_loss: 3.2450 - val_masked_loss: 3.2450 - val_masked_acc: 0.4015\n",
            "Epoch 13/80\n",
            "1747/1747 [==============================] - 333s 190ms/step - loss: 3.0132 - masked_loss: 3.0333 - masked_acc: 0.4167 - det: 5.9736e-05 - mean_grad: 1.9445e-04 - max_grad: 0.7951 - min_grad: -0.7860 - var_grad: 0.1466 - val_loss: 3.1856 - val_masked_loss: 3.1856 - val_masked_acc: 0.4049\n",
            "Epoch 14/80\n",
            "1747/1747 [==============================] - 332s 190ms/step - loss: 2.9814 - masked_loss: 3.0000 - masked_acc: 0.4209 - det: 8.7185e-05 - mean_grad: 5.6725e-04 - max_grad: 0.8421 - min_grad: -0.8436 - var_grad: 0.1548 - val_loss: 3.1665 - val_masked_loss: 3.1665 - val_masked_acc: 0.4057\n",
            "Epoch 15/80\n",
            "1747/1747 [==============================] - 329s 188ms/step - loss: 2.9583 - masked_loss: 2.9794 - masked_acc: 0.4235 - det: 1.3450e-04 - mean_grad: 3.3138e-04 - max_grad: 0.7698 - min_grad: -0.7661 - var_grad: 0.1452 - val_loss: 3.1444 - val_masked_loss: 3.1444 - val_masked_acc: 0.4078\n",
            "Epoch 16/80\n",
            "1747/1747 [==============================] - 325s 186ms/step - loss: 2.9375 - masked_loss: 2.9579 - masked_acc: 0.4259 - det: 2.0510e-04 - mean_grad: 4.1117e-04 - max_grad: 0.8244 - min_grad: -0.7953 - var_grad: 0.1543 - val_loss: 3.1094 - val_masked_loss: 3.1094 - val_masked_acc: 0.4101\n",
            "Epoch 17/80\n",
            "1747/1747 [==============================] - 325s 186ms/step - loss: 2.9148 - masked_loss: 2.9333 - masked_acc: 0.4283 - det: 3.1565e-04 - mean_grad: -1.6407e-04 - max_grad: 0.7483 - min_grad: -0.7938 - var_grad: 0.1458 - val_loss: 3.1583 - val_masked_loss: 3.1583 - val_masked_acc: 0.4149\n",
            "Epoch 18/80\n",
            "1747/1747 [==============================] - 326s 186ms/step - loss: 2.8992 - masked_loss: 2.9204 - masked_acc: 0.4308 - det: 5.0676e-04 - mean_grad: 2.4715e-04 - max_grad: 0.7462 - min_grad: -0.7379 - var_grad: 0.1422 - val_loss: 3.0749 - val_masked_loss: 3.0749 - val_masked_acc: 0.4158\n",
            "Epoch 19/80\n",
            "1747/1747 [==============================] - 330s 189ms/step - loss: 2.8832 - masked_loss: 2.9006 - masked_acc: 0.4329 - det: 7.8198e-04 - mean_grad: 1.1064e-04 - max_grad: 0.7781 - min_grad: -0.7303 - var_grad: 0.1428 - val_loss: 3.0835 - val_masked_loss: 3.0835 - val_masked_acc: 0.4212\n",
            "Epoch 20/80\n",
            "1747/1747 [==============================] - 325s 186ms/step - loss: 2.8689 - masked_loss: 2.8887 - masked_acc: 0.4351 - det: 0.0012 - mean_grad: 7.3667e-05 - max_grad: 0.7376 - min_grad: -0.7449 - var_grad: 0.1395 - val_loss: 3.0676 - val_masked_loss: 3.0676 - val_masked_acc: 0.4235\n",
            "Epoch 21/80\n",
            "1747/1747 [==============================] - 327s 187ms/step - loss: 2.8594 - masked_loss: 2.8761 - masked_acc: 0.4364 - det: 0.0019 - mean_grad: 3.0254e-04 - max_grad: 0.8153 - min_grad: -0.8285 - var_grad: 0.1487 - val_loss: 3.0318 - val_masked_loss: 3.0318 - val_masked_acc: 0.4229\n",
            "Epoch 22/80\n",
            "1747/1747 [==============================] - 326s 186ms/step - loss: 2.8450 - masked_loss: 2.8637 - masked_acc: 0.4380 - det: 0.0028 - mean_grad: 2.6990e-04 - max_grad: 0.7084 - min_grad: -0.7103 - var_grad: 0.1344 - val_loss: 3.0456 - val_masked_loss: 3.0456 - val_masked_acc: 0.4278\n",
            "Epoch 23/80\n",
            "1747/1747 [==============================] - 328s 188ms/step - loss: 2.8355 - masked_loss: 2.8542 - masked_acc: 0.4398 - det: 0.0044 - mean_grad: 1.5639e-04 - max_grad: 0.6815 - min_grad: -0.6876 - var_grad: 0.1314 - val_loss: 3.0063 - val_masked_loss: 3.0063 - val_masked_acc: 0.4270\n",
            "Epoch 24/80\n",
            "1747/1747 [==============================] - 325s 186ms/step - loss: 2.8270 - masked_loss: 2.8466 - masked_acc: 0.4408 - det: 0.0066 - mean_grad: 2.4659e-04 - max_grad: 0.6758 - min_grad: -0.6803 - var_grad: 0.1284 - val_loss: 3.0441 - val_masked_loss: 3.0441 - val_masked_acc: 0.4240\n",
            "Epoch 25/80\n",
            "1747/1747 [==============================] - 325s 186ms/step - loss: 2.8194 - masked_loss: 2.8387 - masked_acc: 0.4418 - det: 0.0095 - mean_grad: 3.6314e-04 - max_grad: 0.6505 - min_grad: -0.6692 - var_grad: 0.1251 - val_loss: 2.9658 - val_masked_loss: 2.9658 - val_masked_acc: 0.4379\n",
            "Epoch 26/80\n",
            "1747/1747 [==============================] - 326s 187ms/step - loss: 2.8108 - masked_loss: 2.8283 - masked_acc: 0.4430 - det: 0.0139 - mean_grad: 2.3672e-04 - max_grad: 0.6733 - min_grad: -0.6763 - var_grad: 0.1262 - val_loss: 3.0259 - val_masked_loss: 3.0259 - val_masked_acc: 0.4262\n",
            "Epoch 27/80\n",
            "1747/1747 [==============================] - 329s 188ms/step - loss: 2.8089 - masked_loss: 2.8273 - masked_acc: 0.4439 - det: 0.0193 - mean_grad: 1.0160e-04 - max_grad: 0.7183 - min_grad: -0.6969 - var_grad: 0.1307 - val_loss: 3.0511 - val_masked_loss: 3.0511 - val_masked_acc: 0.4221\n",
            "Epoch 28/80\n",
            "1747/1747 [==============================] - 325s 186ms/step - loss: 2.7975 - masked_loss: 2.8166 - masked_acc: 0.4451 - det: 0.0274 - mean_grad: 4.1491e-04 - max_grad: 0.6901 - min_grad: -0.7252 - var_grad: 0.1260 - val_loss: 3.0285 - val_masked_loss: 3.0285 - val_masked_acc: 0.4266\n",
            "Epoch 29/80\n",
            "1747/1747 [==============================] - 325s 186ms/step - loss: 2.7964 - masked_loss: 2.8158 - masked_acc: 0.4452 - det: 0.0394 - mean_grad: 3.1453e-04 - max_grad: 0.6801 - min_grad: -0.6743 - var_grad: 0.1252 - val_loss: 3.0241 - val_masked_loss: 3.0241 - val_masked_acc: 0.4281\n",
            "Epoch 30/80\n",
            "1747/1747 [==============================] - 330s 189ms/step - loss: 2.7882 - masked_loss: 2.8044 - masked_acc: 0.4462 - det: 0.0536 - mean_grad: 3.4817e-04 - max_grad: 0.6557 - min_grad: -0.6657 - var_grad: 0.1245 - val_loss: 3.0135 - val_masked_loss: 3.0135 - val_masked_acc: 0.4267\n",
            "Epoch 31/80\n",
            "1747/1747 [==============================] - 325s 186ms/step - loss: 2.7870 - masked_loss: 2.8069 - masked_acc: 0.4467 - det: 0.0748 - mean_grad: 2.3681e-04 - max_grad: 0.6264 - min_grad: -0.6494 - var_grad: 0.1207 - val_loss: 2.9813 - val_masked_loss: 2.9813 - val_masked_acc: 0.4307\n"
          ]
        }
      ],
      "source": [
        "history = model.fit(\n",
        "    train_ds,\n",
        "    epochs=config[\"epochs\"],\n",
        "    # steps_per_epoch = 100,\n",
        "    validation_data=val_ds,\n",
        "    validation_steps = 40,\n",
        "    callbacks=[\n",
        "        tf.keras.callbacks.EarlyStopping(patience=6),\n",
        "        WandbMetricsLogger(log_freq=\"batch\"),\n",
        "        ])"
      ]
    },
    {
      "attachments": {},
      "cell_type": "markdown",
      "metadata": {},
      "source": [
        "### Testing on one batch"
      ]
    },
    {
      "cell_type": "code",
      "execution_count": 21,
      "metadata": {},
      "outputs": [],
      "source": [
        "test_data = next(iter(train_ds.take(1)))"
      ]
    },
    {
      "cell_type": "code",
      "execution_count": 22,
      "metadata": {},
      "outputs": [
        {
          "name": "stdout",
          "output_type": "stream",
          "text": [
            "Loss tf.Tensor(2.663781, shape=(), dtype=float32)\n"
          ]
        }
      ],
      "source": [
        "test_input, test_output = test_data\n",
        "\n",
        "output = model(test_input)\n",
        "print(\"Loss\", masked_loss(test_output, output))"
      ]
    },
    {
      "cell_type": "code",
      "execution_count": 23,
      "metadata": {},
      "outputs": [],
      "source": [
        "part_of_dataset = val_ds.take(200)"
      ]
    },
    {
      "cell_type": "code",
      "execution_count": 24,
      "metadata": {},
      "outputs": [
        {
          "name": "stdout",
          "output_type": "stream",
          "text": [
            "Loss tf.Tensor(2.9887414, shape=(), dtype=float32)\n",
            "Loss tf.Tensor(2.9990332, shape=(), dtype=float32)\n",
            "Loss tf.Tensor(3.0984068, shape=(), dtype=float32)\n",
            "Loss tf.Tensor(3.1669922, shape=(), dtype=float32)\n",
            "Loss tf.Tensor(2.7969632, shape=(), dtype=float32)\n",
            "Loss tf.Tensor(3.188251, shape=(), dtype=float32)\n",
            "Loss tf.Tensor(3.2106073, shape=(), dtype=float32)\n",
            "Loss tf.Tensor(2.9652476, shape=(), dtype=float32)\n",
            "Loss tf.Tensor(3.0977516, shape=(), dtype=float32)\n",
            "Loss tf.Tensor(2.7506406, shape=(), dtype=float32)\n",
            "Loss tf.Tensor(2.9570322, shape=(), dtype=float32)\n",
            "Loss tf.Tensor(3.4408426, shape=(), dtype=float32)\n",
            "Loss tf.Tensor(3.0453057, shape=(), dtype=float32)\n",
            "Loss tf.Tensor(2.9774544, shape=(), dtype=float32)\n",
            "Loss tf.Tensor(2.690842, shape=(), dtype=float32)\n",
            "Loss tf.Tensor(3.108152, shape=(), dtype=float32)\n",
            "Loss tf.Tensor(2.826685, shape=(), dtype=float32)\n",
            "Loss tf.Tensor(3.0279596, shape=(), dtype=float32)\n",
            "Loss tf.Tensor(2.9151945, shape=(), dtype=float32)\n",
            "Loss tf.Tensor(2.784515, shape=(), dtype=float32)\n",
            "Loss tf.Tensor(3.067799, shape=(), dtype=float32)\n",
            "Loss tf.Tensor(2.8816795, shape=(), dtype=float32)\n",
            "Loss tf.Tensor(3.017314, shape=(), dtype=float32)\n",
            "Loss tf.Tensor(3.2306116, shape=(), dtype=float32)\n",
            "Loss tf.Tensor(3.2369907, shape=(), dtype=float32)\n",
            "Loss tf.Tensor(2.8115592, shape=(), dtype=float32)\n",
            "Loss tf.Tensor(2.5799525, shape=(), dtype=float32)\n",
            "Loss tf.Tensor(3.0528722, shape=(), dtype=float32)\n",
            "Loss tf.Tensor(3.0917764, shape=(), dtype=float32)\n",
            "Loss tf.Tensor(3.1898785, shape=(), dtype=float32)\n",
            "Loss tf.Tensor(3.0201485, shape=(), dtype=float32)\n",
            "Loss tf.Tensor(3.1805658, shape=(), dtype=float32)\n",
            "Loss tf.Tensor(3.0909107, shape=(), dtype=float32)\n",
            "Loss tf.Tensor(2.7251155, shape=(), dtype=float32)\n",
            "Loss tf.Tensor(2.8426561, shape=(), dtype=float32)\n",
            "Loss tf.Tensor(3.082989, shape=(), dtype=float32)\n",
            "Loss tf.Tensor(2.8359532, shape=(), dtype=float32)\n",
            "Loss tf.Tensor(3.4074855, shape=(), dtype=float32)\n",
            "Loss tf.Tensor(2.8065867, shape=(), dtype=float32)\n",
            "Loss tf.Tensor(2.982325, shape=(), dtype=float32)\n",
            "Loss tf.Tensor(2.95529, shape=(), dtype=float32)\n",
            "Loss tf.Tensor(2.98438, shape=(), dtype=float32)\n",
            "Loss tf.Tensor(2.9472642, shape=(), dtype=float32)\n",
            "Loss tf.Tensor(2.928179, shape=(), dtype=float32)\n",
            "Loss tf.Tensor(2.9163494, shape=(), dtype=float32)\n",
            "Loss tf.Tensor(2.851477, shape=(), dtype=float32)\n",
            "Loss tf.Tensor(3.2142777, shape=(), dtype=float32)\n",
            "Loss tf.Tensor(3.1760845, shape=(), dtype=float32)\n",
            "Loss tf.Tensor(2.5724168, shape=(), dtype=float32)\n",
            "Loss tf.Tensor(3.043892, shape=(), dtype=float32)\n",
            "Loss tf.Tensor(3.1404846, shape=(), dtype=float32)\n",
            "Loss tf.Tensor(3.1651952, shape=(), dtype=float32)\n",
            "Loss tf.Tensor(3.0883017, shape=(), dtype=float32)\n",
            "Loss tf.Tensor(3.3109806, shape=(), dtype=float32)\n",
            "Loss tf.Tensor(3.168973, shape=(), dtype=float32)\n",
            "Loss tf.Tensor(2.8268485, shape=(), dtype=float32)\n",
            "Loss tf.Tensor(2.851731, shape=(), dtype=float32)\n",
            "Loss tf.Tensor(2.9796557, shape=(), dtype=float32)\n",
            "Loss tf.Tensor(3.0550606, shape=(), dtype=float32)\n",
            "Loss tf.Tensor(3.2150617, shape=(), dtype=float32)\n",
            "Loss tf.Tensor(2.6578608, shape=(), dtype=float32)\n",
            "Loss tf.Tensor(3.0410104, shape=(), dtype=float32)\n",
            "Loss tf.Tensor(3.0146182, shape=(), dtype=float32)\n",
            "Loss tf.Tensor(2.8962994, shape=(), dtype=float32)\n",
            "Loss tf.Tensor(2.9505165, shape=(), dtype=float32)\n",
            "Loss tf.Tensor(2.6528268, shape=(), dtype=float32)\n",
            "Loss tf.Tensor(2.6504717, shape=(), dtype=float32)\n",
            "Loss tf.Tensor(3.0449054, shape=(), dtype=float32)\n",
            "Loss tf.Tensor(3.0527942, shape=(), dtype=float32)\n",
            "Loss tf.Tensor(3.276953, shape=(), dtype=float32)\n",
            "Loss tf.Tensor(3.235234, shape=(), dtype=float32)\n",
            "Loss tf.Tensor(2.86311, shape=(), dtype=float32)\n",
            "Loss tf.Tensor(3.0704453, shape=(), dtype=float32)\n",
            "Loss tf.Tensor(3.2048485, shape=(), dtype=float32)\n",
            "Loss tf.Tensor(3.0145996, shape=(), dtype=float32)\n",
            "Loss tf.Tensor(2.9286551, shape=(), dtype=float32)\n",
            "Loss tf.Tensor(3.3100605, shape=(), dtype=float32)\n",
            "Loss tf.Tensor(3.0695581, shape=(), dtype=float32)\n",
            "Loss tf.Tensor(3.4618676, shape=(), dtype=float32)\n",
            "Loss tf.Tensor(2.7511153, shape=(), dtype=float32)\n",
            "Loss tf.Tensor(2.9212236, shape=(), dtype=float32)\n",
            "Loss tf.Tensor(2.8723302, shape=(), dtype=float32)\n",
            "Loss tf.Tensor(2.962249, shape=(), dtype=float32)\n",
            "Loss tf.Tensor(2.839684, shape=(), dtype=float32)\n",
            "Loss tf.Tensor(2.944902, shape=(), dtype=float32)\n",
            "Loss tf.Tensor(3.0665662, shape=(), dtype=float32)\n",
            "Loss tf.Tensor(3.1022885, shape=(), dtype=float32)\n",
            "Loss tf.Tensor(3.0628326, shape=(), dtype=float32)\n",
            "Loss tf.Tensor(2.64985, shape=(), dtype=float32)\n",
            "Loss tf.Tensor(3.167945, shape=(), dtype=float32)\n",
            "Loss tf.Tensor(3.2707107, shape=(), dtype=float32)\n",
            "Loss tf.Tensor(3.1418765, shape=(), dtype=float32)\n",
            "Loss tf.Tensor(3.1960645, shape=(), dtype=float32)\n",
            "Loss tf.Tensor(3.0739224, shape=(), dtype=float32)\n",
            "Loss tf.Tensor(2.832117, shape=(), dtype=float32)\n",
            "Loss tf.Tensor(2.995006, shape=(), dtype=float32)\n",
            "Loss tf.Tensor(3.189936, shape=(), dtype=float32)\n",
            "Loss tf.Tensor(2.7672398, shape=(), dtype=float32)\n",
            "Loss tf.Tensor(3.3256297, shape=(), dtype=float32)\n",
            "Loss tf.Tensor(2.794405, shape=(), dtype=float32)\n",
            "Loss tf.Tensor(3.2881563, shape=(), dtype=float32)\n",
            "Loss tf.Tensor(3.2383761, shape=(), dtype=float32)\n",
            "Loss tf.Tensor(3.179924, shape=(), dtype=float32)\n",
            "Loss tf.Tensor(3.0550506, shape=(), dtype=float32)\n",
            "Loss tf.Tensor(2.944381, shape=(), dtype=float32)\n",
            "Loss tf.Tensor(3.0809433, shape=(), dtype=float32)\n",
            "Loss tf.Tensor(3.2362971, shape=(), dtype=float32)\n",
            "Loss tf.Tensor(2.8620694, shape=(), dtype=float32)\n",
            "Loss tf.Tensor(2.879446, shape=(), dtype=float32)\n",
            "Loss tf.Tensor(2.7549968, shape=(), dtype=float32)\n",
            "Loss tf.Tensor(3.3574052, shape=(), dtype=float32)\n",
            "Loss tf.Tensor(2.873462, shape=(), dtype=float32)\n",
            "Loss tf.Tensor(3.0317156, shape=(), dtype=float32)\n",
            "Loss tf.Tensor(2.98299, shape=(), dtype=float32)\n",
            "Loss tf.Tensor(3.0190995, shape=(), dtype=float32)\n",
            "Loss tf.Tensor(2.8273196, shape=(), dtype=float32)\n",
            "Loss tf.Tensor(2.9534576, shape=(), dtype=float32)\n",
            "Loss tf.Tensor(3.052064, shape=(), dtype=float32)\n",
            "Loss tf.Tensor(2.9603798, shape=(), dtype=float32)\n",
            "Loss tf.Tensor(2.8747995, shape=(), dtype=float32)\n",
            "Loss tf.Tensor(2.9893928, shape=(), dtype=float32)\n",
            "Loss tf.Tensor(3.0508237, shape=(), dtype=float32)\n",
            "Loss tf.Tensor(3.0471737, shape=(), dtype=float32)\n",
            "Loss tf.Tensor(3.3732555, shape=(), dtype=float32)\n",
            "Loss tf.Tensor(2.9143376, shape=(), dtype=float32)\n",
            "Loss tf.Tensor(3.0484765, shape=(), dtype=float32)\n",
            "Loss tf.Tensor(2.7674243, shape=(), dtype=float32)\n",
            "Loss tf.Tensor(2.871403, shape=(), dtype=float32)\n",
            "Loss tf.Tensor(3.120311, shape=(), dtype=float32)\n",
            "Loss tf.Tensor(2.7983644, shape=(), dtype=float32)\n",
            "Loss tf.Tensor(2.9518201, shape=(), dtype=float32)\n",
            "Loss tf.Tensor(3.185944, shape=(), dtype=float32)\n",
            "Loss tf.Tensor(3.0023463, shape=(), dtype=float32)\n",
            "Loss tf.Tensor(3.1282246, shape=(), dtype=float32)\n",
            "Loss tf.Tensor(3.0952275, shape=(), dtype=float32)\n",
            "Loss tf.Tensor(3.021328, shape=(), dtype=float32)\n",
            "Loss tf.Tensor(3.184512, shape=(), dtype=float32)\n",
            "Loss tf.Tensor(3.081677, shape=(), dtype=float32)\n",
            "Loss tf.Tensor(2.9762175, shape=(), dtype=float32)\n",
            "Loss tf.Tensor(2.8302984, shape=(), dtype=float32)\n",
            "Loss tf.Tensor(3.274354, shape=(), dtype=float32)\n",
            "Loss tf.Tensor(2.9761386, shape=(), dtype=float32)\n",
            "Loss tf.Tensor(3.1116033, shape=(), dtype=float32)\n",
            "Loss tf.Tensor(3.417789, shape=(), dtype=float32)\n",
            "Loss tf.Tensor(2.9978297, shape=(), dtype=float32)\n",
            "Loss tf.Tensor(3.1060205, shape=(), dtype=float32)\n",
            "Loss tf.Tensor(3.132965, shape=(), dtype=float32)\n",
            "Loss tf.Tensor(3.0022202, shape=(), dtype=float32)\n",
            "Loss tf.Tensor(2.8248394, shape=(), dtype=float32)\n",
            "Loss tf.Tensor(3.0450714, shape=(), dtype=float32)\n",
            "Loss tf.Tensor(2.985133, shape=(), dtype=float32)\n",
            "Loss tf.Tensor(3.0232792, shape=(), dtype=float32)\n",
            "Loss tf.Tensor(2.8722062, shape=(), dtype=float32)\n",
            "Loss tf.Tensor(2.757817, shape=(), dtype=float32)\n",
            "Loss tf.Tensor(3.1353424, shape=(), dtype=float32)\n",
            "Loss tf.Tensor(2.914282, shape=(), dtype=float32)\n",
            "Loss tf.Tensor(3.278928, shape=(), dtype=float32)\n",
            "Loss tf.Tensor(3.1646047, shape=(), dtype=float32)\n",
            "Loss tf.Tensor(2.9367852, shape=(), dtype=float32)\n",
            "Loss tf.Tensor(2.9198291, shape=(), dtype=float32)\n",
            "Loss tf.Tensor(2.8397205, shape=(), dtype=float32)\n",
            "Loss tf.Tensor(2.916051, shape=(), dtype=float32)\n",
            "Loss tf.Tensor(3.0132146, shape=(), dtype=float32)\n",
            "Loss tf.Tensor(3.20864, shape=(), dtype=float32)\n",
            "Loss tf.Tensor(3.03809, shape=(), dtype=float32)\n",
            "Loss tf.Tensor(2.894163, shape=(), dtype=float32)\n",
            "Loss tf.Tensor(3.121263, shape=(), dtype=float32)\n",
            "Loss tf.Tensor(2.9038103, shape=(), dtype=float32)\n",
            "Loss tf.Tensor(3.1992457, shape=(), dtype=float32)\n",
            "Loss tf.Tensor(2.9327662, shape=(), dtype=float32)\n",
            "Loss tf.Tensor(2.7846513, shape=(), dtype=float32)\n",
            "Loss tf.Tensor(3.0657082, shape=(), dtype=float32)\n",
            "Loss tf.Tensor(2.8902512, shape=(), dtype=float32)\n",
            "Loss tf.Tensor(2.6371872, shape=(), dtype=float32)\n",
            "Loss tf.Tensor(3.0909977, shape=(), dtype=float32)\n",
            "Loss tf.Tensor(2.9906824, shape=(), dtype=float32)\n",
            "Loss tf.Tensor(2.9508655, shape=(), dtype=float32)\n",
            "Loss tf.Tensor(3.349026, shape=(), dtype=float32)\n",
            "Loss tf.Tensor(2.9030044, shape=(), dtype=float32)\n",
            "Loss tf.Tensor(3.327162, shape=(), dtype=float32)\n",
            "Loss tf.Tensor(2.8836198, shape=(), dtype=float32)\n",
            "Loss tf.Tensor(2.9595978, shape=(), dtype=float32)\n",
            "Loss tf.Tensor(3.1225321, shape=(), dtype=float32)\n",
            "Loss tf.Tensor(3.0333488, shape=(), dtype=float32)\n",
            "Loss tf.Tensor(3.316557, shape=(), dtype=float32)\n",
            "Loss tf.Tensor(3.0046299, shape=(), dtype=float32)\n",
            "Loss tf.Tensor(2.9818647, shape=(), dtype=float32)\n",
            "Loss tf.Tensor(3.1009893, shape=(), dtype=float32)\n",
            "Loss tf.Tensor(3.0638738, shape=(), dtype=float32)\n",
            "Loss tf.Tensor(3.1934466, shape=(), dtype=float32)\n",
            "Loss tf.Tensor(3.0473444, shape=(), dtype=float32)\n",
            "Loss tf.Tensor(3.6243186, shape=(), dtype=float32)\n",
            "Loss tf.Tensor(2.957774, shape=(), dtype=float32)\n",
            "Loss tf.Tensor(2.9659235, shape=(), dtype=float32)\n",
            "Loss tf.Tensor(2.8482087, shape=(), dtype=float32)\n",
            "Loss tf.Tensor(3.2899928, shape=(), dtype=float32)\n",
            "Loss tf.Tensor(3.2031596, shape=(), dtype=float32)\n",
            "Loss tf.Tensor(2.81824, shape=(), dtype=float32)\n",
            "Loss tf.Tensor(3.0358455, shape=(), dtype=float32)\n",
            "Loss tf.Tensor(2.6621404, shape=(), dtype=float32)\n"
          ]
        }
      ],
      "source": [
        "for test_input, test_output in part_of_dataset:\n",
        "\n",
        "    output = model(test_input)\n",
        "    print(\"Loss\", tf.math.reduce_mean(masked_loss(test_output, output)))"
      ]
    },
    {
      "cell_type": "code",
      "execution_count": 25,
      "metadata": {},
      "outputs": [
        {
          "name": "stdout",
          "output_type": "stream",
          "text": [
            "Loss tf.Tensor(2.6621404, shape=(), dtype=float32)\n"
          ]
        }
      ],
      "source": [
        "print(\"Loss\", tf.math.reduce_mean(masked_loss(test_output, output)))"
      ]
    },
    {
      "cell_type": "code",
      "execution_count": null,
      "metadata": {},
      "outputs": [],
      "source": []
    },
    {
      "cell_type": "code",
      "execution_count": 26,
      "metadata": {},
      "outputs": [],
      "source": [
        "for i in range(len(test_input[0])):\n",
        "    output = model((test_input[0][i:i+1], test_input[1][i:i+1]))\n"
      ]
    },
    {
      "cell_type": "code",
      "execution_count": 27,
      "metadata": {},
      "outputs": [
        {
          "data": {
            "text/plain": [
              "63"
            ]
          },
          "execution_count": 27,
          "metadata": {},
          "output_type": "execute_result"
        }
      ],
      "source": [
        "i"
      ]
    },
    {
      "cell_type": "code",
      "execution_count": 28,
      "metadata": {},
      "outputs": [],
      "source": [
        "output = model((test_input[0][i:i+1], test_input[1][i:i+1]))"
      ]
    },
    {
      "cell_type": "code",
      "execution_count": 29,
      "metadata": {},
      "outputs": [
        {
          "data": {
            "text/plain": [
              "(<tf.Tensor: shape=(1, 16), dtype=int64, numpy=\n",
              " array([[  2,  38, 184,   4,   5,   7,   1, 699,   3,   0,   0,   0,   0,\n",
              "           0,   0,   0]])>,\n",
              " <tf.Tensor: shape=(1, 15), dtype=int64, numpy=\n",
              " array([[  2,  28, 212,   8,  57, 712,   6,  87,   0,   0,   0,   0,   0,\n",
              "           0,   0]])>)"
            ]
          },
          "execution_count": 29,
          "metadata": {},
          "output_type": "execute_result"
        }
      ],
      "source": [
        "test_input[0][i:i+1], test_input[1][i:i+1]"
      ]
    },
    {
      "cell_type": "code",
      "execution_count": null,
      "metadata": {},
      "outputs": [],
      "source": []
    },
    {
      "attachments": {},
      "cell_type": "markdown",
      "metadata": {},
      "source": [
        "### Exploring W matrix"
      ]
    },
    {
      "cell_type": "code",
      "execution_count": 30,
      "metadata": {},
      "outputs": [],
      "source": [
        "weights = model.decoder.rnn.trainable_weights\n",
        "w = weights[0].numpy().squeeze()"
      ]
    },
    {
      "cell_type": "code",
      "execution_count": 31,
      "metadata": {},
      "outputs": [
        {
          "data": {
            "image/png": "[encoded data removed]",
            "text/plain": [
              "<Figure size 640x480 with 2 Axes>"
            ]
          },
          "metadata": {},
          "output_type": "display_data"
        },
        {
          "data": {
            "image/png": "[encoded data removed]",
            "text/plain": [
              "<Figure size 640x480 with 2 Axes>"
            ]
          },
          "metadata": {},
          "output_type": "display_data"
        }
      ],
      "source": [
        "plt.imshow(w)\n",
        "plt.colorbar()\n",
        "plt.show()\n",
        "plt.imshow(w-np.eye(w.shape[0]))\n",
        "plt.colorbar()\n",
        "plt.show()"
      ]
    },
    {
      "cell_type": "code",
      "execution_count": 32,
      "metadata": {},
      "outputs": [
        {
          "data": {
            "text/plain": [
              "array([[ 1.16761863e+00, -5.05336337e-02, -4.14536409e-02,\n",
              "         3.31883952e-02, -5.47957867e-02, -9.44471546e-03,\n",
              "        -9.37758088e-02,  5.74312396e-02,  1.12240456e-01,\n",
              "        -7.83314928e-02, -5.48192188e-02, -1.04482479e-01,\n",
              "         3.53305228e-02, -8.40972923e-03, -2.72151772e-02,\n",
              "         1.83126301e-01,  8.24848339e-02,  7.51578435e-02,\n",
              "         4.49814826e-01, -1.72501013e-01, -5.68161607e-02,\n",
              "         1.47691831e-01,  1.33077472e-01, -2.01397255e-01,\n",
              "         5.37762403e-01,  1.59697041e-01,  1.15919232e-01,\n",
              "        -4.66888957e-02, -2.71712124e-01, -1.01229444e-01],\n",
              "       [ 7.97100067e-02,  1.15490162e+00,  7.12587684e-02,\n",
              "         5.84260710e-02, -2.40073979e-01,  1.01818949e-01,\n",
              "        -1.14914604e-01, -1.46925515e-02,  2.08695196e-02,\n",
              "        -1.26479223e-01, -3.80675942e-02,  1.47980794e-01,\n",
              "        -1.55652329e-01, -1.35824708e-02, -4.36719507e-02,\n",
              "         1.95045009e-01,  6.42878860e-02, -8.12384635e-02,\n",
              "         5.33138774e-02, -9.29195762e-01, -3.62590045e-01,\n",
              "         1.39804572e-01, -1.38178498e-01, -2.63664216e-01,\n",
              "         2.79682159e-01,  3.37302804e-01,  1.77478358e-01,\n",
              "         2.53522068e-01, -2.05271021e-01,  9.10387486e-02],\n",
              "       [-2.47644410e-01,  3.50169018e-02,  1.16619909e+00,\n",
              "        -2.75730854e-03,  1.41086936e-01,  7.11772516e-02,\n",
              "         1.11229375e-01,  4.18365747e-02, -1.00630879e-01,\n",
              "        -1.25521710e-02, -3.34404781e-02,  3.34225334e-02,\n",
              "        -4.95278761e-02,  6.28046840e-02, -4.22766544e-02,\n",
              "        -3.02001923e-01,  1.73135728e-01, -1.11405373e-01,\n",
              "         2.67156842e-03, -1.30008027e-01,  9.08161327e-02,\n",
              "        -3.42775881e-01,  4.67747688e-01, -4.79807615e-01,\n",
              "         2.37718046e-01, -3.60648513e-01, -1.65869638e-01,\n",
              "         2.56142884e-01,  4.50143814e-01,  5.05529225e-01],\n",
              "       [ 1.61844585e-02, -3.54553722e-02,  5.57625182e-02,\n",
              "         1.12452400e+00,  1.15527641e-02, -5.42333722e-02,\n",
              "         5.47979167e-03,  4.93391827e-02, -1.48578128e-02,\n",
              "        -3.42760538e-03,  1.19436644e-02,  8.03049840e-03,\n",
              "        -7.39447176e-02,  7.19635114e-02, -6.39024973e-02,\n",
              "        -6.33714050e-02, -1.48877069e-01, -1.61223158e-01,\n",
              "         4.02544513e-02, -6.90298080e-02, -1.06273957e-01,\n",
              "         5.75360596e-01,  2.78209019e-02, -5.27607203e-02,\n",
              "        -5.45844674e-01,  2.52721876e-01, -1.87259316e-01,\n",
              "         2.39748433e-02, -6.30139485e-02,  2.95012057e-01],\n",
              "       [-1.21076696e-01,  1.53004482e-01,  1.25411525e-01,\n",
              "        -1.50199860e-01,  7.11355090e-01,  1.85105637e-01,\n",
              "         1.47804663e-01,  5.37122898e-02, -2.91821957e-02,\n",
              "         2.86216708e-03, -3.42050865e-02, -1.95841100e-02,\n",
              "        -2.73762667e-03, -1.06945254e-01,  8.95023420e-02,\n",
              "        -5.17455526e-02,  2.79183865e-01,  2.38448054e-01,\n",
              "         2.98330754e-01,  1.18931539e-01, -2.66744524e-01,\n",
              "         1.17238471e-02, -9.28622391e-03,  7.14358538e-02,\n",
              "         4.70975302e-02,  1.03875622e-01,  1.77388608e-01,\n",
              "         2.22940654e-01,  3.08038980e-01,  1.04017267e-02],\n",
              "       [-1.14100911e-01,  1.07674174e-01,  9.11471546e-02,\n",
              "        -9.72731635e-02,  8.05082470e-02,  1.31168270e+00,\n",
              "        -1.11030191e-01, -9.74192470e-02, -7.40001649e-02,\n",
              "        -1.05293460e-01, -1.06711365e-01,  1.29078686e-01,\n",
              "        -9.18869302e-02, -8.71345848e-02, -5.31461239e-02,\n",
              "         5.58526397e-01,  6.40648603e-01, -4.37083155e-01,\n",
              "        -1.45151928e-01, -4.94541377e-02, -2.98439831e-01,\n",
              "         6.72153160e-02, -2.37686202e-01,  8.83548737e-01,\n",
              "         3.24073702e-01, -2.13587090e-01,  1.45947322e-01,\n",
              "        -8.53353813e-02,  2.87909985e-01,  1.87474310e-01],\n",
              "       [-4.28588912e-02,  1.35052219e-01,  2.33665705e-02,\n",
              "        -5.87045699e-02, -2.73338437e-01, -1.19469330e-01,\n",
              "         1.38577092e+00,  7.47927055e-02, -1.18223801e-01,\n",
              "         1.07971914e-01,  7.57386461e-02, -8.58379602e-02,\n",
              "        -2.64399243e-03,  6.65987507e-02,  9.45010930e-02,\n",
              "        -7.75405884e-01, -3.23184282e-01, -2.89922897e-02,\n",
              "         1.63470536e-01, -1.08180337e-01, -1.66757300e-01,\n",
              "        -1.64983779e-01, -1.84806108e-01,  4.40162301e-01,\n",
              "         5.31057566e-02,  9.96982083e-02, -4.11234230e-01,\n",
              "         8.15799177e-01,  1.21886767e-01, -1.88387707e-01],\n",
              "       [ 6.42171353e-02, -7.00371787e-02, -2.67477948e-02,\n",
              "         2.97220796e-02, -1.44240782e-01,  6.00409433e-02,\n",
              "        -6.62371069e-02,  1.14773810e+00,  4.97828722e-02,\n",
              "        -1.08962394e-02, -9.09323469e-02,  2.00184640e-02,\n",
              "         2.33976189e-02, -6.91331774e-02,  8.77804756e-02,\n",
              "        -2.30641738e-01,  5.55183172e-01, -3.84139642e-02,\n",
              "         4.63130511e-02, -1.67622104e-01, -2.20806643e-01,\n",
              "        -2.99749553e-01,  1.98926374e-01, -3.08459699e-01,\n",
              "        -3.31145674e-01,  8.26187134e-02, -6.60418123e-02,\n",
              "         2.18787745e-01, -1.70115277e-01,  1.52908832e-01],\n",
              "       [ 6.86051026e-02, -9.71464142e-02, -3.44222486e-02,\n",
              "         1.06125370e-01, -2.53715795e-02, -1.11948110e-01,\n",
              "        -1.04038641e-02,  1.77578971e-01,  1.06522417e+00,\n",
              "         4.02776785e-02,  6.61099255e-02, -6.35725111e-02,\n",
              "        -5.65978978e-03, -2.17897277e-02, -1.03209041e-01,\n",
              "        -2.51208246e-01,  3.72295260e-01,  2.78904531e-02,\n",
              "         1.55154020e-01,  1.70913879e-02,  1.56692378e-02,\n",
              "        -7.54465461e-02,  1.75247222e-01,  1.91737369e-01,\n",
              "        -1.04949869e-01,  8.18782449e-02,  1.27482831e-01,\n",
              "        -2.15158269e-01, -2.80531406e-01,  2.49203935e-01],\n",
              "       [-1.04424078e-02, -2.88207345e-02, -5.88752143e-02,\n",
              "         2.90140342e-02, -5.60037531e-02, -1.50826946e-02,\n",
              "        -1.26482129e-01, -1.31799420e-02,  8.47057030e-02,\n",
              "         1.08998179e+00, -1.87383950e-01, -1.32814581e-02,\n",
              "         4.02056240e-02,  1.47093162e-01,  2.35702824e-02,\n",
              "        -5.62161505e-01, -8.37785825e-02, -1.38350368e-01,\n",
              "         1.24232613e-01,  8.16582516e-02, -8.77820700e-03,\n",
              "        -1.72448289e-02, -3.01466495e-01, -1.71858504e-01,\n",
              "        -8.94179568e-02,  1.40540883e-01,  1.93554863e-01,\n",
              "        -4.84995306e-01, -6.70706294e-03, -1.08678848e-01],\n",
              "       [ 1.70145839e-01, -8.71079415e-02, -1.02016531e-01,\n",
              "         9.10199732e-02, -2.05068171e-01, -7.04065040e-02,\n",
              "         1.16572902e-01,  1.38173401e-01, -8.51148441e-02,\n",
              "         1.28449962e-01,  1.18315864e+00, -9.36421454e-02,\n",
              "        -1.33908421e-01, -1.48661405e-01,  3.17489505e-02,\n",
              "         1.28950477e-01, -5.50219774e-01, -4.47354913e-01,\n",
              "         8.50530565e-01, -5.31729348e-02, -5.19769430e-01,\n",
              "        -3.45364690e-01, -1.28698215e-01, -2.22574770e-02,\n",
              "        -4.28428859e-01, -1.59448713e-01, -1.54465675e-01,\n",
              "         1.05809554e-01, -2.10684389e-01, -9.08245966e-02],\n",
              "       [-3.93471718e-02, -6.21533245e-02, -4.69966456e-02,\n",
              "        -1.44901481e-02,  2.21064478e-01,  1.98180769e-02,\n",
              "        -6.39935285e-02, -2.25543063e-02,  3.94553617e-02,\n",
              "        -2.52660885e-02,  5.23654185e-03,  1.08495355e+00,\n",
              "         6.52734190e-02, -5.48500866e-02, -1.77039355e-02,\n",
              "         3.62097681e-01, -8.66812244e-02,  3.53631228e-01,\n",
              "         4.10265476e-01, -3.60042781e-01,  5.41971505e-01,\n",
              "        -1.50950581e-01, -3.79070610e-01,  1.27771527e-01,\n",
              "        -2.82253057e-01, -8.80516022e-02,  1.80705875e-01,\n",
              "        -7.98990056e-02, -2.47220799e-01,  3.87481242e-01],\n",
              "       [ 3.58416699e-02, -1.39705203e-02, -6.31830171e-02,\n",
              "        -2.39653848e-02,  2.04844609e-01, -5.57933226e-02,\n",
              "         6.58291876e-02, -4.01534662e-02,  1.37400836e-01,\n",
              "         5.25631309e-02, -5.62861413e-02, -6.74703494e-02,\n",
              "         1.15930295e+00,  3.02003268e-02, -8.75966717e-03,\n",
              "        -3.91489379e-02,  3.37287068e-01,  6.85675740e-01,\n",
              "        -2.49196544e-01,  3.26944381e-01, -9.57904756e-02,\n",
              "        -3.56613040e-01, -2.42087856e-01,  1.48063213e-01,\n",
              "         6.96077570e-02,  2.72632152e-01, -2.49116302e-01,\n",
              "        -2.97381252e-01,  2.82303900e-01, -8.44308883e-02],\n",
              "       [ 1.32619023e-01, -4.14993912e-02, -1.38857543e-01,\n",
              "         1.89625517e-01,  1.95083976e-01, -4.22224440e-02,\n",
              "         3.08290906e-02, -1.33513212e-01, -9.35804844e-02,\n",
              "        -2.00879380e-01,  2.61375517e-01,  1.53929750e-02,\n",
              "        -6.79998398e-02,  1.39566386e+00,  1.03661880e-01,\n",
              "         4.79981452e-01, -1.17512137e-01, -4.39353704e-01,\n",
              "        -1.27536729e-01,  2.11733818e-01,  1.56493098e-01,\n",
              "         2.53352314e-01,  3.45722288e-01, -5.59439845e-02,\n",
              "        -3.28169227e-01,  7.76846290e-01, -4.68872666e-01,\n",
              "         1.25309274e-01,  1.91763103e-01, -1.16367780e-01],\n",
              "       [-1.47256255e-01,  1.33846939e-01,  9.90620553e-02,\n",
              "         1.60051063e-02, -1.11104496e-01, -3.22263651e-02,\n",
              "        -9.98373404e-02,  4.30547222e-02,  4.64967452e-02,\n",
              "        -1.30233187e-02, -1.93688702e-02, -9.03948843e-02,\n",
              "         3.20046209e-02,  7.35107958e-02,  1.09017408e+00,\n",
              "        -1.70071553e-02,  1.63758770e-01,  2.91576013e-02,\n",
              "        -2.17942074e-01,  7.65677810e-01,  1.35534182e-01,\n",
              "         1.70663580e-01, -4.41817999e-01, -3.01236421e-01,\n",
              "         7.61654526e-02,  5.89786768e-01,  1.51718214e-01,\n",
              "         8.78657550e-02, -6.04625121e-02,  9.93413255e-02],\n",
              "       [ 8.63299295e-02, -3.35758552e-02, -4.97539192e-02,\n",
              "        -1.64899901e-02,  2.78567910e-01,  1.09356545e-01,\n",
              "         1.36855349e-01, -7.28357770e-03,  2.73977835e-02,\n",
              "        -4.73237373e-02,  5.50507158e-02, -4.59273942e-02,\n",
              "        -2.75506694e-02, -1.17004439e-01, -5.32496870e-02,\n",
              "         6.52472079e-01,  1.64321363e-01,  1.02616817e-01,\n",
              "         2.90306538e-01,  1.78868458e-01, -9.05192792e-02,\n",
              "         1.18094850e-02,  9.55758169e-02,  2.11478341e-02,\n",
              "         1.30229816e-01,  1.15552556e-03, -2.14086518e-01,\n",
              "        -1.53444752e-01,  1.46271855e-01,  3.06948479e-02],\n",
              "       [ 1.07602671e-01, -1.19528584e-01, -7.32688829e-02,\n",
              "         4.14510593e-02, -1.12860464e-01, -9.21147987e-02,\n",
              "        -9.82282236e-02,  9.86442789e-02,  6.17832765e-02,\n",
              "         2.14997213e-02,  4.05749716e-02,  7.61643704e-03,\n",
              "         7.29944557e-02, -9.01080295e-02, -1.03565045e-02,\n",
              "        -8.81113708e-02,  6.91515148e-01,  9.88937449e-03,\n",
              "        -7.15739205e-02, -2.14085445e-01, -6.51940331e-02,\n",
              "        -1.74502522e-01,  2.83501297e-02,  2.69792438e-01,\n",
              "         5.13647348e-02,  8.79921205e-03,  8.08953792e-02,\n",
              "        -9.73902941e-02, -2.25124732e-01, -2.68975887e-02],\n",
              "       [-6.86962232e-02,  5.23282140e-02, -2.15055980e-02,\n",
              "        -7.99572542e-02,  2.92208791e-01,  2.68664137e-02,\n",
              "         1.47747010e-01, -6.36608079e-02,  1.57934036e-02,\n",
              "         9.35899559e-03,  2.84098871e-02, -5.63340113e-02,\n",
              "         7.94127807e-02,  6.58620382e-04, -4.38993946e-02,\n",
              "         8.84773955e-02, -9.33728293e-02,  7.40784943e-01,\n",
              "        -5.49579449e-02, -3.86756542e-03,  1.79575995e-01,\n",
              "        -1.37579277e-01, -2.37324331e-02,  6.04558699e-02,\n",
              "         1.63118392e-01, -2.06837624e-01, -1.50100172e-01,\n",
              "        -2.68274825e-02,  1.73172727e-01,  7.90558308e-02],\n",
              "       [ 1.01712324e-01, -4.56896685e-02, -4.01033610e-02,\n",
              "        -1.55881513e-02, -1.77830070e-01, -2.65106093e-02,\n",
              "         2.60406658e-02,  1.38852745e-01,  7.73068592e-02,\n",
              "        -2.88470462e-02, -3.28872204e-02, -1.39595345e-01,\n",
              "         9.35427248e-02,  3.21486332e-02,  3.22296880e-02,\n",
              "        -1.29038632e-01,  1.53395981e-01,  3.31201255e-01,\n",
              "         7.69199908e-01,  2.52544612e-01, -1.15720414e-01,\n",
              "         2.74530873e-02,  3.73269096e-02,  8.92276913e-02,\n",
              "        -4.65965569e-02,  2.14527443e-01, -2.20142342e-02,\n",
              "        -1.79006457e-02,  3.89659889e-02, -8.57942179e-02],\n",
              "       [-2.91614681e-02,  4.18029651e-02,  2.66222823e-02,\n",
              "         1.92974787e-02, -1.02663100e-01, -3.33181443e-03,\n",
              "        -2.58926991e-02,  3.94578986e-02, -3.20597738e-02,\n",
              "        -2.67749559e-02,  6.22622296e-02,  1.35775283e-02,\n",
              "        -4.50816154e-02, -3.44494991e-02,  6.97687792e-04,\n",
              "         2.81368140e-02,  1.02651007e-01,  3.56828161e-02,\n",
              "        -7.06780255e-02,  6.73716545e-01, -5.57597093e-02,\n",
              "        -6.16235519e-03,  1.95238907e-02, -9.36984271e-03,\n",
              "        -2.98162252e-02, -1.11371176e-02,  1.17308572e-01,\n",
              "         6.50967881e-02, -9.10274964e-03,  7.99249262e-02],\n",
              "       [-2.30237484e-01,  4.64165732e-02,  7.00334385e-02,\n",
              "        -6.72683492e-02,  3.56481701e-01,  6.41528750e-03,\n",
              "         1.05423987e-01, -3.65990885e-02, -1.14379205e-01,\n",
              "         2.63273367e-03,  8.74916017e-02,  4.68356907e-02,\n",
              "        -8.33226193e-04,  6.21092767e-02, -8.74491036e-02,\n",
              "         6.31721914e-02, -6.91128746e-02, -1.48998171e-01,\n",
              "        -1.31652042e-01,  9.50667635e-02,  6.40672445e-01,\n",
              "        -1.77688301e-01, -9.77928378e-03,  2.13238709e-02,\n",
              "        -2.81845294e-02, -2.45762676e-01, -2.03062117e-01,\n",
              "         2.72818040e-02,  3.86532277e-01,  1.36504412e-01],\n",
              "       [-2.67420709e-02, -2.50145961e-02,  6.07088283e-02,\n",
              "         4.30964958e-03, -7.37311691e-02, -3.56826372e-02,\n",
              "        -5.75013869e-02,  5.80870658e-02,  1.16655743e-02,\n",
              "        -1.61922090e-02,  7.90657848e-02, -7.02350736e-02,\n",
              "         2.78077442e-02, -2.02062749e-03, -7.39508105e-05,\n",
              "         1.04135759e-01,  7.49083012e-02,  1.87878888e-02,\n",
              "         1.36349052e-01,  3.72413881e-02,  3.33971456e-02,\n",
              "         7.05543160e-01,  2.33120695e-01, -1.23616166e-01,\n",
              "        -1.61087941e-02,  2.50447579e-02,  1.18866801e-01,\n",
              "        -1.15976214e-01, -6.93419501e-02,  5.04786856e-02],\n",
              "       [ 2.93083135e-02, -8.95458385e-02, -6.32967651e-02,\n",
              "        -5.54248095e-02,  2.07880050e-01,  5.86584508e-02,\n",
              "         1.09343745e-01, -6.19822927e-02,  2.38828491e-02,\n",
              "        -2.85507534e-02,  4.71912920e-02,  2.77324170e-02,\n",
              "         7.55384490e-02, -5.33942468e-02,  5.84189519e-02,\n",
              "         1.46908969e-01,  1.74139719e-02,  2.01695457e-01,\n",
              "         1.05242990e-01,  2.30233930e-02,  2.89301991e-01,\n",
              "        -1.89427972e-01,  6.16802990e-01, -9.42997262e-02,\n",
              "         2.23945022e-01, -1.30541846e-01, -4.31578606e-02,\n",
              "        -6.27093539e-02,  1.92253292e-01, -3.09397858e-02],\n",
              "       [-1.55559217e-03, -8.02244321e-02,  5.83049804e-02,\n",
              "         1.91900842e-02, -1.05684839e-01, -8.76510367e-02,\n",
              "        -1.00745305e-01,  4.78268899e-02, -2.48172861e-02,\n",
              "         5.74158654e-02,  3.97369005e-02, -6.58206940e-02,\n",
              "         1.33078480e-02, -4.53560911e-02, -6.96764514e-02,\n",
              "         5.42562939e-02, -5.72603531e-02, -1.17817067e-01,\n",
              "        -5.43843694e-02,  1.36288747e-01, -1.23783998e-01,\n",
              "        -6.34669736e-02,  9.99603570e-02,  7.63792276e-01,\n",
              "        -1.20477661e-01, -1.17910691e-01,  7.52215460e-02,\n",
              "        -5.51705423e-04, -5.51919714e-02,  8.33349228e-02],\n",
              "       [-1.35548552e-02,  8.97203609e-02,  2.65656505e-02,\n",
              "         2.13266388e-02,  2.34713107e-02, -3.97002101e-02,\n",
              "        -7.54063874e-02, -4.64244336e-02,  2.73183268e-02,\n",
              "        -8.00583512e-02, -1.15428194e-02, -5.12044951e-02,\n",
              "        -1.44177489e-03,  1.01624884e-01, -6.95150942e-02,\n",
              "         1.33481920e-01, -1.57534346e-01,  7.85803869e-02,\n",
              "         1.34907290e-01, -1.45549178e-01, -8.15212131e-02,\n",
              "        -4.13751826e-02, -6.27474487e-02, -5.87584116e-02,\n",
              "         8.03679109e-01,  6.43082708e-02, -5.77191869e-03,\n",
              "         6.88281059e-02,  4.63182442e-02, -4.64140810e-02],\n",
              "       [ 6.65862784e-02,  9.76885483e-02,  6.98256046e-02,\n",
              "         9.27328039e-03, -2.34339520e-01, -1.24314027e-02,\n",
              "         5.31442128e-02,  7.18938634e-02,  1.14216149e-01,\n",
              "         2.56802216e-02,  7.64427474e-03, -3.04128472e-02,\n",
              "        -4.31034574e-03, -3.04757059e-02, -1.79295633e-02,\n",
              "        -2.09104463e-01,  9.95547697e-02,  2.09670916e-01,\n",
              "        -5.99377938e-02, -6.96131438e-02, -1.25580832e-01,\n",
              "         2.36084506e-01, -9.64646116e-02, -4.21140436e-03,\n",
              "        -6.45217821e-02,  7.88105369e-01,  9.24572870e-02,\n",
              "        -3.03002559e-02, -6.40955567e-02, -1.53254509e-01],\n",
              "       [-7.42748380e-02, -8.16397369e-03,  1.18045986e-01,\n",
              "        -1.22777270e-02, -2.45018631e-01,  4.86736782e-02,\n",
              "         1.79212838e-02,  2.76021846e-02, -9.22589656e-03,\n",
              "        -4.48739864e-02, -4.27956581e-02, -6.07892498e-02,\n",
              "        -2.20443923e-02,  2.54932083e-02,  2.03251634e-02,\n",
              "         5.62955476e-02, -4.35468778e-02,  4.51539829e-02,\n",
              "         6.94590658e-02,  5.28218709e-02,  4.56405208e-02,\n",
              "        -1.10599145e-01,  8.84084776e-02, -1.06920756e-01,\n",
              "        -1.59885898e-01,  8.74192119e-02,  4.41832483e-01,\n",
              "         2.63462868e-02, -5.41454032e-02,  3.56349759e-02],\n",
              "       [ 2.87875272e-02,  2.37665679e-02,  6.99150115e-02,\n",
              "        -1.43109653e-02, -2.85543770e-01, -4.53813374e-02,\n",
              "        -3.94987874e-02,  6.80388734e-02, -1.57815944e-02,\n",
              "        -2.88341474e-02,  2.48823185e-02, -2.70713214e-02,\n",
              "         1.71120446e-02, -5.34359515e-02,  7.27049485e-02,\n",
              "        -2.45742071e-02,  9.39285159e-02, -7.60343596e-02,\n",
              "         2.94383895e-02, -1.00989506e-01, -5.56031689e-02,\n",
              "        -3.34533192e-02, -4.73774150e-02, -1.60227120e-01,\n",
              "         8.07775110e-02,  1.19654581e-01, -4.77800854e-02,\n",
              "         5.76400340e-01, -1.88268766e-01, -1.09908208e-01],\n",
              "       [-2.30221659e-01,  1.25038192e-01,  1.72765896e-01,\n",
              "        -1.12267204e-01, -2.66355813e-01,  7.11908340e-02,\n",
              "         2.37218011e-02, -9.64444280e-02, -7.69888535e-02,\n",
              "         1.24390740e-02,  5.47944475e-03,  1.70967683e-01,\n",
              "        -2.05691084e-02, -2.12518424e-02,  1.09331004e-01,\n",
              "        -3.11012287e-02,  1.68935079e-02,  1.39703050e-01,\n",
              "        -3.62252556e-02, -1.15580805e-01, -4.34269421e-02,\n",
              "         6.57910854e-02, -1.02740474e-01, -7.29026049e-02,\n",
              "        -7.26935118e-02, -1.47234350e-02,  2.24404827e-01,\n",
              "         2.01266050e-01,  4.51741904e-01,  1.18836738e-01],\n",
              "       [-1.48771062e-01,  3.78052145e-02,  8.29693228e-02,\n",
              "         1.30535930e-01,  3.47483754e-01,  6.58047870e-02,\n",
              "         3.59097160e-02,  1.60883181e-02, -7.70518510e-03,\n",
              "        -7.90692642e-02, -1.99318230e-02,  3.56277311e-03,\n",
              "        -4.69415262e-02,  1.64703920e-01, -7.58981407e-02,\n",
              "         1.26192598e-02,  6.06892072e-02,  2.57541817e-02,\n",
              "         1.54898986e-01, -1.32062107e-01,  1.53341442e-01,\n",
              "        -5.54467319e-04,  1.72246039e-01, -2.48704091e-01,\n",
              "         6.89985529e-02,  2.22034588e-01, -2.67432958e-01,\n",
              "         1.21363051e-01,  1.59179479e-01,  7.79045463e-01]], dtype=float32)"
            ]
          },
          "execution_count": 32,
          "metadata": {},
          "output_type": "execute_result"
        }
      ],
      "source": [
        "w"
      ]
    },
    {
      "cell_type": "code",
      "execution_count": 33,
      "metadata": {},
      "outputs": [
        {
          "data": {
            "text/plain": [
              "0.09242939"
            ]
          },
          "execution_count": 33,
          "metadata": {},
          "output_type": "execute_result"
        }
      ],
      "source": [
        "np.linalg.det(w)"
      ]
    },
    {
      "cell_type": "code",
      "execution_count": 34,
      "metadata": {
        "colab": {
          "base_uri": "https://localhost:8080/",
          "height": 466
        },
        "id": "xYkzHkBtrf2g",
        "outputId": "0750e7f7-a2b5-4ad8-832d-c6093719fc60"
      },
      "outputs": [
        {
          "data": {
            "text/plain": [
              "<matplotlib.legend.Legend at 0x7f292b5ea890>"
            ]
          },
          "execution_count": 34,
          "metadata": {},
          "output_type": "execute_result"
        },
        {
          "data": {
            "image/png": "[encoded data removed]",
            "text/plain": [
              "<Figure size 640x480 with 1 Axes>"
            ]
          },
          "metadata": {},
          "output_type": "display_data"
        }
      ],
      "source": [
        "plt.plot(history.history['loss'], label='loss')\n",
        "plt.plot(history.history['val_loss'], label='val_loss')\n",
        "plt.ylim([0, max(plt.ylim())])\n",
        "plt.xlabel('Epoch #')\n",
        "plt.ylabel('CE/token')\n",
        "plt.legend()"
      ]
    },
    {
      "cell_type": "code",
      "execution_count": 35,
      "metadata": {
        "colab": {
          "base_uri": "https://localhost:8080/",
          "height": 466
        },
        "id": "IE-Rlne6rf2g",
        "outputId": "5ea295a3-4550-40e8-ebfb-7745069fd567"
      },
      "outputs": [
        {
          "data": {
            "text/plain": [
              "<matplotlib.legend.Legend at 0x7f292b4ce2c0>"
            ]
          },
          "execution_count": 35,
          "metadata": {},
          "output_type": "execute_result"
        },
        {
          "data": {
            "image/png": "[encoded data removed]",
            "text/plain": [
              "<Figure size 640x480 with 1 Axes>"
            ]
          },
          "metadata": {},
          "output_type": "display_data"
        }
      ],
      "source": [
        "plt.plot(history.history['masked_acc'], label='accuracy')\n",
        "plt.plot(history.history['val_masked_acc'], label='val_accuracy')\n",
        "plt.ylim([0, max(plt.ylim())])\n",
        "plt.xlabel('Epoch #')\n",
        "plt.ylabel('accuracy')\n",
        "plt.legend()"
      ]
    },
    {
      "cell_type": "code",
      "execution_count": 36,
      "metadata": {
        "id": "DXoAo-brrf2g"
      },
      "outputs": [],
      "source": [
        "# result = model.translate(['¿Todavía está en casa?']) # Are you still home\n",
        "# result[0].numpy().decode()"
      ]
    },
    {
      "attachments": {},
      "cell_type": "markdown",
      "metadata": {
        "id": "Qid2Dxt14Z4N"
      },
      "source": [
        "### Examples of translation"
      ]
    },
    {
      "cell_type": "code",
      "execution_count": 37,
      "metadata": {
        "colab": {
          "base_uri": "https://localhost:8080/"
        },
        "id": "UrUnutpO4f4R",
        "outputId": "8615dab1-809a-4bdf-d1c7-ebeb64cc5b4f"
      },
      "outputs": [
        {
          "name": "stdout",
          "output_type": "stream",
          "text": [
            "Temperature is 0.1\n",
            "Tom se ve fiero.\n",
            "tom has a [UNK]            \n",
            "Tom looks fierce.\n",
            "\n",
            "Tom murió.\n",
            "tom died              \n",
            "Tom died.\n",
            "\n",
            "Tom no me prestará el dinero que necesito.\n",
            "i dont think you could you help         \n",
            "Tom won't lend me the money I need.\n",
            "\n",
            "¿Cuándo fue la última vez que consumiste opiáceos?\n",
            "when was the last time i went to the [UNK]      \n",
            "When was the last time you used opiates?\n",
            "\n",
            "El sitio web recibe más de 30 millones de visitas al día.\n",
            "the plane is there there were a few minutes of the [UNK]    \n",
            "The website is visited over 30 million times a day.\n",
            "\n",
            "De eso es de lo que estoy preocupado.\n",
            "thats that im not to love          \n",
            "That's what I'm really worried about.\n",
            "\n",
            "No tengo preocupaciones.\n",
            "i dont have a [UNK]           \n",
            "I've got no worries.\n",
            "\n",
            "Te sabes el resto de la historia.\n",
            "do you know what one is a [UNK]        \n",
            "You know the rest of the story.\n",
            "\n",
            "¿Cuánto tiempo hace que nadas?\n",
            "how long time i have to be late        \n",
            "How long have you been swimming?\n",
            "\n",
            "¿Puedo lavar toda mi ropa de una sola vez?\n",
            "i can be [UNK] at the same job for me      \n",
            "May I wash all my laundry at once?\n",
            "\n",
            "Temperature is 0.2\n",
            "Tom se ve fiero.\n",
            "tom are [UNK]            \n",
            "Tom looks fierce.\n",
            "\n",
            "Tom murió.\n",
            "tom died             \n",
            "Tom died.\n",
            "\n",
            "Tom no me prestará el dinero que necesito.\n",
            "i dont think you give you to help me      \n",
            "Tom won't lend me the money I need.\n",
            "\n",
            "¿Cuándo fue la última vez que consumiste opiáceos?\n",
            "when was the first time to see it was going to be back  \n",
            "When was the last time you used opiates?\n",
            "\n",
            "El sitio web recibe más de 30 millones de visitas al día.\n",
            "the plane is almost there there were a [UNK] in the house   \n",
            "The website is visited over 30 million times a day.\n",
            "\n",
            "De eso es de lo que estoy preocupado.\n",
            "thats so i dont know          \n",
            "That's what I'm really worried about.\n",
            "\n",
            "No tengo preocupaciones.\n",
            "i dont have to be [UNK]         \n",
            "I've got no worries.\n",
            "\n",
            "Te sabes el resto de la historia.\n",
            "do you know what one is the same thing      \n",
            "You know the rest of the story.\n",
            "\n",
            "¿Cuánto tiempo hace que nadas?\n",
            "how long time i have to be married       \n",
            "How long have you been swimming?\n",
            "\n",
            "¿Puedo lavar toda mi ropa de una sola vez?\n",
            "i can be [UNK] my mother [UNK]        \n",
            "May I wash all my laundry at once?\n",
            "\n",
            "Temperature is 0.3\n",
            "Tom se ve fiero.\n",
            "tom has been [UNK]             \n",
            "Tom looks fierce.\n",
            "\n",
            "Tom murió.\n",
            "tom died               \n",
            "Tom died.\n",
            "\n",
            "Tom no me prestará el dinero que necesito.\n",
            "i dont think you give me to you         \n",
            "Tom won't lend me the money I need.\n",
            "\n",
            "¿Cuándo fue la última vez que consumiste opiáceos?\n",
            "when was that last time to see the [UNK]        \n",
            "When was the last time you used opiates?\n",
            "\n",
            "El sitio web recibe más de 30 millones de visitas al día.\n",
            "the [UNK] is [UNK] in the year of the day       \n",
            "The website is visited over 30 million times a day.\n",
            "\n",
            "De eso es de lo que estoy preocupado.\n",
            "thats not to do that            \n",
            "That's what I'm really worried about.\n",
            "\n",
            "No tengo preocupaciones.\n",
            "i dont have a [UNK]            \n",
            "I've got no worries.\n",
            "\n",
            "Te sabes el resto de la historia.\n",
            "do you know how to do the same mistake        \n",
            "You know the rest of the story.\n",
            "\n",
            "¿Cuánto tiempo hace que nadas?\n",
            "what time i have to be sick          \n",
            "How long have you been swimming?\n",
            "\n",
            "¿Puedo lavar toda mi ropa de una sola vez?\n",
            "i can get the [UNK] [UNK] of my job        \n",
            "May I wash all my laundry at once?\n",
            "\n",
            "Temperature is 0.4\n",
            "Tom se ve fiero.\n",
            "tom has been [UNK]               \n",
            "Tom looks fierce.\n",
            "\n",
            "Tom murió.\n",
            "tom died                 \n",
            "Tom died.\n",
            "\n",
            "Tom no me prestará el dinero que necesito.\n",
            "i dont think that i could come back           \n",
            "Tom won't lend me the money I need.\n",
            "\n",
            "¿Cuándo fue la última vez que consumiste opiáceos?\n",
            "when was a doctor and i saw the way to be back       \n",
            "When was the last time you used opiates?\n",
            "\n",
            "El sitio web recibe más de 30 millones de visitas al día.\n",
            "the [UNK] is the [UNK] there was almost there on the city       \n",
            "The website is visited over 30 million times a day.\n",
            "\n",
            "De eso es de lo que estoy preocupado.\n",
            "thats so i dont know              \n",
            "That's what I'm really worried about.\n",
            "\n",
            "No tengo preocupaciones.\n",
            "i dont have to get up             \n",
            "I've got no worries.\n",
            "\n",
            "Te sabes el resto de la historia.\n",
            "do you know what one is a [UNK]           \n",
            "You know the rest of the story.\n",
            "\n",
            "¿Cuánto tiempo hace que nadas?\n",
            "how long time i am to be sick           \n",
            "How long have you been swimming?\n",
            "\n",
            "¿Puedo lavar toda mi ropa de una sola vez?\n",
            "i think is the [UNK] the night and [UNK]          \n",
            "May I wash all my laundry at once?\n",
            "\n",
            "Temperature is 0.5\n",
            "Tom se ve fiero.\n",
            "tom took fun              \n",
            "Tom looks fierce.\n",
            "\n",
            "Tom murió.\n",
            "tom died               \n",
            "Tom died.\n",
            "\n",
            "Tom no me prestará el dinero que necesito.\n",
            "i dont think i could you try to         \n",
            "Tom won't lend me the money I need.\n",
            "\n",
            "¿Cuándo fue la última vez que consumiste opiáceos?\n",
            "when was the time to put it before the [UNK]       \n",
            "When was the last time you used opiates?\n",
            "\n",
            "El sitio web recibe más de 30 millones de visitas al día.\n",
            "the plane is [UNK] in a long day ago        \n",
            "The website is visited over 30 million times a day.\n",
            "\n",
            "De eso es de lo que estoy preocupado.\n",
            "thats now im worried about            \n",
            "That's what I'm really worried about.\n",
            "\n",
            "No tengo preocupaciones.\n",
            "i dont have a lot            \n",
            "I've got no worries.\n",
            "\n",
            "Te sabes el resto de la historia.\n",
            "do you know the money is her name         \n",
            "You know the rest of the story.\n",
            "\n",
            "¿Cuánto tiempo hace que nadas?\n",
            "how long time you wanted to go abroad         \n",
            "How long have you been swimming?\n",
            "\n",
            "¿Puedo lavar toda mi ropa de una sola vez?\n",
            "i can be [UNK] the way as my [UNK]        \n",
            "May I wash all my laundry at once?\n",
            "\n",
            "Temperature is 0.6\n",
            "Tom se ve fiero.\n",
            "tom has to be [UNK]           \n",
            "Tom looks fierce.\n",
            "\n",
            "Tom murió.\n",
            "tom died              \n",
            "Tom died.\n",
            "\n",
            "Tom no me prestará el dinero que necesito.\n",
            "i dont hear it if you did you feel       \n",
            "Tom won't lend me the money I need.\n",
            "\n",
            "¿Cuándo fue la última vez que consumiste opiáceos?\n",
            "when was the last time to be up before they      \n",
            "When was the last time you used opiates?\n",
            "\n",
            "El sitio web recibe más de 30 millones de visitas al día.\n",
            "the company has been [UNK] in the whole week       \n",
            "The website is visited over 30 million times a day.\n",
            "\n",
            "De eso es de lo que estoy preocupado.\n",
            "thats dont like what i am          \n",
            "That's what I'm really worried about.\n",
            "\n",
            "No tengo preocupaciones.\n",
            "im not a [UNK]            \n",
            "I've got no worries.\n",
            "\n",
            "Te sabes el resto de la historia.\n",
            "do you know what a dictionary is the same       \n",
            "You know the rest of the story.\n",
            "\n",
            "¿Cuánto tiempo hace que nadas?\n",
            "how long time did you want a lot        \n",
            "How long have you been swimming?\n",
            "\n",
            "¿Puedo lavar toda mi ropa de una sola vez?\n",
            "i have to find the [UNK] [UNK] my father       \n",
            "May I wash all my laundry at once?\n",
            "\n"
          ]
        }
      ],
      "source": [
        "text_table = wandb.Table(columns=[\"source\", \"translate\", \"target\", \"temperature\"])\n",
        "n_samples = 10\n",
        "\n",
        "for context_strings, target_strings in train_raw.take(1):\n",
        "    for temp in np.arange(0.1, 0.7, 0.1):\n",
        "        translate_strings = model.translate(context_strings, temperature=temp)\n",
        "\n",
        "        encoded_strings = [x.numpy() for x in\n",
        "                           [context_strings, translate_strings, target_strings]]\n",
        "        print(\"Temperature is\", np.round(temp, 2))\n",
        "        for i in range(min(len(context_strings), n_samples)):\n",
        "            for t in encoded_strings:\n",
        "                print(t[i].decode())\n",
        "            print()\n",
        "            text_table.add_data(*[t[i].decode() for t in encoded_strings], temp)\n",
        "\n",
        "wandb.log({\"training_samples\" : text_table})"
      ]
    },
    {
      "cell_type": "code",
      "execution_count": 38,
      "metadata": {},
      "outputs": [
        {
          "name": "stdout",
          "output_type": "stream",
          "text": [
            "Temperature is 0.1\n",
            "Debemos limpiar la cocina.\n",
            "we have to go out of the [UNK] \n",
            "We must clean up the kitchen.\n",
            "\n",
            "Admit\u0013\u0010 que estaba equivocada.\n",
            "i was wrong to the question   \n",
            "I admitted that I was wrong.\n",
            "\n",
            "Cual es el lugar m\u0013as bonito del mundo?\n",
            "the world is [UNK] [UNK]    \n",
            "What's the most beautiful place in the world?\n",
            "\n",
            "La caja es pesada.\n",
            "the [UNK] is the [UNK]    \n",
            "The box is heavy.\n",
            "\n",
            "Temperature is 0.2\n",
            "Debemos limpiar la cocina.\n",
            "we have to go out of the [UNK] \n",
            "We must clean up the kitchen.\n",
            "\n",
            "Admit\u0013\u0010 que estaba equivocada.\n",
            "i was wrong      \n",
            "I admitted that I was wrong.\n",
            "\n",
            "Cual es el lugar m\u0013as bonito del mundo?\n",
            "the world is [UNK] of the [UNK]  \n",
            "What's the most beautiful place in the world?\n",
            "\n",
            "La caja es pesada.\n",
            "the [UNK] is the [UNK]    \n",
            "The box is heavy.\n",
            "\n",
            "Temperature is 0.3\n",
            "Debemos limpiar la cocina.\n",
            "we have to take the kitchen \n",
            "We must clean up the kitchen.\n",
            "\n",
            "Admit\u0013\u0010 que estaba equivocada.\n",
            "i was wrong to the [UNK] \n",
            "I admitted that I was wrong.\n",
            "\n",
            "Cual es el lugar m\u0013as bonito del mundo?\n",
            "the [UNK] is [UNK]   \n",
            "What's the most beautiful place in the world?\n",
            "\n",
            "La caja es pesada.\n",
            "the [UNK] is [UNK]   \n",
            "The box is heavy.\n",
            "\n",
            "Temperature is 0.4\n",
            "Debemos limpiar la cocina.\n",
            "we have to go out of the car \n",
            "We must clean up the kitchen.\n",
            "\n",
            "Admit\u0013\u0010 que estaba equivocada.\n",
            "i was a doctor     \n",
            "I admitted that I was wrong.\n",
            "\n",
            "Cual es el lugar m\u0013as bonito del mundo?\n",
            "the world is [UNK] a [UNK]   \n",
            "What's the most beautiful place in the world?\n",
            "\n",
            "La caja es pesada.\n",
            "the box is cold     \n",
            "The box is heavy.\n",
            "\n",
            "Temperature is 0.5\n",
            "Debemos limpiar la cocina.\n",
            "we have to get off the stairs   \n",
            "We must clean up the kitchen.\n",
            "\n",
            "Admit\u0013\u0010 que estaba equivocada.\n",
            "i can you just needed     \n",
            "I admitted that I was wrong.\n",
            "\n",
            "Cual es el lugar m\u0013as bonito del mundo?\n",
            "the world is [UNK] as good for the [UNK] \n",
            "What's the most beautiful place in the world?\n",
            "\n",
            "La caja es pesada.\n",
            "the box is [UNK]      \n",
            "The box is heavy.\n",
            "\n",
            "Temperature is 0.6\n",
            "Debemos limpiar la cocina.\n",
            "we must go out by the car \n",
            "We must clean up the kitchen.\n",
            "\n",
            "Admit\u0013\u0010 que estaba equivocada.\n",
            "i couldnt see the one   \n",
            "I admitted that I was wrong.\n",
            "\n",
            "Cual es el lugar m\u0013as bonito del mundo?\n",
            "the world is [UNK] a good [UNK] \n",
            "What's the most beautiful place in the world?\n",
            "\n",
            "La caja es pesada.\n",
            "this is [UNK] on the door  \n",
            "The box is heavy.\n",
            "\n"
          ]
        }
      ],
      "source": [
        "# sentences from the paper\n",
        "\n",
        "text_table = wandb.Table(columns=[\"source\", \"translate\", \"target\", \"temperature\"])\n",
        "n_samples = 10\n",
        "context_strings = tf.constant([\n",
        "    \"Debemos limpiar la cocina.\",\n",
        "    \"Admit\u0013\u0010 que estaba equivocada.\",\n",
        "    \"Cual es el lugar m\u0013as bonito del mundo?\",\n",
        "    \"La caja es pesada.\",\n",
        "])\n",
        "target_strings = tf.constant([\n",
        "    \"We must clean up the kitchen.\",\n",
        "    \"I admitted that I was wrong.\",\n",
        "    \"What's the most beautiful place in the world?\",\n",
        "    \"The box is heavy.\",\n",
        "])\n",
        "for temp in np.arange(0.1, 0.7, 0.1):\n",
        "    translate_strings = model.translate(context_strings, temperature=temp)\n",
        "\n",
        "    encoded_strings = [x.numpy() for x in\n",
        "                        [context_strings, translate_strings, target_strings]]\n",
        "    print(\"Temperature is\", np.round(temp, 2))\n",
        "    for i in range(min(len(context_strings), n_samples)):\n",
        "        for t in encoded_strings:\n",
        "            print(t[i].decode())\n",
        "        print()\n",
        "        text_table.add_data(*[t[i].decode() for t in encoded_strings], temp)\n",
        "\n",
        "wandb.log({\"paper_samples\" : text_table})"
      ]
    },
    {
      "cell_type": "code",
      "execution_count": 39,
      "metadata": {
        "colab": {
          "base_uri": "https://localhost:8080/",
          "height": 682,
          "referenced_widgets": [
            "a0685a57b54142b79ae7a5da5612ef6d",
            "274dec4568854ca69619aa5dae815b74",
            "f2bf45d6ccdb4c60913454dba04e669a",
            "08bdc54deb6c434ca9cb5209c165e649",
            "8696a85bfdbd497b8f0095b0c7c5124d",
            "03586103e3da40b4b52abe68d8badf10",
            "ce326b87648e4ab4852c840bad46a70a",
            "e1957c2f3ace48db8c4e0dd19dec2a65"
          ]
        },
        "id": "5GeEQqcvSlDM",
        "outputId": "e093ad50-804a-406f-84b8-746dd676e38a"
      },
      "outputs": [
        {
          "data": {
            "text/html": [
              "Waiting for W&B process to finish... <strong style=\"color:green\">(success).</strong>"
            ],
            "text/plain": [
              "<IPython.core.display.HTML object>"
            ]
          },
          "metadata": {},
          "output_type": "display_data"
        },
        {
          "data": {
            "text/html": [
              "<style>\n",
              "    table.wandb td:nth-child(1) { padding: 0 10px; text-align: left ; width: auto;} td:nth-child(2) {text-align: left ; width: 100%}\n",
              "    .wandb-row { display: flex; flex-direction: row; flex-wrap: wrap; justify-content: flex-start; width: 100% }\n",
              "    .wandb-col { display: flex; flex-direction: column; flex-basis: 100%; flex: 1; padding: 10px; }\n",
              "    </style>\n",
              "<div class=\"wandb-row\"><div class=\"wandb-col\"><h3>Run history:</h3><br/><table class=\"wandb\"><tr><td>batch/batch_step</td><td>▁▁▁▂▂▂▂▂▂▃▃▃▃▃▃▄▄▄▄▄▅▅▅▅▅▅▆▆▆▆▆▇▇▇▇▇▇███</td></tr><tr><td>batch/det</td><td>█▂▁▁▁▁▁▁▁▁▁▁▁▁▁▁▁▁▁▁▁▁▁▁▁▁▁▁▁▁▁▁▁▁▁▂▂▂▂▃</td></tr><tr><td>batch/learning_rate</td><td>▁▁▁▁▁▁▁▁▁▁▁▁▁▁▁▁▁▁▁▁▁▁▁▁▁▁▁▁▁▁▁▁▁▁▁▁▁▁▁▁</td></tr><tr><td>batch/loss</td><td>█▇▅▄▃▃▃▃▂▂▂▂▂▂▂▁▂▁▁▁▁▁▁▁▁▁▁▁▁▁▁▁▁▁▁▁▁▁▁▁</td></tr><tr><td>batch/masked_acc</td><td>▁▂▄▅▅▆▆▆▆▇▇▇▇▇▇▇▇▇▇▇████████████████████</td></tr><tr><td>batch/masked_loss</td><td>█▇▅▄▃▃▃▃▂▂▂▂▂▂▂▁▂▁▁▁▁▁▁▁▁▁▁▁▁▁▁▁▁▁▁▁▁▁▁▁</td></tr><tr><td>batch/max_grad</td><td>▁▁▄▃▃▃▃▃▂▃▄▃▆▄▃▃▃▅▄▃▄▄▃▄▃▄▄▅▄▄▅▃▂▄▃▃▄▃▄█</td></tr><tr><td>batch/mean_grad</td><td>▅▅▅▅▄▆▄▄▅▃▅▄▄█▃▅█▄▅▄██▁█▄▄▇▇▅▄▂▅▄▅▅▅▇▄▅▇</td></tr><tr><td>batch/min_grad</td><td>██▇▇▆▆▆▆▇▆▅▇▁▇▆▇▇▆▆▆▇▆▆▇▆▆▆▄▆▆▅▇▇▆▆▆▆▇▇▄</td></tr><tr><td>batch/var_grad</td><td>▁▂▃▃▅▄▄▄▃▅▆▄█▅▅▄▄▅▅▄▅▅▅▅▄▅▅▇▅▅▅▄▄▅▄▄▅▄▃█</td></tr><tr><td>epoch/det</td><td>▃▁▁▁▁▁▁▁▁▁▁▁▁▁▁▁▁▁▁▁▁▁▁▂▂▂▃▄▅▆█</td></tr><tr><td>epoch/epoch</td><td>▁▁▁▂▂▂▂▃▃▃▃▄▄▄▄▅▅▅▅▅▆▆▆▆▇▇▇▇███</td></tr><tr><td>epoch/learning_rate</td><td>▁▁▁▁▁▁▁▁▁▁▁▁▁▁▁▁▁▁▁▁▁▁▁▁▁▁▁▁▁▁▁</td></tr><tr><td>epoch/loss</td><td>█▆▅▄▃▃▃▂▂▂▂▂▂▂▁▁▁▁▁▁▁▁▁▁▁▁▁▁▁▁▁</td></tr><tr><td>epoch/masked_acc</td><td>▁▃▄▅▅▆▆▆▇▇▇▇▇▇▇▇███████████████</td></tr><tr><td>epoch/masked_loss</td><td>█▆▅▄▃▃▃▂▂▂▂▂▂▂▁▁▁▁▁▁▁▁▁▁▁▁▁▁▁▁▁</td></tr><tr><td>epoch/max_grad</td><td>▁▂▁▅▆▂▄█▅▄▅▄▃▃▃▅▇▂▄▃▄▂▄▃▄▄▁▃▃▃▃</td></tr><tr><td>epoch/mean_grad</td><td>▄▄▃▃▄▃▃▅▅▄▄▄▅▁▄▅▁▄▃▃▅▁▅▂▁▄▄▄▅▂█</td></tr><tr><td>epoch/min_grad</td><td>███▆▂▇▄▃▆▅▄▅▄▁▆▆▅▆▅▆▇▇▄▅▆▄▇▇▇▆▇</td></tr><tr><td>epoch/val_loss</td><td>█▆▅▄▄▃▃▂▃▂▂▂▂▂▂▂▂▁▁▁▁▁▁▁▁▁▁▁▁▁▁</td></tr><tr><td>epoch/val_masked_acc</td><td>▁▃▄▅▅▆▆▆▆▇▇▇▇▇▇▇▇▇▇███████▇████</td></tr><tr><td>epoch/val_masked_loss</td><td>█▆▅▄▄▃▃▂▃▂▂▂▂▂▂▂▂▁▁▁▁▁▁▁▁▁▁▁▁▁▁</td></tr><tr><td>epoch/var_grad</td><td>▁▃▂▆▇▃▆█▅▆▆▅▅▇▅▆▅▅▅▄▃▄▇▆▅▆▃▅▄▄▄</td></tr></table><br/></div><div class=\"wandb-col\"><h3>Run summary:</h3><br/><table class=\"wandb\"><tr><td>batch/batch_step</td><td>54156</td></tr><tr><td>batch/det</td><td>0.09243</td></tr><tr><td>batch/learning_rate</td><td>0.001</td></tr><tr><td>batch/loss</td><td>2.78704</td></tr><tr><td>batch/masked_acc</td><td>0.44674</td></tr><tr><td>batch/masked_loss</td><td>2.80691</td></tr><tr><td>batch/max_grad</td><td>0.9255</td></tr><tr><td>batch/mean_grad</td><td>0.02019</td></tr><tr><td>batch/min_grad</td><td>-0.81284</td></tr><tr><td>batch/var_grad</td><td>0.20223</td></tr><tr><td>epoch/det</td><td>0.09243</td></tr><tr><td>epoch/epoch</td><td>30</td></tr><tr><td>epoch/learning_rate</td><td>0.001</td></tr><tr><td>epoch/loss</td><td>2.78704</td></tr><tr><td>epoch/masked_acc</td><td>0.44674</td></tr><tr><td>epoch/masked_loss</td><td>2.80691</td></tr><tr><td>epoch/max_grad</td><td>0.9255</td></tr><tr><td>epoch/mean_grad</td><td>0.02019</td></tr><tr><td>epoch/min_grad</td><td>-0.81284</td></tr><tr><td>epoch/val_loss</td><td>2.98131</td></tr><tr><td>epoch/val_masked_acc</td><td>0.43069</td></tr><tr><td>epoch/val_masked_loss</td><td>2.98131</td></tr><tr><td>epoch/var_grad</td><td>0.20223</td></tr></table><br/></div></div>"
            ],
            "text/plain": [
              "<IPython.core.display.HTML object>"
            ]
          },
          "metadata": {},
          "output_type": "display_data"
        },
        {
          "data": {
            "text/html": [
              " View run <strong style=\"color:#cdcd00\">wandering-sunset-20</strong> at: <a href='https://wandb.ai/amirfvb/CRNN_translate_debug/runs/y5t1e4nd' target=\"_blank\">https://wandb.ai/amirfvb/CRNN_translate_debug/runs/y5t1e4nd</a><br/>Synced 7 W&B file(s), 2 media file(s), 27 artifact file(s) and 2 other file(s)"
            ],
            "text/plain": [
              "<IPython.core.display.HTML object>"
            ]
          },
          "metadata": {},
          "output_type": "display_data"
        },
        {
          "data": {
            "text/html": [
              "Find logs at: <code>./wandb/run-20230703_210501-y5t1e4nd/logs</code>"
            ],
            "text/plain": [
              "<IPython.core.display.HTML object>"
            ]
          },
          "metadata": {},
          "output_type": "display_data"
        },
        {
          "ename": "",
          "evalue": "",
          "output_type": "error",
          "traceback": [
            "\u001b[1;31mThe Kernel crashed while executing code in the the current cell or a previous cell. Please review the code in the cell(s) to identify a possible cause of the failure. Click <a href='https://aka.ms/vscodeJupyterKernelCrash'>here</a> for more info. View Jupyter <a href='command:jupyter.viewOutput'>log</a> for further details."
          ]
        }
      ],
      "source": [
        "wandb.finish()"
      ]
    }
  ],
  "metadata": {
    "accelerator": "GPU",
    "colab": {
      "gpuType": "T4",
      "provenance": []
    },
    "kernelspec": {
      "display_name": "Python 3",
      "name": "python3"
    },
    "language_info": {
      "codemirror_mode": {
        "name": "ipython",
        "version": 3
      },
      "file_extension": ".py",
      "mimetype": "text/x-python",
      "name": "python",
      "nbconvert_exporter": "python",
      "pygments_lexer": "ipython3",
      "version": "3.10.11"
    },
    "orig_nbformat": 4,
    "widgets": {
      "application/vnd.jupyter.widget-state+json": {
        "03586103e3da40b4b52abe68d8badf10": {
          "model_module": "@jupyter-widgets/controls",
          "model_module_version": "1.5.0",
          "model_name": "DescriptionStyleModel",
          "state": {
            "_model_module": "@jupyter-widgets/controls",
            "_model_module_version": "1.5.0",
            "_model_name": "DescriptionStyleModel",
            "_view_count": null,
            "_view_module": "@jupyter-widgets/base",
            "_view_module_version": "1.2.0",
            "_view_name": "StyleView",
            "description_width": ""
          }
        },
        "08bdc54deb6c434ca9cb5209c165e649": {
          "model_module": "@jupyter-widgets/base",
          "model_module_version": "1.2.0",
          "model_name": "LayoutModel",
          "state": {
            "_model_module": "@jupyter-widgets/base",
            "_model_module_version": "1.2.0",
            "_model_name": "LayoutModel",
            "_view_count": null,
            "_view_module": "@jupyter-widgets/base",
            "_view_module_version": "1.2.0",
            "_view_name": "LayoutView",
            "align_content": null,
            "align_items": null,
            "align_self": null,
            "border": null,
            "bottom": null,
            "display": null,
            "flex": null,
            "flex_flow": null,
            "grid_area": null,
            "grid_auto_columns": null,
            "grid_auto_flow": null,
            "grid_auto_rows": null,
            "grid_column": null,
            "grid_gap": null,
            "grid_row": null,
            "grid_template_areas": null,
            "grid_template_columns": null,
            "grid_template_rows": null,
            "height": null,
            "justify_content": null,
            "justify_items": null,
            "left": null,
            "margin": null,
            "max_height": null,
            "max_width": null,
            "min_height": null,
            "min_width": null,
            "object_fit": null,
            "object_position": null,
            "order": null,
            "overflow": null,
            "overflow_x": null,
            "overflow_y": null,
            "padding": null,
            "right": null,
            "top": null,
            "visibility": null,
            "width": null
          }
        },
        "274dec4568854ca69619aa5dae815b74": {
          "model_module": "@jupyter-widgets/controls",
          "model_module_version": "1.5.0",
          "model_name": "LabelModel",
          "state": {
            "_dom_classes": [],
            "_model_module": "@jupyter-widgets/controls",
            "_model_module_version": "1.5.0",
            "_model_name": "LabelModel",
            "_view_count": null,
            "_view_module": "@jupyter-widgets/controls",
            "_view_module_version": "1.5.0",
            "_view_name": "LabelView",
            "description": "",
            "description_tooltip": null,
            "layout": "IPY_MODEL_8696a85bfdbd497b8f0095b0c7c5124d",
            "placeholder": "​",
            "style": "IPY_MODEL_03586103e3da40b4b52abe68d8badf10",
            "value": "1.132 MB of 1.132 MB uploaded (0.124 MB deduped)\r"
          }
        },
        "8696a85bfdbd497b8f0095b0c7c5124d": {
          "model_module": "@jupyter-widgets/base",
          "model_module_version": "1.2.0",
          "model_name": "LayoutModel",
          "state": {
            "_model_module": "@jupyter-widgets/base",
            "_model_module_version": "1.2.0",
            "_model_name": "LayoutModel",
            "_view_count": null,
            "_view_module": "@jupyter-widgets/base",
            "_view_module_version": "1.2.0",
            "_view_name": "LayoutView",
            "align_content": null,
            "align_items": null,
            "align_self": null,
            "border": null,
            "bottom": null,
            "display": null,
            "flex": null,
            "flex_flow": null,
            "grid_area": null,
            "grid_auto_columns": null,
            "grid_auto_flow": null,
            "grid_auto_rows": null,
            "grid_column": null,
            "grid_gap": null,
            "grid_row": null,
            "grid_template_areas": null,
            "grid_template_columns": null,
            "grid_template_rows": null,
            "height": null,
            "justify_content": null,
            "justify_items": null,
            "left": null,
            "margin": null,
            "max_height": null,
            "max_width": null,
            "min_height": null,
            "min_width": null,
            "object_fit": null,
            "object_position": null,
            "order": null,
            "overflow": null,
            "overflow_x": null,
            "overflow_y": null,
            "padding": null,
            "right": null,
            "top": null,
            "visibility": null,
            "width": null
          }
        },
        "a0685a57b54142b79ae7a5da5612ef6d": {
          "model_module": "@jupyter-widgets/controls",
          "model_module_version": "1.5.0",
          "model_name": "VBoxModel",
          "state": {
            "_dom_classes": [],
            "_model_module": "@jupyter-widgets/controls",
            "_model_module_version": "1.5.0",
            "_model_name": "VBoxModel",
            "_view_count": null,
            "_view_module": "@jupyter-widgets/controls",
            "_view_module_version": "1.5.0",
            "_view_name": "VBoxView",
            "box_style": "",
            "children": [
              "IPY_MODEL_274dec4568854ca69619aa5dae815b74",
              "IPY_MODEL_f2bf45d6ccdb4c60913454dba04e669a"
            ],
            "layout": "IPY_MODEL_08bdc54deb6c434ca9cb5209c165e649"
          }
        },
        "ce326b87648e4ab4852c840bad46a70a": {
          "model_module": "@jupyter-widgets/base",
          "model_module_version": "1.2.0",
          "model_name": "LayoutModel",
          "state": {
            "_model_module": "@jupyter-widgets/base",
            "_model_module_version": "1.2.0",
            "_model_name": "LayoutModel",
            "_view_count": null,
            "_view_module": "@jupyter-widgets/base",
            "_view_module_version": "1.2.0",
            "_view_name": "LayoutView",
            "align_content": null,
            "align_items": null,
            "align_self": null,
            "border": null,
            "bottom": null,
            "display": null,
            "flex": null,
            "flex_flow": null,
            "grid_area": null,
            "grid_auto_columns": null,
            "grid_auto_flow": null,
            "grid_auto_rows": null,
            "grid_column": null,
            "grid_gap": null,
            "grid_row": null,
            "grid_template_areas": null,
            "grid_template_columns": null,
            "grid_template_rows": null,
            "height": null,
            "justify_content": null,
            "justify_items": null,
            "left": null,
            "margin": null,
            "max_height": null,
            "max_width": null,
            "min_height": null,
            "min_width": null,
            "object_fit": null,
            "object_position": null,
            "order": null,
            "overflow": null,
            "overflow_x": null,
            "overflow_y": null,
            "padding": null,
            "right": null,
            "top": null,
            "visibility": null,
            "width": null
          }
        },
        "e1957c2f3ace48db8c4e0dd19dec2a65": {
          "model_module": "@jupyter-widgets/controls",
          "model_module_version": "1.5.0",
          "model_name": "ProgressStyleModel",
          "state": {
            "_model_module": "@jupyter-widgets/controls",
            "_model_module_version": "1.5.0",
            "_model_name": "ProgressStyleModel",
            "_view_count": null,
            "_view_module": "@jupyter-widgets/base",
            "_view_module_version": "1.2.0",
            "_view_name": "StyleView",
            "bar_color": null,
            "description_width": ""
          }
        },
        "f2bf45d6ccdb4c60913454dba04e669a": {
          "model_module": "@jupyter-widgets/controls",
          "model_module_version": "1.5.0",
          "model_name": "FloatProgressModel",
          "state": {
            "_dom_classes": [],
            "_model_module": "@jupyter-widgets/controls",
            "_model_module_version": "1.5.0",
            "_model_name": "FloatProgressModel",
            "_view_count": null,
            "_view_module": "@jupyter-widgets/controls",
            "_view_module_version": "1.5.0",
            "_view_name": "ProgressView",
            "bar_style": "",
            "description": "",
            "description_tooltip": null,
            "layout": "IPY_MODEL_ce326b87648e4ab4852c840bad46a70a",
            "max": 1,
            "min": 0,
            "orientation": "horizontal",
            "style": "IPY_MODEL_e1957c2f3ace48db8c4e0dd19dec2a65",
            "value": 1
          }
        }
      }
    }
  },
  "nbformat": 4,
  "nbformat_minor": 0
}
