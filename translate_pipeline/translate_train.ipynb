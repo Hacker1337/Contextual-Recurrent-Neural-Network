{
  "cells": [
    {
      "cell_type": "code",
      "execution_count": 1,
      "metadata": {
        "id": "1y6Abugxrf2d"
      },
      "outputs": [
        {
          "name": "stderr",
          "output_type": "stream",
          "text": [
            "2023-06-28 14:24:47.621778: I tensorflow/core/platform/cpu_feature_guard.cc:193] This TensorFlow binary is optimized with oneAPI Deep Neural Network Library (oneDNN) to use the following CPU instructions in performance-critical operations:  SSE4.1 SSE4.2 AVX AVX2 FMA\n",
            "To enable them in other operations, rebuild TensorFlow with the appropriate compiler flags.\n"
          ]
        }
      ],
      "source": [
        "import tensorflow as tf\n",
        "from tensorflow.keras import layers\n",
        "from tensorflow.keras.optimizers import Adam\n",
        "\n",
        "import re\n",
        "import string\n",
        "import numpy as np\n",
        "import matplotlib.pyplot as plt\n",
        "\n",
        "import pandas as pd"
      ]
    },
    {
      "cell_type": "code",
      "execution_count": 2,
      "metadata": {},
      "outputs": [],
      "source": [
        "tf.config.experimental.enable_op_determinism()\n",
        "tf.keras.utils.set_random_seed(42)"
      ]
    },
    {
      "cell_type": "code",
      "execution_count": 3,
      "metadata": {
        "id": "wprxod5JHj5y"
      },
      "outputs": [],
      "source": [
        "# import os\n",
        "# os.environ['WANDB_MODE'] = 'offline'\n"
      ]
    },
    {
      "attachments": {},
      "cell_type": "markdown",
      "metadata": {
        "id": "fnFF_jmZrf2d"
      },
      "source": [
        "### Load dataset"
      ]
    },
    {
      "cell_type": "code",
      "execution_count": 4,
      "metadata": {
        "colab": {
          "base_uri": "https://localhost:8080/",
          "height": 35
        },
        "id": "URvRhEBCM19u",
        "outputId": "63b76fc3-c8f1-4688-c864-77b1280d75ab"
      },
      "outputs": [
        {
          "data": {
            "text/plain": [
              "'Running locally'"
            ]
          },
          "execution_count": 4,
          "metadata": {},
          "output_type": "execute_result"
        }
      ],
      "source": [
        "try:\n",
        "  import google.colab\n",
        "  IN_COLAB = True\n",
        "except:\n",
        "  IN_COLAB = False\n",
        "\"Running in colab\" if IN_COLAB else \"Running locally\""
      ]
    },
    {
      "attachments": {},
      "cell_type": "markdown",
      "metadata": {
        "id": "j9VR2_vwO0Un"
      },
      "source": [
        "### Init wandb"
      ]
    },
    {
      "cell_type": "code",
      "execution_count": 5,
      "metadata": {
        "id": "BB6FdX7IO56-"
      },
      "outputs": [],
      "source": [
        "if IN_COLAB:\n",
        "  !pip install wandb -q\n",
        "  !pip install python-dotenv -q\n",
        "  !pip install ruamel.yaml -q\n",
        "\n",
        "import wandb\n",
        "\n",
        "from wandb.keras import (\n",
        "   WandbMetricsLogger,\n",
        "   WandbModelCheckpoint,\n",
        ")\n",
        "from ruamel.yaml import YAML"
      ]
    },
    {
      "cell_type": "code",
      "execution_count": 6,
      "metadata": {
        "colab": {
          "base_uri": "https://localhost:8080/"
        },
        "id": "cLSgofojQuJl",
        "outputId": "751b4fad-f439-41b5-9cbd-b942b779dda9"
      },
      "outputs": [
        {
          "name": "stderr",
          "output_type": "stream",
          "text": [
            "Failed to detect the name of this notebook, you can set it manually with the WANDB_NOTEBOOK_NAME environment variable to enable code saving.\n",
            "\u001b[34m\u001b[1mwandb\u001b[0m: Currently logged in as: \u001b[33mamirfvb\u001b[0m. Use \u001b[1m`wandb login --relogin`\u001b[0m to force relogin\n"
          ]
        },
        {
          "data": {
            "text/plain": [
              "True"
            ]
          },
          "execution_count": 6,
          "metadata": {},
          "output_type": "execute_result"
        }
      ],
      "source": [
        "import os\n",
        "from dotenv import load_dotenv; load_dotenv(\"wandb.env\")\n",
        "os.environ[\"WANDB_NOTEBOOK_NAME\"] = \"translate_train.ipynb\"\n",
        "wandb.login()"
      ]
    },
    {
      "cell_type": "code",
      "execution_count": 7,
      "metadata": {
        "colab": {
          "base_uri": "https://localhost:8080/",
          "height": 104
        },
        "id": "2HUCLg80P5j6",
        "outputId": "129edfea-abb5-46c8-bedd-a2489adaa969"
      },
      "outputs": [
        {
          "data": {
            "text/html": [
              "Tracking run with wandb version 0.15.4"
            ],
            "text/plain": [
              "<IPython.core.display.HTML object>"
            ]
          },
          "metadata": {},
          "output_type": "display_data"
        },
        {
          "data": {
            "text/html": [
              "Run data is saved locally in <code>/mnt/c/Users/amirf/YandexDisk/Documents/Contextual Recurrent Neural Network/translate_pipeline/wandb/run-20230628_142451-kl1tmzkv</code>"
            ],
            "text/plain": [
              "<IPython.core.display.HTML object>"
            ]
          },
          "metadata": {},
          "output_type": "display_data"
        },
        {
          "data": {
            "text/html": [
              "Syncing run <strong><a href='https://wandb.ai/amirfvb/my-awesome-project/runs/kl1tmzkv' target=\"_blank\">test_determinism</a></strong> to <a href='https://wandb.ai/amirfvb/my-awesome-project' target=\"_blank\">Weights & Biases</a> (<a href='https://wandb.me/run' target=\"_blank\">docs</a>)<br/>"
            ],
            "text/plain": [
              "<IPython.core.display.HTML object>"
            ]
          },
          "metadata": {},
          "output_type": "display_data"
        },
        {
          "data": {
            "text/html": [
              " View project at <a href='https://wandb.ai/amirfvb/my-awesome-project' target=\"_blank\">https://wandb.ai/amirfvb/my-awesome-project</a>"
            ],
            "text/plain": [
              "<IPython.core.display.HTML object>"
            ]
          },
          "metadata": {},
          "output_type": "display_data"
        },
        {
          "data": {
            "text/html": [
              " View run at <a href='https://wandb.ai/amirfvb/my-awesome-project/runs/kl1tmzkv' target=\"_blank\">https://wandb.ai/amirfvb/my-awesome-project/runs/kl1tmzkv</a>"
            ],
            "text/plain": [
              "<IPython.core.display.HTML object>"
            ]
          },
          "metadata": {},
          "output_type": "display_data"
        }
      ],
      "source": [
        "yaml=YAML(typ='safe')\n",
        "with open('trans_params.yaml', 'r') as file:\n",
        "    config_file = yaml.load(file)\n",
        "\n",
        "wandb.init(\n",
        "    # set the wandb project where this run will be logged\n",
        "    project=\"CRNN_translate\",\n",
        "\n",
        "    # name=\"test_determinism\",\n",
        "    # notes=\"Removed gradient clipping\",\n",
        "    config=config_file,\n",
        "    save_code=True,\n",
        ")\n",
        "# wandb.run.log_code(include_fn=lambda path: path.endswith(\"translate_train.ipynb\"))\n",
        "wandb.run.log_code(include_fn=lambda path: path.endswith(\".ipynb\") or path.endswith(\".py\"))\n",
        "config = wandb.config"
      ]
    },
    {
      "cell_type": "code",
      "execution_count": 8,
      "metadata": {
        "id": "Q35JVdoVHj50"
      },
      "outputs": [],
      "source": [
        "UNITS = config[\"hidden_dims\"]\n",
        "input_dim = config[\"input_size\"]"
      ]
    },
    {
      "attachments": {},
      "cell_type": "markdown",
      "metadata": {
        "id": "g08aYS4uHj51"
      },
      "source": [
        "### Dataset loading"
      ]
    },
    {
      "cell_type": "code",
      "execution_count": 9,
      "metadata": {
        "colab": {
          "base_uri": "https://localhost:8080/"
        },
        "id": "uf9bkc1Xrf2d",
        "outputId": "0138fd24-1392-432d-f7a3-2607c0d6c8a2"
      },
      "outputs": [
        {
          "name": "stdout",
          "output_type": "stream",
          "text": [
            "Un día, me desperté y vi que Dios me había puesto pelo en la cara. Me lo afeité. Al día siguiente, vi que Dios me lo había vuelto a poner en la cara, así que me lo afeité otra vez. Al tercer día, cuando vi que Dios me había puesto pelo en la cara de nuevo, decidí que Dios se saliera con la suya. Por eso tengo barba.\n",
            "One day, I woke up to find that God had put hair on my face. I shaved it off. The next day, I found that God had put it back on my face, so I shaved it off again. On the third day, when I found that God had put hair back on my face again, I decided to let God have his way. That's why I have a beard.\n"
          ]
        }
      ],
      "source": [
        "if IN_COLAB:\n",
        "    # download dataset\n",
        "\n",
        "    import pathlib\n",
        "\n",
        "    path_to_zip = tf.keras.utils.get_file(\n",
        "        'spa-eng.zip', origin='http://storage.googleapis.com/download.tensorflow.org/data/spa-eng.zip',\n",
        "        extract=True)\n",
        "\n",
        "    path_to_file = pathlib.Path(path_to_zip).parent/'spa-eng/spa.txt'\n",
        "\n",
        "    def load_data(path):\n",
        "        text = path.read_text(encoding='utf-8')\n",
        "\n",
        "        lines = text.splitlines()\n",
        "        pairs = [line.split('\\t') for line in lines]\n",
        "\n",
        "        context = np.array([context for target, context in pairs])\n",
        "        target = np.array([target for target, context in pairs])\n",
        "\n",
        "        return target, context\n",
        "\n",
        "    target_raw, context_raw = load_data(path_to_file)\n",
        "\n",
        "    print(context_raw[-1])\n",
        "    print(target_raw[-1])\n",
        "\n",
        "else:\n",
        "    df = pd.read_csv(\"data/spa-eng.zip\", delimiter=\"\\t\", names=[\"translate\", \"source\", \"attr\"])\n",
        "    context_raw = np.array(df[\"source\"])\n",
        "    target_raw = np.array(df[\"translate\"])\n",
        "    print(context_raw[-1])\n",
        "    print(target_raw[-1])\n",
        "\n",
        "BUFFER_SIZE = len(context_raw)\n",
        "BATCH_SIZE = 64\n",
        "\n",
        "is_train = np.random.uniform(size=(len(target_raw),)) < 0.8 # todo. Check reproducibility and across methods (colab/not colab)\n",
        "\n",
        "\n",
        "train_raw = (\n",
        "    tf.data.Dataset\n",
        "    .from_tensor_slices((context_raw[is_train], target_raw[is_train]))\n",
        "    .shuffle(BUFFER_SIZE)\n",
        "    .batch(BATCH_SIZE))\n",
        "val_raw = (\n",
        "    tf.data.Dataset\n",
        "    .from_tensor_slices((context_raw[~is_train], target_raw[~is_train]))\n",
        "    .shuffle(BUFFER_SIZE)\n",
        "    .batch(BATCH_SIZE))\n",
        "\n"
      ]
    },
    {
      "attachments": {},
      "cell_type": "markdown",
      "metadata": {
        "id": "4IuSKTeBc_Ei"
      },
      "source": [
        "#### My dataset processing"
      ]
    },
    {
      "cell_type": "code",
      "execution_count": 10,
      "metadata": {
        "colab": {
          "base_uri": "https://localhost:8080/"
        },
        "id": "1G0LvQANrf2d",
        "outputId": "4698815d-dfd6-4b2d-e14c-3ec524302ee0"
      },
      "outputs": [
        {
          "name": "stdout",
          "output_type": "stream",
          "text": [
            "WARNING:tensorflow:From /home/amir/miniconda3/envs/CRNN-env/lib/python3.10/site-packages/tensorflow/python/autograph/pyct/static_analysis/liveness.py:83: Analyzer.lamba_check (from tensorflow.python.autograph.pyct.static_analysis.liveness) is deprecated and will be removed after 2023-09-23.\n",
            "Instructions for updating:\n",
            "Lambda fuctions will be no more assumed to be used in the statement where they are used, or at least in the same block. https://github.com/tensorflow/tensorflow/issues/56089\n"
          ]
        },
        {
          "data": {
            "text/plain": [
              "['', '[UNK]', '[START]', '[END]', 'de', 'que', 'no', 'tom', 'a', 'la']"
            ]
          },
          "execution_count": 10,
          "metadata": {},
          "output_type": "execute_result"
        }
      ],
      "source": [
        "def custom_standardization(text):\n",
        "\n",
        "  text = tf.strings.lower(text)\n",
        "  text = tf.strings.regex_replace(text,\n",
        "                                  '[%s]' % re.escape(string.punctuation + \"¿¡\"), '')\n",
        "  text = tf.strings.join(['[START]', text, '[END]'], separator=' ')\n",
        "  return text\n",
        "vocab_size = 5000\n",
        "# sequence_length = 250\n",
        "\n",
        "\n",
        "\n",
        "context_text_processor = tf.keras.layers.TextVectorization(\n",
        "    standardize=custom_standardization,\n",
        "    max_tokens=vocab_size,\n",
        "    ragged=True)\n",
        "\n",
        "context_text_processor.adapt(train_raw.map(lambda context, target: context))\n",
        "\n",
        "# Here are the first 10 words from the vocabulary:\n",
        "context_text_processor.get_vocabulary()[:10]"
      ]
    },
    {
      "cell_type": "code",
      "execution_count": 11,
      "metadata": {
        "colab": {
          "base_uri": "https://localhost:8080/"
        },
        "id": "r2I1XfeKrf2e",
        "outputId": "943fab11-c999-4af9-83f3-01f8125c8917"
      },
      "outputs": [
        {
          "data": {
            "text/plain": [
              "['', '[UNK]', '[START]', '[END]', 'i', 'the', 'to', 'you', 'tom', 'a']"
            ]
          },
          "execution_count": 11,
          "metadata": {},
          "output_type": "execute_result"
        }
      ],
      "source": [
        "target_text_processor = tf.keras.layers.TextVectorization(\n",
        "    standardize=custom_standardization,\n",
        "    max_tokens=vocab_size,\n",
        "    ragged=True)\n",
        "\n",
        "target_text_processor.adapt(train_raw.map(lambda context, target: target))\n",
        "target_text_processor.get_vocabulary()[:10]"
      ]
    },
    {
      "attachments": {},
      "cell_type": "markdown",
      "metadata": {
        "id": "X-T8B_vkdRxJ"
      },
      "source": [
        "#### End of text processings"
      ]
    },
    {
      "cell_type": "code",
      "execution_count": 12,
      "metadata": {
        "id": "c7PxnBbyrf2e"
      },
      "outputs": [],
      "source": [
        "def process_text(context, target):\n",
        "  context = context_text_processor(context).to_tensor()\n",
        "  target = target_text_processor(target)\n",
        "  targ_in = target[:,:-1].to_tensor()\n",
        "  targ_out = target[:,1:].to_tensor()\n",
        "  return (context, targ_in), targ_out\n",
        "\n",
        "\n",
        "train_ds = train_raw.map(process_text, tf.data.AUTOTUNE)\n",
        "val_ds = val_raw.map(process_text, tf.data.AUTOTUNE)"
      ]
    },
    {
      "cell_type": "code",
      "execution_count": 13,
      "metadata": {
        "id": "yMtZ4Bhyrf2f"
      },
      "outputs": [],
      "source": [
        "def masked_loss(y_true, y_pred):\n",
        "    # Calculate the loss for each item in the batch.\n",
        "    loss_fn = tf.keras.losses.SparseCategoricalCrossentropy(\n",
        "        from_logits=True, reduction='none')\n",
        "    loss = loss_fn(y_true, y_pred)\n",
        "\n",
        "    # Mask off the losses on padding.\n",
        "    mask = tf.cast(y_true != 0, loss.dtype)\n",
        "    loss *= mask\n",
        "\n",
        "    # Return the total.\n",
        "    return tf.reduce_sum(loss)/tf.reduce_sum(mask)"
      ]
    },
    {
      "cell_type": "code",
      "execution_count": 14,
      "metadata": {
        "id": "b8lGVB0Rrf2f"
      },
      "outputs": [],
      "source": [
        "def masked_acc(y_true, y_pred):\n",
        "    # Calculate the loss for each item in the batch.\n",
        "    y_pred = tf.argmax(y_pred, axis=-1)\n",
        "    y_pred = tf.cast(y_pred, y_true.dtype)\n",
        "\n",
        "    match = tf.cast(y_true == y_pred, tf.float32)\n",
        "    mask = tf.cast(y_true != 0, tf.float32)\n",
        "\n",
        "    return tf.reduce_sum(match)/tf.reduce_sum(mask)"
      ]
    },
    {
      "attachments": {},
      "cell_type": "markdown",
      "metadata": {
        "id": "92wKGN7grf2e"
      },
      "source": [
        "### define model"
      ]
    },
    {
      "cell_type": "code",
      "execution_count": 15,
      "metadata": {
        "colab": {
          "base_uri": "https://localhost:8080/"
        },
        "id": "RUHCEaiGHj53",
        "outputId": "28cac008-821d-4403-d47f-8da25e3f7970"
      },
      "outputs": [],
      "source": [
        "%load_ext autoreload\n",
        "\n",
        "%autoreload 2"
      ]
    },
    {
      "cell_type": "code",
      "execution_count": 16,
      "metadata": {
        "id": "FIZKmw-4Hj53"
      },
      "outputs": [],
      "source": [
        "if config[\"model\"] == \"attention_gru\":\n",
        "    from attention_gru_translate_model  import Translator\n",
        "    # wandb.run.log_code(include_fn=lambda path: path.endswith(\"attention_gru_translate_model.py\"))\n",
        "\n",
        "    model_kwargs = {\"attention\": True}\n",
        "\n",
        "elif config[\"model\"] == \"gru\":\n",
        "\n",
        "    from gru_translate_model  import Translator\n",
        "    # wandb.run.log_code(include_fn=lambda path: path.endswith(\"attention_gru_translate_model.py\"))\n",
        "\n",
        "    model_kwargs = {}\n",
        "\n",
        "elif config[\"model\"] == \"crnn\":\n",
        "    from context_rnn_translate_model import Translator\n",
        "    # wandb.run.log_code(include_fn=lambda path: path.endswith(\"attention_gru_translate_model.py\"))\n",
        "\n",
        "    model_kwargs = {}\n",
        "# elif config[\"model\"] == \"attention_crnn\":\n",
        "#     from context_rnn_translate_model import Translator\n",
        "#     # wandb.run.log_code(include_fn=lambda path: path.endswith(\"attention_gru_translate_model.py\"))\n",
        "\n",
        "#     model_kwargs = {\"attention\": True}\n",
        "else:\n",
        "    raise NotImplementedError(\"Model \" + config[\"model\"] + \" is not implemented\")"
      ]
    },
    {
      "cell_type": "code",
      "execution_count": 17,
      "metadata": {
        "id": "A2ndQ8Nwrf2f"
      },
      "outputs": [],
      "source": [
        "model = Translator(UNITS, context_text_processor, target_text_processor, input_dim, **model_kwargs)"
      ]
    },
    {
      "cell_type": "code",
      "execution_count": 18,
      "metadata": {
        "id": "9zHF56Ujrf2f"
      },
      "outputs": [],
      "source": [
        "model.compile(optimizer=Adam(learning_rate=config[\"lr\"]),\n",
        "              loss=masked_loss,\n",
        "              metrics=[masked_acc])"
      ]
    },
    {
      "cell_type": "code",
      "execution_count": 19,
      "metadata": {
        "colab": {
          "base_uri": "https://localhost:8080/"
        },
        "id": "w3-cVb8grf2f",
        "outputId": "545af6a8-7a63-4cd8-d256-ae3e211d8906"
      },
      "outputs": [
        {
          "name": "stdout",
          "output_type": "stream",
          "text": [
            "Epoch 1/2\n",
            "1747/1747 [==============================] - 76s 41ms/step - loss: 5.5007 - masked_acc: 0.1662 - val_loss: 5.5811 - val_masked_acc: 0.0475\n",
            "Epoch 2/2\n",
            "1747/1747 [==============================] - 69s 39ms/step - loss: 4.7869 - masked_acc: 0.2184 - val_loss: 5.6645 - val_masked_acc: 0.0985\n"
          ]
        }
      ],
      "source": [
        "history = model.fit(\n",
        "    train_ds,\n",
        "    epochs=config[\"epochs\"],\n",
        "    # steps_per_epoch = 100,\n",
        "    validation_data=val_ds,\n",
        "    # validation_steps = 20,\n",
        "    shuffle=False,\n",
        "    callbacks=[\n",
        "        # tf.keras.callbacks.EarlyStopping(patience=3),\n",
        "        WandbMetricsLogger()])"
      ]
    },
    {
      "cell_type": "code",
      "execution_count": 20,
      "metadata": {
        "colab": {
          "base_uri": "https://localhost:8080/",
          "height": 466
        },
        "id": "xYkzHkBtrf2g",
        "outputId": "0750e7f7-a2b5-4ad8-832d-c6093719fc60"
      },
      "outputs": [
        {
          "data": {
            "text/plain": [
              "<matplotlib.legend.Legend at 0x7fadf0d0c700>"
            ]
          },
          "execution_count": 20,
          "metadata": {},
          "output_type": "execute_result"
        },
        {
          "data": {
            "image/png": "[encoded data removed]",
            "text/plain": [
              "<Figure size 640x480 with 1 Axes>"
            ]
          },
          "metadata": {},
          "output_type": "display_data"
        }
      ],
      "source": [
        "plt.plot(history.history['loss'], label='loss')\n",
        "plt.plot(history.history['val_loss'], label='val_loss')\n",
        "plt.ylim([0, max(plt.ylim())])\n",
        "plt.xlabel('Epoch #')\n",
        "plt.ylabel('CE/token')\n",
        "plt.legend()"
      ]
    },
    {
      "cell_type": "code",
      "execution_count": 21,
      "metadata": {
        "colab": {
          "base_uri": "https://localhost:8080/",
          "height": 466
        },
        "id": "IE-Rlne6rf2g",
        "outputId": "5ea295a3-4550-40e8-ebfb-7745069fd567"
      },
      "outputs": [
        {
          "data": {
            "text/plain": [
              "<matplotlib.legend.Legend at 0x7fada058fa60>"
            ]
          },
          "execution_count": 21,
          "metadata": {},
          "output_type": "execute_result"
        },
        {
          "data": {
            "image/png": "[encoded data removed]",
            "text/plain": [
              "<Figure size 640x480 with 1 Axes>"
            ]
          },
          "metadata": {},
          "output_type": "display_data"
        }
      ],
      "source": [
        "plt.plot(history.history['masked_acc'], label='accuracy')\n",
        "plt.plot(history.history['val_masked_acc'], label='val_accuracy')\n",
        "plt.ylim([0, max(plt.ylim())])\n",
        "plt.xlabel('Epoch #')\n",
        "plt.ylabel('accuracy')\n",
        "plt.legend()"
      ]
    },
    {
      "cell_type": "code",
      "execution_count": 22,
      "metadata": {
        "id": "DXoAo-brrf2g"
      },
      "outputs": [],
      "source": [
        "# result = model.translate(['¿Todavía está en casa?']) # Are you still home\n",
        "# result[0].numpy().decode()"
      ]
    },
    {
      "attachments": {},
      "cell_type": "markdown",
      "metadata": {
        "id": "Qid2Dxt14Z4N"
      },
      "source": [
        "### Examples of translation"
      ]
    },
    {
      "cell_type": "code",
      "execution_count": 24,
      "metadata": {
        "colab": {
          "base_uri": "https://localhost:8080/"
        },
        "id": "UrUnutpO4f4R",
        "outputId": "8615dab1-809a-4bdf-d1c7-ebeb64cc5b4f"
      },
      "outputs": [
        {
          "name": "stdout",
          "output_type": "stream",
          "text": [
            "Temperature is 0.1\n",
            "Ve.\n",
            "i the [UNK] of the [UNK] of the [UNK] of the [UNK] of the [UNK]        \n",
            "Go.\n",
            "\n",
            "Vaya.\n",
            "i have the [UNK] of the [UNK] of the [UNK] of a [UNK] of the [UNK]       \n",
            "Go.\n",
            "\n",
            "Váyase.\n",
            "tom was [UNK] to the [UNK] of the [UNK] of the [UNK] of the [UNK]        \n",
            "Go.\n",
            "\n",
            "Hola.\n",
            "i the [UNK] [UNK] [UNK] to the [UNK] of the [UNK] of the [UNK]         \n",
            "Hi.\n",
            "\n",
            "¡Corre!\n",
            "i the [UNK] [UNK] of the [UNK] [UNK] of the [UNK] of the [UNK] of the [UNK]      \n",
            "Run!\n",
            "\n",
            "¡Corran!\n",
            "tom [UNK] the [UNK] [UNK] of the [UNK] of [UNK] to the [UNK] of the [UNK]       \n",
            "Run!\n",
            "\n",
            "¡Corra!\n",
            "i the [UNK] [UNK] of the [UNK] of the [UNK] of the [UNK] of the [UNK]       \n",
            "Run!\n",
            "\n",
            "¡Corred!\n",
            "tom was [UNK] to the [UNK] [UNK] of the [UNK] of the [UNK] of the [UNK]       \n",
            "Run!\n",
            "\n",
            "Corra.\n",
            "i the [UNK] [UNK] [UNK] to the [UNK] [UNK] of the [UNK] of the [UNK]        \n",
            "Run.\n",
            "\n",
            "¡Órale!\n",
            "tom [UNK] the [UNK] [UNK] of the [UNK] of the [UNK] of the [UNK]         \n",
            "Wow!\n",
            "\n",
            "Temperature is 0.2\n",
            "Ve.\n",
            "tom was [UNK] to the [UNK] of the [UNK] of the [UNK] of the [UNK]         \n",
            "Go.\n",
            "\n",
            "Vaya.\n",
            "i have the [UNK] [UNK] to the [UNK] of the [UNK] of the [UNK]          \n",
            "Go.\n",
            "\n",
            "Váyase.\n",
            "i the [UNK] [UNK] of the [UNK] of the [UNK] of the [UNK] of the [UNK]        \n",
            "Go.\n",
            "\n",
            "Hola.\n",
            "i the [UNK] [UNK] and the [UNK] of the [UNK] of the [UNK] of the [UNK]        \n",
            "Hi.\n",
            "\n",
            "¡Corre!\n",
            "tom [UNK] was [UNK] to the [UNK] of the [UNK] of [UNK] to the [UNK]         \n",
            "Run!\n",
            "\n",
            "¡Corran!\n",
            "i the [UNK] [UNK] and the [UNK] of the [UNK] of the [UNK] of the [UNK]        \n",
            "Run!\n",
            "\n",
            "¡Corra!\n",
            "i the [UNK] [UNK] [UNK] to the [UNK] of the [UNK] [UNK] of the [UNK]         \n",
            "Run!\n",
            "\n",
            "¡Corred!\n",
            "i the [UNK] [UNK] of the [UNK] of the [UNK] of the [UNK] of the [UNK]        \n",
            "Run!\n",
            "\n",
            "Corra.\n",
            "i the [UNK] [UNK] [UNK] to the [UNK] of the [UNK] of the [UNK] of the [UNK]       \n",
            "Run.\n",
            "\n",
            "¡Órale!\n",
            "the [UNK] [UNK] [UNK] to the [UNK] of the [UNK] [UNK] of the [UNK]          \n",
            "Wow!\n",
            "\n",
            "Temperature is 0.3\n",
            "Ve.\n",
            "i the [UNK] of the [UNK] [UNK] but to the [UNK] [UNK] of the car          \n",
            "Go.\n",
            "\n",
            "Vaya.\n",
            "i was a time to the [UNK] [UNK] to be [UNK] to be [UNK] to go         \n",
            "Go.\n",
            "\n",
            "Váyase.\n",
            "i was [UNK] the [UNK] of the [UNK] of a [UNK] of the [UNK] of the [UNK]        \n",
            "Go.\n",
            "\n",
            "Hola.\n",
            "tom was [UNK] the [UNK] of the [UNK] of the [UNK] of the [UNK]           \n",
            "Hi.\n",
            "\n",
            "¡Corre!\n",
            "we the [UNK] [UNK] [UNK] to the [UNK] of the [UNK] of the [UNK] of          \n",
            "Run!\n",
            "\n",
            "¡Corran!\n",
            "he is [UNK] is the [UNK] [UNK] of the [UNK] of the [UNK] of the [UNK]         \n",
            "Run!\n",
            "\n",
            "¡Corra!\n",
            "i was [UNK] to be [UNK] to the [UNK] of [UNK] to the [UNK] of the [UNK]        \n",
            "Run!\n",
            "\n",
            "¡Corred!\n",
            "tom had the [UNK] [UNK] of the [UNK] [UNK] of the [UNK]             \n",
            "Run!\n",
            "\n",
            "Corra.\n",
            "tom [UNK] [UNK] to be [UNK] to be [UNK] to be [UNK] to the [UNK]          \n",
            "Run.\n",
            "\n",
            "¡Órale!\n",
            "i have the [UNK] and the [UNK] of the [UNK] of the [UNK] of the [UNK]         \n",
            "Wow!\n",
            "\n",
            "Temperature is 0.4\n",
            "Ve.\n",
            "i have the [UNK] [UNK] the [UNK] of the [UNK] of the [UNK] of a [UNK]         \n",
            "Go.\n",
            "\n",
            "Vaya.\n",
            "he was you the [UNK] [UNK] to have the world to the little [UNK] of the job        \n",
            "Go.\n",
            "\n",
            "Váyase.\n",
            "i was the [UNK] of [UNK] of into the [UNK] [UNK] the [UNK] of the [UNK]         \n",
            "Go.\n",
            "\n",
            "Hola.\n",
            "the [UNK] of the [UNK] [UNK] [UNK] in the [UNK] of the [UNK] of           \n",
            "Hi.\n",
            "\n",
            "¡Corre!\n",
            "i the [UNK] of the room is [UNK] in a house of the [UNK] [UNK]          \n",
            "Run!\n",
            "\n",
            "¡Corran!\n",
            "the [UNK] [UNK] the [UNK] and the [UNK] of the [UNK] of the [UNK] of          \n",
            "Run!\n",
            "\n",
            "¡Corra!\n",
            "tom was [UNK] is [UNK] [UNK] to the [UNK] [UNK] of the [UNK] of night          \n",
            "Run!\n",
            "\n",
            "¡Corred!\n",
            "i the [UNK] of the [UNK] [UNK] [UNK] and the [UNK] of the united [UNK]          \n",
            "Run!\n",
            "\n",
            "Corra.\n",
            "to take a [UNK] more [UNK] in the [UNK] is [UNK] to want the wife          \n",
            "Run.\n",
            "\n",
            "¡Órale!\n",
            "i the [UNK] of the [UNK] [UNK] to the [UNK] of a [UNK] of the [UNK]         \n",
            "Wow!\n",
            "\n",
            "Temperature is 0.5\n",
            "Ve.\n",
            "i had the [UNK] [UNK] in the [UNK] of more [UNK] there a [UNK]           \n",
            "Go.\n",
            "\n",
            "Vaya.\n",
            "tom very are a father [UNK] with a lot of the [UNK] of think to be a [UNK]       \n",
            "Go.\n",
            "\n",
            "Váyase.\n",
            "i is a [UNK] [UNK] [UNK] the [UNK] [UNK] and the [UNK] and the [UNK]          \n",
            "Go.\n",
            "\n",
            "Hola.\n",
            "he [UNK] me of a [UNK] of a person from be [UNK] to the [UNK] of [UNK]        \n",
            "Hi.\n",
            "\n",
            "¡Corre!\n",
            "a [UNK] [UNK] or [UNK] to the [UNK] of the [UNK] of been [UNK]           \n",
            "Run!\n",
            "\n",
            "¡Corran!\n",
            "he was a [UNK] [UNK] in the [UNK] [UNK] to get [UNK] for the [UNK]          \n",
            "Run!\n",
            "\n",
            "¡Corra!\n",
            "i is a lot is [UNK] dont the [UNK] in the [UNK] and the [UNK] [UNK]         \n",
            "Run!\n",
            "\n",
            "¡Corred!\n",
            "i like the [UNK] [UNK] to the [UNK] of [UNK] to get the [UNK] [UNK]          \n",
            "Run!\n",
            "\n",
            "Corra.\n",
            "people the new [UNK] of the [UNK] of [UNK] before the [UNK] of [UNK]           \n",
            "Run.\n",
            "\n",
            "¡Órale!\n",
            "the [UNK] [UNK] of the [UNK] [UNK] on the [UNK] of the [UNK] of the ability         \n",
            "Wow!\n",
            "\n",
            "Temperature is 0.6\n",
            "Ve.\n",
            "i had a [UNK] [UNK] school [UNK] to the police time in you [UNK]            \n",
            "Go.\n",
            "\n",
            "Vaya.\n",
            "tom cant the [UNK] was the new [UNK] of the grandfather to the other time           \n",
            "Go.\n",
            "\n",
            "Váyase.\n",
            "i the [UNK] of the [UNK] of dont [UNK] that of the [UNK] day            \n",
            "Go.\n",
            "\n",
            "Hola.\n",
            "tom [UNK] and the new [UNK] do to go to go to music with the world          \n",
            "Hi.\n",
            "\n",
            "¡Corre!\n",
            "i many [UNK] is able i the [UNK] [UNK] [UNK] in talk you the new [UNK]          \n",
            "Run!\n",
            "\n",
            "¡Corran!\n",
            "ill the [UNK] [UNK] took [UNK] to the minutes of the [UNK] dancing             \n",
            "Run!\n",
            "\n",
            "¡Corra!\n",
            "tom [UNK] [UNK] if that of the [UNK] of more to get the [UNK] of us          \n",
            "Run!\n",
            "\n",
            "¡Corred!\n",
            "the fear i you mary though because i the other [UNK] to has the hospital on the job        \n",
            "Run!\n",
            "\n",
            "Corra.\n",
            "i tom will still without a [UNK] is to the [UNK] and [UNK] in a [UNK]          \n",
            "Run.\n",
            "\n",
            "¡Órale!\n",
            "you wanted i decided and speak in the [UNK] is the country              \n",
            "Wow!\n",
            "\n"
          ]
        }
      ],
      "source": [
        "text_table = wandb.Table(columns=[\"source\", \"translate\", \"target\", \"temperature\"])\n",
        "n_samples = 10\n",
        "\n",
        "for context_strings, target_strings in train_raw.take(1):\n",
        "    for temp in np.arange(0.1, 0.7, 0.1):\n",
        "        translate_strings = model.translate(context_strings, temperature=temp)\n",
        "\n",
        "        encoded_strings = [x.numpy() for x in\n",
        "                           [context_strings, translate_strings, target_strings]]\n",
        "        print(\"Temperature is\", np.round(temp, 2))\n",
        "        for i in range(min(len(context_strings), n_samples)):\n",
        "            for t in encoded_strings:\n",
        "                print(t[i].decode())\n",
        "            print()\n",
        "            text_table.add_data(*[t[i].decode() for t in encoded_strings], temp)\n",
        "\n",
        "wandb.log({\"training_samples\" : text_table})"
      ]
    },
    {
      "cell_type": "code",
      "execution_count": 25,
      "metadata": {
        "colab": {
          "base_uri": "https://localhost:8080/",
          "height": 682,
          "referenced_widgets": [
            "a0685a57b54142b79ae7a5da5612ef6d",
            "274dec4568854ca69619aa5dae815b74",
            "f2bf45d6ccdb4c60913454dba04e669a",
            "08bdc54deb6c434ca9cb5209c165e649",
            "8696a85bfdbd497b8f0095b0c7c5124d",
            "03586103e3da40b4b52abe68d8badf10",
            "ce326b87648e4ab4852c840bad46a70a",
            "e1957c2f3ace48db8c4e0dd19dec2a65"
          ]
        },
        "id": "5GeEQqcvSlDM",
        "outputId": "e093ad50-804a-406f-84b8-746dd676e38a"
      },
      "outputs": [
        {
          "data": {
            "text/html": [
              "Waiting for W&B process to finish... <strong style=\"color:green\">(success).</strong>"
            ],
            "text/plain": [
              "<IPython.core.display.HTML object>"
            ]
          },
          "metadata": {},
          "output_type": "display_data"
        },
        {
          "data": {
            "application/vnd.jupyter.widget-view+json": {
              "model_id": "2c969d8708a74ec9993dfad02636cf7f",
              "version_major": 2,
              "version_minor": 0
            },
            "text/plain": [
              "VBox(children=(Label(value='0.232 MB of 0.239 MB uploaded (0.021 MB deduped)\\r'), FloatProgress(value=0.972936…"
            ]
          },
          "metadata": {},
          "output_type": "display_data"
        },
        {
          "data": {
            "text/html": [
              "<style>\n",
              "    table.wandb td:nth-child(1) { padding: 0 10px; text-align: left ; width: auto;} td:nth-child(2) {text-align: left ; width: 100%}\n",
              "    .wandb-row { display: flex; flex-direction: row; flex-wrap: wrap; justify-content: flex-start; width: 100% }\n",
              "    .wandb-col { display: flex; flex-direction: column; flex-basis: 100%; flex: 1; padding: 10px; }\n",
              "    </style>\n",
              "<div class=\"wandb-row\"><div class=\"wandb-col\"><h3>Run history:</h3><br/><table class=\"wandb\"><tr><td>epoch/epoch</td><td>▁█</td></tr><tr><td>epoch/learning_rate</td><td>▁▁</td></tr><tr><td>epoch/loss</td><td>█▁</td></tr><tr><td>epoch/masked_acc</td><td>▁█</td></tr><tr><td>epoch/val_loss</td><td>▁█</td></tr><tr><td>epoch/val_masked_acc</td><td>▁█</td></tr></table><br/></div><div class=\"wandb-col\"><h3>Run summary:</h3><br/><table class=\"wandb\"><tr><td>epoch/epoch</td><td>1</td></tr><tr><td>epoch/learning_rate</td><td>0.001</td></tr><tr><td>epoch/loss</td><td>4.78694</td></tr><tr><td>epoch/masked_acc</td><td>0.21845</td></tr><tr><td>epoch/val_loss</td><td>5.66453</td></tr><tr><td>epoch/val_masked_acc</td><td>0.09852</td></tr></table><br/></div></div>"
            ],
            "text/plain": [
              "<IPython.core.display.HTML object>"
            ]
          },
          "metadata": {},
          "output_type": "display_data"
        },
        {
          "data": {
            "text/html": [
              " View run <strong style=\"color:#cdcd00\">test_determinism</strong> at: <a href='https://wandb.ai/amirfvb/my-awesome-project/runs/kl1tmzkv' target=\"_blank\">https://wandb.ai/amirfvb/my-awesome-project/runs/kl1tmzkv</a><br/>Synced 7 W&B file(s), 1 media file(s), 5 artifact file(s) and 1 other file(s)"
            ],
            "text/plain": [
              "<IPython.core.display.HTML object>"
            ]
          },
          "metadata": {},
          "output_type": "display_data"
        },
        {
          "data": {
            "text/html": [
              "Find logs at: <code>./wandb/run-20230628_142451-kl1tmzkv/logs</code>"
            ],
            "text/plain": [
              "<IPython.core.display.HTML object>"
            ]
          },
          "metadata": {},
          "output_type": "display_data"
        }
      ],
      "source": [
        "wandb.finish()"
      ]
    }
  ],
  "metadata": {
    "accelerator": "GPU",
    "colab": {
      "gpuType": "T4",
      "provenance": []
    },
    "kernelspec": {
      "display_name": "Python 3",
      "name": "python3"
    },
    "language_info": {
      "codemirror_mode": {
        "name": "ipython",
        "version": 3
      },
      "file_extension": ".py",
      "mimetype": "text/x-python",
      "name": "python",
      "nbconvert_exporter": "python",
      "pygments_lexer": "ipython3",
      "version": "3.10.11"
    },
    "orig_nbformat": 4,
    "widgets": {
      "application/vnd.jupyter.widget-state+json": {
        "03586103e3da40b4b52abe68d8badf10": {
          "model_module": "@jupyter-widgets/controls",
          "model_module_version": "1.5.0",
          "model_name": "DescriptionStyleModel",
          "state": {
            "_model_module": "@jupyter-widgets/controls",
            "_model_module_version": "1.5.0",
            "_model_name": "DescriptionStyleModel",
            "_view_count": null,
            "_view_module": "@jupyter-widgets/base",
            "_view_module_version": "1.2.0",
            "_view_name": "StyleView",
            "description_width": ""
          }
        },
        "08bdc54deb6c434ca9cb5209c165e649": {
          "model_module": "@jupyter-widgets/base",
          "model_module_version": "1.2.0",
          "model_name": "LayoutModel",
          "state": {
            "_model_module": "@jupyter-widgets/base",
            "_model_module_version": "1.2.0",
            "_model_name": "LayoutModel",
            "_view_count": null,
            "_view_module": "@jupyter-widgets/base",
            "_view_module_version": "1.2.0",
            "_view_name": "LayoutView",
            "align_content": null,
            "align_items": null,
            "align_self": null,
            "border": null,
            "bottom": null,
            "display": null,
            "flex": null,
            "flex_flow": null,
            "grid_area": null,
            "grid_auto_columns": null,
            "grid_auto_flow": null,
            "grid_auto_rows": null,
            "grid_column": null,
            "grid_gap": null,
            "grid_row": null,
            "grid_template_areas": null,
            "grid_template_columns": null,
            "grid_template_rows": null,
            "height": null,
            "justify_content": null,
            "justify_items": null,
            "left": null,
            "margin": null,
            "max_height": null,
            "max_width": null,
            "min_height": null,
            "min_width": null,
            "object_fit": null,
            "object_position": null,
            "order": null,
            "overflow": null,
            "overflow_x": null,
            "overflow_y": null,
            "padding": null,
            "right": null,
            "top": null,
            "visibility": null,
            "width": null
          }
        },
        "274dec4568854ca69619aa5dae815b74": {
          "model_module": "@jupyter-widgets/controls",
          "model_module_version": "1.5.0",
          "model_name": "LabelModel",
          "state": {
            "_dom_classes": [],
            "_model_module": "@jupyter-widgets/controls",
            "_model_module_version": "1.5.0",
            "_model_name": "LabelModel",
            "_view_count": null,
            "_view_module": "@jupyter-widgets/controls",
            "_view_module_version": "1.5.0",
            "_view_name": "LabelView",
            "description": "",
            "description_tooltip": null,
            "layout": "IPY_MODEL_8696a85bfdbd497b8f0095b0c7c5124d",
            "placeholder": "​",
            "style": "IPY_MODEL_03586103e3da40b4b52abe68d8badf10",
            "value": "1.132 MB of 1.132 MB uploaded (0.124 MB deduped)\r"
          }
        },
        "8696a85bfdbd497b8f0095b0c7c5124d": {
          "model_module": "@jupyter-widgets/base",
          "model_module_version": "1.2.0",
          "model_name": "LayoutModel",
          "state": {
            "_model_module": "@jupyter-widgets/base",
            "_model_module_version": "1.2.0",
            "_model_name": "LayoutModel",
            "_view_count": null,
            "_view_module": "@jupyter-widgets/base",
            "_view_module_version": "1.2.0",
            "_view_name": "LayoutView",
            "align_content": null,
            "align_items": null,
            "align_self": null,
            "border": null,
            "bottom": null,
            "display": null,
            "flex": null,
            "flex_flow": null,
            "grid_area": null,
            "grid_auto_columns": null,
            "grid_auto_flow": null,
            "grid_auto_rows": null,
            "grid_column": null,
            "grid_gap": null,
            "grid_row": null,
            "grid_template_areas": null,
            "grid_template_columns": null,
            "grid_template_rows": null,
            "height": null,
            "justify_content": null,
            "justify_items": null,
            "left": null,
            "margin": null,
            "max_height": null,
            "max_width": null,
            "min_height": null,
            "min_width": null,
            "object_fit": null,
            "object_position": null,
            "order": null,
            "overflow": null,
            "overflow_x": null,
            "overflow_y": null,
            "padding": null,
            "right": null,
            "top": null,
            "visibility": null,
            "width": null
          }
        },
        "a0685a57b54142b79ae7a5da5612ef6d": {
          "model_module": "@jupyter-widgets/controls",
          "model_module_version": "1.5.0",
          "model_name": "VBoxModel",
          "state": {
            "_dom_classes": [],
            "_model_module": "@jupyter-widgets/controls",
            "_model_module_version": "1.5.0",
            "_model_name": "VBoxModel",
            "_view_count": null,
            "_view_module": "@jupyter-widgets/controls",
            "_view_module_version": "1.5.0",
            "_view_name": "VBoxView",
            "box_style": "",
            "children": [
              "IPY_MODEL_274dec4568854ca69619aa5dae815b74",
              "IPY_MODEL_f2bf45d6ccdb4c60913454dba04e669a"
            ],
            "layout": "IPY_MODEL_08bdc54deb6c434ca9cb5209c165e649"
          }
        },
        "ce326b87648e4ab4852c840bad46a70a": {
          "model_module": "@jupyter-widgets/base",
          "model_module_version": "1.2.0",
          "model_name": "LayoutModel",
          "state": {
            "_model_module": "@jupyter-widgets/base",
            "_model_module_version": "1.2.0",
            "_model_name": "LayoutModel",
            "_view_count": null,
            "_view_module": "@jupyter-widgets/base",
            "_view_module_version": "1.2.0",
            "_view_name": "LayoutView",
            "align_content": null,
            "align_items": null,
            "align_self": null,
            "border": null,
            "bottom": null,
            "display": null,
            "flex": null,
            "flex_flow": null,
            "grid_area": null,
            "grid_auto_columns": null,
            "grid_auto_flow": null,
            "grid_auto_rows": null,
            "grid_column": null,
            "grid_gap": null,
            "grid_row": null,
            "grid_template_areas": null,
            "grid_template_columns": null,
            "grid_template_rows": null,
            "height": null,
            "justify_content": null,
            "justify_items": null,
            "left": null,
            "margin": null,
            "max_height": null,
            "max_width": null,
            "min_height": null,
            "min_width": null,
            "object_fit": null,
            "object_position": null,
            "order": null,
            "overflow": null,
            "overflow_x": null,
            "overflow_y": null,
            "padding": null,
            "right": null,
            "top": null,
            "visibility": null,
            "width": null
          }
        },
        "e1957c2f3ace48db8c4e0dd19dec2a65": {
          "model_module": "@jupyter-widgets/controls",
          "model_module_version": "1.5.0",
          "model_name": "ProgressStyleModel",
          "state": {
            "_model_module": "@jupyter-widgets/controls",
            "_model_module_version": "1.5.0",
            "_model_name": "ProgressStyleModel",
            "_view_count": null,
            "_view_module": "@jupyter-widgets/base",
            "_view_module_version": "1.2.0",
            "_view_name": "StyleView",
            "bar_color": null,
            "description_width": ""
          }
        },
        "f2bf45d6ccdb4c60913454dba04e669a": {
          "model_module": "@jupyter-widgets/controls",
          "model_module_version": "1.5.0",
          "model_name": "FloatProgressModel",
          "state": {
            "_dom_classes": [],
            "_model_module": "@jupyter-widgets/controls",
            "_model_module_version": "1.5.0",
            "_model_name": "FloatProgressModel",
            "_view_count": null,
            "_view_module": "@jupyter-widgets/controls",
            "_view_module_version": "1.5.0",
            "_view_name": "ProgressView",
            "bar_style": "",
            "description": "",
            "description_tooltip": null,
            "layout": "IPY_MODEL_ce326b87648e4ab4852c840bad46a70a",
            "max": 1,
            "min": 0,
            "orientation": "horizontal",
            "style": "IPY_MODEL_e1957c2f3ace48db8c4e0dd19dec2a65",
            "value": 1
          }
        }
      }
    }
  },
  "nbformat": 4,
  "nbformat_minor": 0
}
