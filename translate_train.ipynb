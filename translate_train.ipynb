{
  "cells": [
    {
      "cell_type": "code",
      "execution_count": 1,
      "metadata": {
        "id": "1y6Abugxrf2d"
      },
      "outputs": [
        {
          "name": "stderr",
          "output_type": "stream",
          "text": [
            "2023-06-25 20:55:07.878427: I tensorflow/core/platform/cpu_feature_guard.cc:193] This TensorFlow binary is optimized with oneAPI Deep Neural Network Library (oneDNN) to use the following CPU instructions in performance-critical operations:  SSE4.1 SSE4.2 AVX AVX2 FMA\n",
            "To enable them in other operations, rebuild TensorFlow with the appropriate compiler flags.\n"
          ]
        }
      ],
      "source": [
        "import tensorflow as tf\n",
        "from tensorflow.keras import layers\n",
        "\n",
        "import re\n",
        "import string\n",
        "import numpy as np\n",
        "import matplotlib.pyplot as plt\n",
        "\n",
        "import pandas as pd"
      ]
    },
    {
      "cell_type": "code",
      "execution_count": 2,
      "metadata": {},
      "outputs": [],
      "source": [
        "# import os\n",
        "# os.environ['WANDB_MODE'] = 'offline'\n"
      ]
    },
    {
      "cell_type": "markdown",
      "metadata": {
        "id": "fnFF_jmZrf2d"
      },
      "source": [
        "### Load dataset"
      ]
    },
    {
      "cell_type": "code",
      "execution_count": 3,
      "metadata": {
        "colab": {
          "base_uri": "https://localhost:8080/",
          "height": 35
        },
        "id": "URvRhEBCM19u",
        "outputId": "377144eb-0eaa-4935-d5e7-5ac65d09da19"
      },
      "outputs": [
        {
          "data": {
            "text/plain": [
              "'Running locally'"
            ]
          },
          "execution_count": 3,
          "metadata": {},
          "output_type": "execute_result"
        }
      ],
      "source": [
        "try:\n",
        "  import google.colab\n",
        "  IN_COLAB = True\n",
        "except:\n",
        "  IN_COLAB = False\n",
        "\"Running in colab\" if IN_COLAB else \"Running locally\""
      ]
    },
    {
      "cell_type": "markdown",
      "metadata": {
        "id": "j9VR2_vwO0Un"
      },
      "source": [
        "### Init wandb"
      ]
    },
    {
      "cell_type": "code",
      "execution_count": 4,
      "metadata": {
        "colab": {
          "base_uri": "https://localhost:8080/"
        },
        "id": "BB6FdX7IO56-",
        "outputId": "d74c310a-c83a-4fb4-b117-b8f522f47b89"
      },
      "outputs": [],
      "source": [
        "if IN_COLAB:\n",
        "  !pip install wandb -q\n",
        "  !pip install python-dotenv -q\n",
        "  !pip install ruamel.yaml -q\n",
        "\n",
        "import wandb\n",
        "\n",
        "from wandb.keras import (\n",
        "   WandbMetricsLogger,\n",
        "   WandbModelCheckpoint,\n",
        ")\n",
        "\n",
        "from ruamel.yaml import YAML\n",
        "\n",
        "yaml=YAML(typ='safe')\n",
        "with open('trans_params.yaml', 'r') as file:\n",
        "    config_file = yaml.load(file)"
      ]
    },
    {
      "cell_type": "code",
      "execution_count": 5,
      "metadata": {
        "colab": {
          "base_uri": "https://localhost:8080/"
        },
        "id": "cLSgofojQuJl",
        "outputId": "1ebd27f0-59e6-41c5-a59a-e3918be5fdc9"
      },
      "outputs": [
        {
          "name": "stderr",
          "output_type": "stream",
          "text": [
            "Failed to detect the name of this notebook, you can set it manually with the WANDB_NOTEBOOK_NAME environment variable to enable code saving.\n"
          ]
        },
        {
          "data": {
            "text/plain": [
              "False"
            ]
          },
          "execution_count": 5,
          "metadata": {},
          "output_type": "execute_result"
        }
      ],
      "source": [
        "import os\n",
        "from dotenv import load_dotenv; load_dotenv(\"wandb.env\")\n",
        "\n",
        "wandb.login(key=os.environ.get(\"api_key\"))"
      ]
    },
    {
      "cell_type": "code",
      "execution_count": 6,
      "metadata": {
        "colab": {
          "base_uri": "https://localhost:8080/",
          "height": 104
        },
        "id": "2HUCLg80P5j6",
        "outputId": "a2860d42-10a6-443f-96bf-9e1508a6e248"
      },
      "outputs": [
        {
          "data": {
            "text/html": [
              "Tracking run with wandb version 0.15.4"
            ],
            "text/plain": [
              "<IPython.core.display.HTML object>"
            ]
          },
          "metadata": {},
          "output_type": "display_data"
        },
        {
          "data": {
            "text/html": [
              "W&B syncing is set to <code>`offline`<code> in this directory.  <br/>Run <code>`wandb online`<code> or set <code>WANDB_MODE=online<code> to enable cloud syncing."
            ],
            "text/plain": [
              "<IPython.core.display.HTML object>"
            ]
          },
          "metadata": {},
          "output_type": "display_data"
        }
      ],
      "source": [
        "wandb.init(\n",
        "    # set the wandb project where this run will be logged\n",
        "    project=\"CRNN_translate\",\n",
        "\n",
        "    # name=\"test_log_code\",\n",
        "    # notes=\"Removed gradient clipping\",\n",
        "    config=config_file,\n",
        "    save_code=True,\n",
        ")\n",
        "# wandb.run.log_code(include_fn=lambda path: path.endswith(\"translate_train.ipynb\"))\n",
        "wandb.run.log_code(include_fn=lambda path: path.endswith(\".ipynb\") or path.endswith(\".py\"))\n",
        "config = wandb.config"
      ]
    },
    {
      "cell_type": "code",
      "execution_count": 7,
      "metadata": {},
      "outputs": [],
      "source": [
        "UNITS = config[\"hidden_dims\"]\n",
        "input_dim = UNITS # fix equality in rnn input and hidden space sizes."
      ]
    },
    {
      "attachments": {},
      "cell_type": "markdown",
      "metadata": {},
      "source": [
        "### Dataset loading"
      ]
    },
    {
      "cell_type": "code",
      "execution_count": 8,
      "metadata": {
        "colab": {
          "base_uri": "https://localhost:8080/"
        },
        "id": "uf9bkc1Xrf2d",
        "outputId": "99c63083-88bf-4061-e14e-b05ecf70f42e"
      },
      "outputs": [
        {
          "name": "stdout",
          "output_type": "stream",
          "text": [
            "Un día, me desperté y vi que Dios me había puesto pelo en la cara. Me lo afeité. Al día siguiente, vi que Dios me lo había vuelto a poner en la cara, así que me lo afeité otra vez. Al tercer día, cuando vi que Dios me había puesto pelo en la cara de nuevo, decidí que Dios se saliera con la suya. Por eso tengo barba.\n",
            "One day, I woke up to find that God had put hair on my face. I shaved it off. The next day, I found that God had put it back on my face, so I shaved it off again. On the third day, when I found that God had put hair back on my face again, I decided to let God have his way. That's why I have a beard.\n"
          ]
        }
      ],
      "source": [
        "if IN_COLAB:\n",
        "    # download dataset\n",
        "\n",
        "    import pathlib\n",
        "\n",
        "    path_to_zip = tf.keras.utils.get_file(\n",
        "        'spa-eng.zip', origin='http://storage.googleapis.com/download.tensorflow.org/data/spa-eng.zip',\n",
        "        extract=True)\n",
        "\n",
        "    path_to_file = pathlib.Path(path_to_zip).parent/'spa-eng/spa.txt'\n",
        "\n",
        "    def load_data(path):\n",
        "        text = path.read_text(encoding='utf-8')\n",
        "\n",
        "        lines = text.splitlines()\n",
        "        pairs = [line.split('\\t') for line in lines]\n",
        "\n",
        "        context = np.array([context for target, context in pairs])\n",
        "        target = np.array([target for target, context in pairs])\n",
        "\n",
        "        return target, context\n",
        "\n",
        "    target_raw, context_raw = load_data(path_to_file)\n",
        "\n",
        "    print(context_raw[-1])\n",
        "    print(target_raw[-1])\n",
        "\n",
        "else:\n",
        "    df = pd.read_csv(\"data/spa-eng.zip\", delimiter=\"\\t\", names=[\"translate\", \"source\", \"attr\"])\n",
        "    context_raw = np.array(df[\"source\"])\n",
        "    target_raw = np.array(df[\"translate\"])\n",
        "    print(context_raw[-1])\n",
        "    print(target_raw[-1])\n",
        "\n",
        "BUFFER_SIZE = len(context_raw)\n",
        "BATCH_SIZE = 64\n",
        "\n",
        "is_train = np.random.uniform(size=(len(target_raw),)) < 0.8 # todo. Check reproducibility and across methods (colab/not colab)\n",
        "\n",
        "\n",
        "train_raw = (\n",
        "    tf.data.Dataset\n",
        "    .from_tensor_slices((context_raw[is_train], target_raw[is_train]))\n",
        "    .shuffle(BUFFER_SIZE)\n",
        "    .batch(BATCH_SIZE))\n",
        "val_raw = (\n",
        "    tf.data.Dataset\n",
        "    .from_tensor_slices((context_raw[~is_train], target_raw[~is_train]))\n",
        "    .shuffle(BUFFER_SIZE)\n",
        "    .batch(BATCH_SIZE))\n",
        "\n"
      ]
    },
    {
      "cell_type": "markdown",
      "metadata": {
        "id": "4IuSKTeBc_Ei"
      },
      "source": [
        "#### My dataset processing"
      ]
    },
    {
      "cell_type": "code",
      "execution_count": 9,
      "metadata": {
        "colab": {
          "base_uri": "https://localhost:8080/"
        },
        "id": "1G0LvQANrf2d",
        "outputId": "168d4429-a6ec-4796-b039-4f34650620aa"
      },
      "outputs": [
        {
          "name": "stdout",
          "output_type": "stream",
          "text": [
            "WARNING:tensorflow:From /home/amir/miniconda3/envs/CRNN-env/lib/python3.10/site-packages/tensorflow/python/autograph/pyct/static_analysis/liveness.py:83: Analyzer.lamba_check (from tensorflow.python.autograph.pyct.static_analysis.liveness) is deprecated and will be removed after 2023-09-23.\n",
            "Instructions for updating:\n",
            "Lambda fuctions will be no more assumed to be used in the statement where they are used, or at least in the same block. https://github.com/tensorflow/tensorflow/issues/56089\n"
          ]
        },
        {
          "data": {
            "text/plain": [
              "['', '[UNK]', '[START]', '[END]', 'de', 'que', 'no', 'tom', 'a', 'la']"
            ]
          },
          "execution_count": 9,
          "metadata": {},
          "output_type": "execute_result"
        }
      ],
      "source": [
        "def custom_standardization(text):\n",
        "\n",
        "  text = tf.strings.lower(text)\n",
        "  text = tf.strings.regex_replace(text,\n",
        "                                  '[%s]' % re.escape(string.punctuation + \"¿¡\"), '')\n",
        "  text = tf.strings.join(['[START]', text, '[END]'], separator=' ')\n",
        "  return text\n",
        "vocab_size = 5000\n",
        "# sequence_length = 250\n",
        "\n",
        "\n",
        "\n",
        "context_text_processor = tf.keras.layers.TextVectorization(\n",
        "    standardize=custom_standardization,\n",
        "    max_tokens=vocab_size,\n",
        "    ragged=True)\n",
        "\n",
        "context_text_processor.adapt(train_raw.map(lambda context, target: context))\n",
        "\n",
        "# Here are the first 10 words from the vocabulary:\n",
        "context_text_processor.get_vocabulary()[:10]"
      ]
    },
    {
      "cell_type": "code",
      "execution_count": 10,
      "metadata": {
        "colab": {
          "base_uri": "https://localhost:8080/"
        },
        "id": "r2I1XfeKrf2e",
        "outputId": "bca55d47-3b52-4b23-8936-48f8e5ca9f79"
      },
      "outputs": [
        {
          "data": {
            "text/plain": [
              "['', '[UNK]', '[START]', '[END]', 'i', 'the', 'to', 'you', 'tom', 'a']"
            ]
          },
          "execution_count": 10,
          "metadata": {},
          "output_type": "execute_result"
        }
      ],
      "source": [
        "target_text_processor = tf.keras.layers.TextVectorization(\n",
        "    standardize=custom_standardization,\n",
        "    max_tokens=vocab_size,\n",
        "    ragged=True)\n",
        "\n",
        "target_text_processor.adapt(train_raw.map(lambda context, target: target))\n",
        "target_text_processor.get_vocabulary()[:10]"
      ]
    },
    {
      "cell_type": "markdown",
      "metadata": {
        "id": "X-T8B_vkdRxJ"
      },
      "source": [
        "#### End of text processings"
      ]
    },
    {
      "cell_type": "code",
      "execution_count": 11,
      "metadata": {
        "id": "c7PxnBbyrf2e"
      },
      "outputs": [],
      "source": [
        "def process_text(context, target):\n",
        "  context = context_text_processor(context).to_tensor()\n",
        "  target = target_text_processor(target)\n",
        "  targ_in = target[:,:-1].to_tensor()\n",
        "  targ_out = target[:,1:].to_tensor()\n",
        "  return (context, targ_in), targ_out\n",
        "\n",
        "\n",
        "train_ds = train_raw.map(process_text, tf.data.AUTOTUNE)\n",
        "val_ds = val_raw.map(process_text, tf.data.AUTOTUNE)"
      ]
    },
    {
      "cell_type": "code",
      "execution_count": 12,
      "metadata": {
        "id": "yMtZ4Bhyrf2f"
      },
      "outputs": [],
      "source": [
        "def masked_loss(y_true, y_pred):\n",
        "    # Calculate the loss for each item in the batch.\n",
        "    loss_fn = tf.keras.losses.SparseCategoricalCrossentropy(\n",
        "        from_logits=True, reduction='none')\n",
        "    loss = loss_fn(y_true, y_pred)\n",
        "\n",
        "    # Mask off the losses on padding.\n",
        "    mask = tf.cast(y_true != 0, loss.dtype)\n",
        "    loss *= mask\n",
        "\n",
        "    # Return the total.\n",
        "    return tf.reduce_sum(loss)/tf.reduce_sum(mask)"
      ]
    },
    {
      "cell_type": "code",
      "execution_count": 13,
      "metadata": {
        "id": "b8lGVB0Rrf2f"
      },
      "outputs": [],
      "source": [
        "def masked_acc(y_true, y_pred):\n",
        "    # Calculate the loss for each item in the batch.\n",
        "    y_pred = tf.argmax(y_pred, axis=-1)\n",
        "    y_pred = tf.cast(y_pred, y_true.dtype)\n",
        "\n",
        "    match = tf.cast(y_true == y_pred, tf.float32)\n",
        "    mask = tf.cast(y_true != 0, tf.float32)\n",
        "\n",
        "    return tf.reduce_sum(match)/tf.reduce_sum(mask)"
      ]
    },
    {
      "cell_type": "markdown",
      "metadata": {
        "id": "92wKGN7grf2e"
      },
      "source": [
        "### define model"
      ]
    },
    {
      "cell_type": "code",
      "execution_count": 14,
      "metadata": {},
      "outputs": [],
      "source": [
        "%load_ext autoreload\n",
        "\n",
        "%autoreload 2"
      ]
    },
    {
      "cell_type": "code",
      "execution_count": 15,
      "metadata": {},
      "outputs": [],
      "source": [
        "if config[\"model\"] == \"attention_gru\":\n",
        "    from attention_gru_translate_model  import Translator\n",
        "    # wandb.run.log_code(include_fn=lambda path: path.endswith(\"attention_gru_translate_model.py\"))\n",
        "    \n",
        "    model_kwargs = {\"attention\": True}\n",
        "    \n",
        "elif config[\"model\"] == \"gru\":\n",
        "    \n",
        "    from attention_gru_translate_model  import Translator\n",
        "    # wandb.run.log_code(include_fn=lambda path: path.endswith(\"attention_gru_translate_model.py\"))\n",
        "    \n",
        "    model_kwargs = {\"attention\": False}\n",
        "    \n",
        "elif config[\"model\"] == \"crnn\":\n",
        "    from context_rnn_translate_model import Translator\n",
        "    # wandb.run.log_code(include_fn=lambda path: path.endswith(\"attention_gru_translate_model.py\"))\n",
        "\n",
        "    model_kwargs = {\"attention\": False}\n",
        "elif config[\"model\"] == \"attention_crnn\":\n",
        "    from context_rnn_translate_model import Translator\n",
        "    # wandb.run.log_code(include_fn=lambda path: path.endswith(\"attention_gru_translate_model.py\"))\n",
        "\n",
        "    model_kwargs = {\"attention\": True}\n",
        "else:\n",
        "    raise NotImplementedError(\"Model \" + config[\"model\"] + \" is not implemented\")"
      ]
    },
    {
      "cell_type": "code",
      "execution_count": 33,
      "metadata": {
        "id": "A2ndQ8Nwrf2f"
      },
      "outputs": [],
      "source": [
        "model = Translator(UNITS, context_text_processor, target_text_processor, input_dim, **model_kwargs)"
      ]
    },
    {
      "cell_type": "code",
      "execution_count": 34,
      "metadata": {
        "id": "9zHF56Ujrf2f"
      },
      "outputs": [],
      "source": [
        "model.compile(optimizer='adam',\n",
        "              loss=masked_loss,\n",
        "              metrics=[masked_acc, masked_loss])"
      ]
    },
    {
      "cell_type": "code",
      "execution_count": 35,
      "metadata": {
        "colab": {
          "base_uri": "https://localhost:8080/"
        },
        "id": "w3-cVb8grf2f",
        "outputId": "72635004-8d69-4c0c-d166-f6da165b6091"
      },
      "outputs": [
        {
          "name": "stdout",
          "output_type": "stream",
          "text": [
            "Epoch 1/10\n",
            "encoded\n",
            "decoded\n",
            "WARNING:tensorflow:Gradients do not exist for variables ['translator_2/encoder_4/embedding_8/embeddings:0', 'translator_2/encoder_4/rnn_8/contextual_rnn_cell_8/Variable:0', 'translator_2/encoder_4/rnn_8/contextual_rnn_cell_8/dense/kernel:0', 'translator_2/encoder_4/rnn_8/contextual_rnn_cell_8/dense/bias:0', 'translator_2/encoder_4/rnn_8/contextual_rnn_cell_8/dense_1/kernel:0', 'translator_2/encoder_4/rnn_8/contextual_rnn_cell_8/dense_1/bias:0'] when minimizing the loss. If you're using `model.compile()`, did you forget to provide a `loss` argument?\n",
            "WARNING:tensorflow:Gradients do not exist for variables ['translator_2/encoder_4/embedding_8/embeddings:0', 'translator_2/encoder_4/rnn_8/contextual_rnn_cell_8/Variable:0', 'translator_2/encoder_4/rnn_8/contextual_rnn_cell_8/dense/kernel:0', 'translator_2/encoder_4/rnn_8/contextual_rnn_cell_8/dense/bias:0', 'translator_2/encoder_4/rnn_8/contextual_rnn_cell_8/dense_1/kernel:0', 'translator_2/encoder_4/rnn_8/contextual_rnn_cell_8/dense_1/bias:0'] when minimizing the loss. If you're using `model.compile()`, did you forget to provide a `loss` argument?\n",
            "encoded\n",
            "decoded\n",
            "WARNING:tensorflow:Gradients do not exist for variables ['translator_2/encoder_4/embedding_8/embeddings:0', 'translator_2/encoder_4/rnn_8/contextual_rnn_cell_8/Variable:0', 'translator_2/encoder_4/rnn_8/contextual_rnn_cell_8/dense/kernel:0', 'translator_2/encoder_4/rnn_8/contextual_rnn_cell_8/dense/bias:0', 'translator_2/encoder_4/rnn_8/contextual_rnn_cell_8/dense_1/kernel:0', 'translator_2/encoder_4/rnn_8/contextual_rnn_cell_8/dense_1/bias:0'] when minimizing the loss. If you're using `model.compile()`, did you forget to provide a `loss` argument?\n",
            "WARNING:tensorflow:Gradients do not exist for variables ['translator_2/encoder_4/embedding_8/embeddings:0', 'translator_2/encoder_4/rnn_8/contextual_rnn_cell_8/Variable:0', 'translator_2/encoder_4/rnn_8/contextual_rnn_cell_8/dense/kernel:0', 'translator_2/encoder_4/rnn_8/contextual_rnn_cell_8/dense/bias:0', 'translator_2/encoder_4/rnn_8/contextual_rnn_cell_8/dense_1/kernel:0', 'translator_2/encoder_4/rnn_8/contextual_rnn_cell_8/dense_1/bias:0'] when minimizing the loss. If you're using `model.compile()`, did you forget to provide a `loss` argument?\n",
            "100/100 [==============================] - ETA: 0s - loss: 7.5725 - masked_acc: 0.1075 - masked_loss: 7.5725encoded\n",
            "decoded\n",
            "100/100 [==============================] - 22s 188ms/step - loss: 7.5725 - masked_acc: 0.1075 - masked_loss: 7.5725 - val_loss: 6.0402 - val_masked_acc: 0.1369 - val_masked_loss: 6.0402\n",
            "Epoch 2/10\n",
            "100/100 [==============================] - 20s 196ms/step - loss: 5.7385 - masked_acc: 0.1385 - masked_loss: 5.7385 - val_loss: 5.5827 - val_masked_acc: 0.1402 - val_masked_loss: 5.5827\n",
            "Epoch 3/10\n",
            "100/100 [==============================] - 19s 188ms/step - loss: 5.5563 - masked_acc: 0.1408 - masked_loss: 5.5563 - val_loss: 5.4722 - val_masked_acc: 0.1635 - val_masked_loss: 5.4722\n",
            "Epoch 4/10\n",
            "100/100 [==============================] - 20s 195ms/step - loss: 5.4332 - masked_acc: 0.1633 - masked_loss: 5.4332 - val_loss: 5.4201 - val_masked_acc: 0.1675 - val_masked_loss: 5.4201\n",
            "Epoch 5/10\n",
            "100/100 [==============================] - 18s 184ms/step - loss: 5.3735 - masked_acc: 0.1647 - masked_loss: 5.3735 - val_loss: 5.3305 - val_masked_acc: 0.1648 - val_masked_loss: 5.3305\n",
            "Epoch 6/10\n",
            "100/100 [==============================] - 20s 200ms/step - loss: 5.3322 - masked_acc: 0.1637 - masked_loss: 5.3322 - val_loss: 5.2855 - val_masked_acc: 0.1637 - val_masked_loss: 5.2855\n",
            "Epoch 7/10\n",
            "100/100 [==============================] - 18s 179ms/step - loss: 5.2857 - masked_acc: 0.1665 - masked_loss: 5.2857 - val_loss: 5.2042 - val_masked_acc: 0.1684 - val_masked_loss: 5.2042\n",
            "Epoch 8/10\n",
            "100/100 [==============================] - 19s 186ms/step - loss: 5.2050 - masked_acc: 0.1759 - masked_loss: 5.2050 - val_loss: 5.1410 - val_masked_acc: 0.1842 - val_masked_loss: 5.1410\n",
            "Epoch 9/10\n",
            "100/100 [==============================] - 18s 176ms/step - loss: 5.1488 - masked_acc: 0.1794 - masked_loss: 5.1488 - val_loss: 5.1046 - val_masked_acc: 0.1828 - val_masked_loss: 5.1046\n",
            "Epoch 10/10\n",
            "100/100 [==============================] - 19s 192ms/step - loss: 5.1130 - masked_acc: 0.1793 - masked_loss: 5.1130 - val_loss: 5.0915 - val_masked_acc: 0.1758 - val_masked_loss: 5.0915\n"
          ]
        }
      ],
      "source": [
        "history = model.fit(\n",
        "    train_ds.repeat(),\n",
        "    epochs=10,\n",
        "    steps_per_epoch = 100,\n",
        "    validation_data=val_ds,\n",
        "    validation_steps = 20,  # todo -- убедиться, что это не делает ничего странного.\n",
        "    callbacks=[\n",
        "        tf.keras.callbacks.EarlyStopping(patience=3),\n",
        "        WandbMetricsLogger()])"
      ]
    },
    {
      "cell_type": "code",
      "execution_count": 36,
      "metadata": {
        "colab": {
          "base_uri": "https://localhost:8080/",
          "height": 466
        },
        "id": "xYkzHkBtrf2g",
        "outputId": "20f6964d-f5ca-4562-a546-b7bacb9d87e0"
      },
      "outputs": [
        {
          "data": {
            "text/plain": [
              "<matplotlib.legend.Legend at 0x7f794c689c00>"
            ]
          },
          "execution_count": 36,
          "metadata": {},
          "output_type": "execute_result"
        },
        {
          "data": {
            "image/png": "[encoded data removed]",
            "text/plain": [
              "<Figure size 640x480 with 1 Axes>"
            ]
          },
          "metadata": {},
          "output_type": "display_data"
        }
      ],
      "source": [
        "plt.plot(history.history['loss'], label='loss')\n",
        "plt.plot(history.history['val_loss'], label='val_loss')\n",
        "plt.ylim([0, max(plt.ylim())])\n",
        "plt.xlabel('Epoch #')\n",
        "plt.ylabel('CE/token')\n",
        "plt.legend()"
      ]
    },
    {
      "cell_type": "code",
      "execution_count": 37,
      "metadata": {
        "colab": {
          "base_uri": "https://localhost:8080/",
          "height": 466
        },
        "id": "IE-Rlne6rf2g",
        "outputId": "2402297a-5395-4549-de16-4f554e180b4e"
      },
      "outputs": [
        {
          "data": {
            "text/plain": [
              "<matplotlib.legend.Legend at 0x7f79b4183cd0>"
            ]
          },
          "execution_count": 37,
          "metadata": {},
          "output_type": "execute_result"
        },
        {
          "data": {
            "image/png": "[encoded data removed]",
            "text/plain": [
              "<Figure size 640x480 with 1 Axes>"
            ]
          },
          "metadata": {},
          "output_type": "display_data"
        }
      ],
      "source": [
        "plt.plot(history.history['masked_acc'], label='accuracy')\n",
        "plt.plot(history.history['val_masked_acc'], label='val_accuracy')\n",
        "plt.ylim([0, max(plt.ylim())])\n",
        "plt.xlabel('Epoch #')\n",
        "plt.ylabel('accuracy')\n",
        "plt.legend()"
      ]
    },
    {
      "cell_type": "code",
      "execution_count": null,
      "metadata": {
        "colab": {
          "base_uri": "https://localhost:8080/",
          "height": 35
        },
        "id": "DXoAo-brrf2g",
        "outputId": "95488925-b576-4b1d-fa6e-aa4ee3dbb155"
      },
      "outputs": [],
      "source": [
        "# result = model.translate(['¿Todavía está en casa?']) # Are you still home\n",
        "# result[0].numpy().decode()"
      ]
    },
    {
      "cell_type": "code",
      "execution_count": null,
      "metadata": {
        "id": "FpfGQV9NSoAf"
      },
      "outputs": [],
      "source": [
        "# for i in range(len(history.history['masked_acc'])):\n",
        "#   wandb.log({\n",
        "#   # print({\n",
        "#       \"train_accuracy\": history.history['masked_acc'][i],\n",
        "#       \"test_accuracy\": history.history['val_masked_acc'][i],\n",
        "#       \"train_loss\": history.history['masked_loss'][i],\n",
        "#       \"test_loss\": history.history['val_masked_loss'][i],\n",
        "#   })"
      ]
    },
    {
      "cell_type": "code",
      "execution_count": 38,
      "metadata": {
        "colab": {
          "base_uri": "https://localhost:8080/",
          "height": 352
        },
        "id": "5GeEQqcvSlDM",
        "outputId": "9d3b5dce-68cb-454f-bd76-e01fb672b736"
      },
      "outputs": [
        {
          "data": {
            "text/html": [
              "Waiting for W&B process to finish... <strong style=\"color:green\">(success).</strong>"
            ],
            "text/plain": [
              "<IPython.core.display.HTML object>"
            ]
          },
          "metadata": {},
          "output_type": "display_data"
        },
        {
          "data": {
            "text/html": [
              "<style>\n",
              "    table.wandb td:nth-child(1) { padding: 0 10px; text-align: left ; width: auto;} td:nth-child(2) {text-align: left ; width: 100%}\n",
              "    .wandb-row { display: flex; flex-direction: row; flex-wrap: wrap; justify-content: flex-start; width: 100% }\n",
              "    .wandb-col { display: flex; flex-direction: column; flex-basis: 100%; flex: 1; padding: 10px; }\n",
              "    </style>\n",
              "<div class=\"wandb-row\"><div class=\"wandb-col\"><h3>Run history:</h3><br/><table class=\"wandb\"><tr><td>epoch/epoch</td><td>▁▂▃▃▄▅▆▆▇█</td></tr><tr><td>epoch/learning_rate</td><td>▁▁▁▁▁▁▁▁▁▁</td></tr><tr><td>epoch/loss</td><td>█▃▂▂▂▂▁▁▁▁</td></tr><tr><td>epoch/masked_acc</td><td>▁▄▄▆▇▆▇███</td></tr><tr><td>epoch/masked_loss</td><td>█▃▂▂▂▂▁▁▁▁</td></tr><tr><td>epoch/val_loss</td><td>█▅▄▃▃▂▂▁▁▁</td></tr><tr><td>epoch/val_masked_acc</td><td>▁▁▅▆▅▅▆██▇</td></tr><tr><td>epoch/val_masked_loss</td><td>█▅▄▃▃▂▂▁▁▁</td></tr></table><br/></div><div class=\"wandb-col\"><h3>Run summary:</h3><br/><table class=\"wandb\"><tr><td>epoch/epoch</td><td>9</td></tr><tr><td>epoch/learning_rate</td><td>0.001</td></tr><tr><td>epoch/loss</td><td>5.11305</td></tr><tr><td>epoch/masked_acc</td><td>0.17935</td></tr><tr><td>epoch/masked_loss</td><td>5.11305</td></tr><tr><td>epoch/val_loss</td><td>5.09147</td></tr><tr><td>epoch/val_masked_acc</td><td>0.17584</td></tr><tr><td>epoch/val_masked_loss</td><td>5.09147</td></tr></table><br/></div></div>"
            ],
            "text/plain": [
              "<IPython.core.display.HTML object>"
            ]
          },
          "metadata": {},
          "output_type": "display_data"
        },
        {
          "data": {
            "text/html": [
              "You can sync this run to the cloud by running:<br/><code>wandb sync /mnt/c/Users/amirf/YandexDisk/Documents/Contextual Recurrent Neural Network/wandb/offline-run-20230625_205514-5cw57kkq<code>"
            ],
            "text/plain": [
              "<IPython.core.display.HTML object>"
            ]
          },
          "metadata": {},
          "output_type": "display_data"
        },
        {
          "data": {
            "text/html": [
              "Find logs at: <code>./wandb/offline-run-20230625_205514-5cw57kkq/logs</code>"
            ],
            "text/plain": [
              "<IPython.core.display.HTML object>"
            ]
          },
          "metadata": {},
          "output_type": "display_data"
        }
      ],
      "source": [
        "wandb.finish()"
      ]
    }
  ],
  "metadata": {
    "accelerator": "GPU",
    "colab": {
      "gpuType": "T4",
      "provenance": []
    },
    "kernelspec": {
      "display_name": "Python 3",
      "name": "python3"
    },
    "language_info": {
      "codemirror_mode": {
        "name": "ipython",
        "version": 3
      },
      "file_extension": ".py",
      "mimetype": "text/x-python",
      "name": "python",
      "nbconvert_exporter": "python",
      "pygments_lexer": "ipython3",
      "version": "3.10.11"
    },
    "orig_nbformat": 4
  },
  "nbformat": 4,
  "nbformat_minor": 0
}
