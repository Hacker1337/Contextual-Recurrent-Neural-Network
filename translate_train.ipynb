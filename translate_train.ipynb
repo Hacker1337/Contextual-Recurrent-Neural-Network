{
  "cells": [
    {
      "cell_type": "code",
      "execution_count": 152,
      "metadata": {
        "id": "1y6Abugxrf2d"
      },
      "outputs": [],
      "source": [
        "import tensorflow as tf\n",
        "from tensorflow.keras import layers\n",
        "from tensorflow.keras.optimizers import Adam\n",
        "\n",
        "import re\n",
        "import string\n",
        "import numpy as np\n",
        "import matplotlib.pyplot as plt\n",
        "\n",
        "import pandas as pd"
      ]
    },
    {
      "cell_type": "code",
      "execution_count": 153,
      "metadata": {
        "id": "wprxod5JHj5y"
      },
      "outputs": [],
      "source": [
        "# import os\n",
        "# os.environ['WANDB_MODE'] = 'offline'\n"
      ]
    },
    {
      "cell_type": "markdown",
      "metadata": {
        "id": "fnFF_jmZrf2d"
      },
      "source": [
        "### Load dataset"
      ]
    },
    {
      "cell_type": "code",
      "execution_count": 154,
      "metadata": {
        "colab": {
          "base_uri": "https://localhost:8080/",
          "height": 35
        },
        "id": "URvRhEBCM19u",
        "outputId": "63b76fc3-c8f1-4688-c864-77b1280d75ab"
      },
      "outputs": [
        {
          "data": {
            "application/vnd.google.colaboratory.intrinsic+json": {
              "type": "string"
            },
            "text/plain": [
              "'Running in colab'"
            ]
          },
          "execution_count": 154,
          "metadata": {},
          "output_type": "execute_result"
        }
      ],
      "source": [
        "try:\n",
        "  import google.colab\n",
        "  IN_COLAB = True\n",
        "except:\n",
        "  IN_COLAB = False\n",
        "\"Running in colab\" if IN_COLAB else \"Running locally\""
      ]
    },
    {
      "cell_type": "markdown",
      "metadata": {
        "id": "j9VR2_vwO0Un"
      },
      "source": [
        "### Init wandb"
      ]
    },
    {
      "cell_type": "code",
      "execution_count": 155,
      "metadata": {
        "id": "BB6FdX7IO56-"
      },
      "outputs": [],
      "source": [
        "if IN_COLAB:\n",
        "  !pip install wandb -q\n",
        "  !pip install python-dotenv -q\n",
        "  !pip install ruamel.yaml -q\n",
        "\n",
        "import wandb\n",
        "\n",
        "from wandb.keras import (\n",
        "   WandbMetricsLogger,\n",
        "   WandbModelCheckpoint,\n",
        ")\n",
        "from ruamel.yaml import YAML"
      ]
    },
    {
      "cell_type": "code",
      "execution_count": 156,
      "metadata": {
        "colab": {
          "base_uri": "https://localhost:8080/"
        },
        "id": "cLSgofojQuJl",
        "outputId": "751b4fad-f439-41b5-9cbd-b942b779dda9"
      },
      "outputs": [
        {
          "name": "stderr",
          "output_type": "stream",
          "text": [
            "\u001b[34m\u001b[1mwandb\u001b[0m: \u001b[33mWARNING\u001b[0m If you're specifying your api key in code, ensure this code is not shared publicly.\n",
            "\u001b[34m\u001b[1mwandb\u001b[0m: \u001b[33mWARNING\u001b[0m Consider setting the WANDB_API_KEY environment variable, or running `wandb login` from the command line.\n",
            "\u001b[34m\u001b[1mwandb\u001b[0m: Appending key for api.wandb.ai to your netrc file: /root/.netrc\n"
          ]
        },
        {
          "data": {
            "text/plain": [
              "True"
            ]
          },
          "execution_count": 156,
          "metadata": {},
          "output_type": "execute_result"
        }
      ],
      "source": [
        "import os\n",
        "from dotenv import load_dotenv; load_dotenv(\"wandb.env\")\n",
        "\n",
        "wandb.login(key=os.environ.get(\"api_key\"))"
      ]
    },
    {
      "cell_type": "code",
      "execution_count": 157,
      "metadata": {
        "colab": {
          "base_uri": "https://localhost:8080/",
          "height": 104
        },
        "id": "2HUCLg80P5j6",
        "outputId": "129edfea-abb5-46c8-bedd-a2489adaa969"
      },
      "outputs": [
        {
          "data": {
            "text/html": [
              "Tracking run with wandb version 0.15.4"
            ],
            "text/plain": [
              "<IPython.core.display.HTML object>"
            ]
          },
          "metadata": {},
          "output_type": "display_data"
        },
        {
          "data": {
            "text/html": [
              "Run data is saved locally in <code>/content/wandb/run-20230626_142100-xqshba6x</code>"
            ],
            "text/plain": [
              "<IPython.core.display.HTML object>"
            ]
          },
          "metadata": {},
          "output_type": "display_data"
        },
        {
          "data": {
            "text/html": [
              "Syncing run <strong><a href='https://wandb.ai/amirfvb/CRNN_translate/runs/xqshba6x' target=\"_blank\">graceful-lake-35</a></strong> to <a href='https://wandb.ai/amirfvb/CRNN_translate' target=\"_blank\">Weights & Biases</a> (<a href='https://wandb.me/run' target=\"_blank\">docs</a>)<br/>"
            ],
            "text/plain": [
              "<IPython.core.display.HTML object>"
            ]
          },
          "metadata": {},
          "output_type": "display_data"
        },
        {
          "data": {
            "text/html": [
              " View project at <a href='https://wandb.ai/amirfvb/CRNN_translate' target=\"_blank\">https://wandb.ai/amirfvb/CRNN_translate</a>"
            ],
            "text/plain": [
              "<IPython.core.display.HTML object>"
            ]
          },
          "metadata": {},
          "output_type": "display_data"
        },
        {
          "data": {
            "text/html": [
              " View run at <a href='https://wandb.ai/amirfvb/CRNN_translate/runs/xqshba6x' target=\"_blank\">https://wandb.ai/amirfvb/CRNN_translate/runs/xqshba6x</a>"
            ],
            "text/plain": [
              "<IPython.core.display.HTML object>"
            ]
          },
          "metadata": {},
          "output_type": "display_data"
        }
      ],
      "source": [
        "yaml=YAML(typ='safe')\n",
        "with open('trans_params.yaml', 'r') as file:\n",
        "    config_file = yaml.load(file)\n",
        "\n",
        "wandb.init(\n",
        "    # set the wandb project where this run will be logged\n",
        "    project=\"CRNN_translate\",\n",
        "\n",
        "    # name=\"test_log_text\",\n",
        "    # notes=\"Removed gradient clipping\",\n",
        "    config=config_file,\n",
        "    save_code=True,\n",
        ")\n",
        "# wandb.run.log_code(include_fn=lambda path: path.endswith(\"translate_train.ipynb\"))\n",
        "wandb.run.log_code(include_fn=lambda path: path.endswith(\".ipynb\") or path.endswith(\".py\"))\n",
        "config = wandb.config"
      ]
    },
    {
      "cell_type": "code",
      "execution_count": 158,
      "metadata": {
        "id": "Q35JVdoVHj50"
      },
      "outputs": [],
      "source": [
        "UNITS = config[\"hidden_dims\"]\n",
        "input_dim = config[\"input_size\"]"
      ]
    },
    {
      "cell_type": "markdown",
      "metadata": {
        "id": "g08aYS4uHj51"
      },
      "source": [
        "### Dataset loading"
      ]
    },
    {
      "cell_type": "code",
      "execution_count": 159,
      "metadata": {
        "colab": {
          "base_uri": "https://localhost:8080/"
        },
        "id": "uf9bkc1Xrf2d",
        "outputId": "0138fd24-1392-432d-f7a3-2607c0d6c8a2"
      },
      "outputs": [
        {
          "name": "stdout",
          "output_type": "stream",
          "text": [
            "Si quieres sonar como un hablante nativo, debes estar dispuesto a practicar diciendo la misma frase una y otra vez de la misma manera en que un músico de banjo practica el mismo fraseo una y otra vez hasta que lo puedan tocar correctamente y en el tiempo esperado.\n",
            "If you want to sound like a native speaker, you must be willing to practice saying the same sentence over and over in the same way that banjo players practice the same phrase over and over until they can play it correctly and at the desired tempo.\n"
          ]
        }
      ],
      "source": [
        "if IN_COLAB:\n",
        "    # download dataset\n",
        "\n",
        "    import pathlib\n",
        "\n",
        "    path_to_zip = tf.keras.utils.get_file(\n",
        "        'spa-eng.zip', origin='http://storage.googleapis.com/download.tensorflow.org/data/spa-eng.zip',\n",
        "        extract=True)\n",
        "\n",
        "    path_to_file = pathlib.Path(path_to_zip).parent/'spa-eng/spa.txt'\n",
        "\n",
        "    def load_data(path):\n",
        "        text = path.read_text(encoding='utf-8')\n",
        "\n",
        "        lines = text.splitlines()\n",
        "        pairs = [line.split('\\t') for line in lines]\n",
        "\n",
        "        context = np.array([context for target, context in pairs])\n",
        "        target = np.array([target for target, context in pairs])\n",
        "\n",
        "        return target, context\n",
        "\n",
        "    target_raw, context_raw = load_data(path_to_file)\n",
        "\n",
        "    print(context_raw[-1])\n",
        "    print(target_raw[-1])\n",
        "\n",
        "else:\n",
        "    df = pd.read_csv(\"data/spa-eng.zip\", delimiter=\"\\t\", names=[\"translate\", \"source\", \"attr\"])\n",
        "    context_raw = np.array(df[\"source\"])\n",
        "    target_raw = np.array(df[\"translate\"])\n",
        "    print(context_raw[-1])\n",
        "    print(target_raw[-1])\n",
        "\n",
        "BUFFER_SIZE = len(context_raw)\n",
        "BATCH_SIZE = 64\n",
        "\n",
        "is_train = np.random.uniform(size=(len(target_raw),)) < 0.8 # todo. Check reproducibility and across methods (colab/not colab)\n",
        "\n",
        "\n",
        "train_raw = (\n",
        "    tf.data.Dataset\n",
        "    .from_tensor_slices((context_raw[is_train], target_raw[is_train]))\n",
        "    .shuffle(BUFFER_SIZE)\n",
        "    .batch(BATCH_SIZE))\n",
        "val_raw = (\n",
        "    tf.data.Dataset\n",
        "    .from_tensor_slices((context_raw[~is_train], target_raw[~is_train]))\n",
        "    .shuffle(BUFFER_SIZE)\n",
        "    .batch(BATCH_SIZE))\n",
        "\n"
      ]
    },
    {
      "cell_type": "markdown",
      "metadata": {
        "id": "4IuSKTeBc_Ei"
      },
      "source": [
        "#### My dataset processing"
      ]
    },
    {
      "cell_type": "code",
      "execution_count": 160,
      "metadata": {
        "colab": {
          "base_uri": "https://localhost:8080/"
        },
        "id": "1G0LvQANrf2d",
        "outputId": "4698815d-dfd6-4b2d-e14c-3ec524302ee0"
      },
      "outputs": [
        {
          "data": {
            "text/plain": [
              "['', '[UNK]', '[START]', '[END]', 'de', 'que', 'a', 'no', 'tom', 'la']"
            ]
          },
          "execution_count": 160,
          "metadata": {},
          "output_type": "execute_result"
        }
      ],
      "source": [
        "def custom_standardization(text):\n",
        "\n",
        "  text = tf.strings.lower(text)\n",
        "  text = tf.strings.regex_replace(text,\n",
        "                                  '[%s]' % re.escape(string.punctuation + \"¿¡\"), '')\n",
        "  text = tf.strings.join(['[START]', text, '[END]'], separator=' ')\n",
        "  return text\n",
        "vocab_size = 5000\n",
        "# sequence_length = 250\n",
        "\n",
        "\n",
        "\n",
        "context_text_processor = tf.keras.layers.TextVectorization(\n",
        "    standardize=custom_standardization,\n",
        "    max_tokens=vocab_size,\n",
        "    ragged=True)\n",
        "\n",
        "context_text_processor.adapt(train_raw.map(lambda context, target: context))\n",
        "\n",
        "# Here are the first 10 words from the vocabulary:\n",
        "context_text_processor.get_vocabulary()[:10]"
      ]
    },
    {
      "cell_type": "code",
      "execution_count": 161,
      "metadata": {
        "colab": {
          "base_uri": "https://localhost:8080/"
        },
        "id": "r2I1XfeKrf2e",
        "outputId": "943fab11-c999-4af9-83f3-01f8125c8917"
      },
      "outputs": [
        {
          "data": {
            "text/plain": [
              "['', '[UNK]', '[START]', '[END]', 'the', 'i', 'to', 'you', 'tom', 'a']"
            ]
          },
          "execution_count": 161,
          "metadata": {},
          "output_type": "execute_result"
        }
      ],
      "source": [
        "target_text_processor = tf.keras.layers.TextVectorization(\n",
        "    standardize=custom_standardization,\n",
        "    max_tokens=vocab_size,\n",
        "    ragged=True)\n",
        "\n",
        "target_text_processor.adapt(train_raw.map(lambda context, target: target))\n",
        "target_text_processor.get_vocabulary()[:10]"
      ]
    },
    {
      "cell_type": "markdown",
      "metadata": {
        "id": "X-T8B_vkdRxJ"
      },
      "source": [
        "#### End of text processings"
      ]
    },
    {
      "cell_type": "code",
      "execution_count": 162,
      "metadata": {
        "id": "c7PxnBbyrf2e"
      },
      "outputs": [],
      "source": [
        "def process_text(context, target):\n",
        "  context = context_text_processor(context).to_tensor()\n",
        "  target = target_text_processor(target)\n",
        "  targ_in = target[:,:-1].to_tensor()\n",
        "  targ_out = target[:,1:].to_tensor()\n",
        "  return (context, targ_in), targ_out\n",
        "\n",
        "\n",
        "train_ds = train_raw.map(process_text, tf.data.AUTOTUNE)\n",
        "val_ds = val_raw.map(process_text, tf.data.AUTOTUNE)"
      ]
    },
    {
      "cell_type": "code",
      "execution_count": 163,
      "metadata": {
        "id": "yMtZ4Bhyrf2f"
      },
      "outputs": [],
      "source": [
        "def masked_loss(y_true, y_pred):\n",
        "    # Calculate the loss for each item in the batch.\n",
        "    loss_fn = tf.keras.losses.SparseCategoricalCrossentropy(\n",
        "        from_logits=True, reduction='none')\n",
        "    loss = loss_fn(y_true, y_pred)\n",
        "\n",
        "    # Mask off the losses on padding.\n",
        "    mask = tf.cast(y_true != 0, loss.dtype)\n",
        "    loss *= mask\n",
        "\n",
        "    # Return the total.\n",
        "    return tf.reduce_sum(loss)/tf.reduce_sum(mask)"
      ]
    },
    {
      "cell_type": "code",
      "execution_count": 164,
      "metadata": {
        "id": "b8lGVB0Rrf2f"
      },
      "outputs": [],
      "source": [
        "def masked_acc(y_true, y_pred):\n",
        "    # Calculate the loss for each item in the batch.\n",
        "    y_pred = tf.argmax(y_pred, axis=-1)\n",
        "    y_pred = tf.cast(y_pred, y_true.dtype)\n",
        "\n",
        "    match = tf.cast(y_true == y_pred, tf.float32)\n",
        "    mask = tf.cast(y_true != 0, tf.float32)\n",
        "\n",
        "    return tf.reduce_sum(match)/tf.reduce_sum(mask)"
      ]
    },
    {
      "cell_type": "markdown",
      "metadata": {
        "id": "92wKGN7grf2e"
      },
      "source": [
        "### define model"
      ]
    },
    {
      "cell_type": "code",
      "execution_count": 165,
      "metadata": {
        "colab": {
          "base_uri": "https://localhost:8080/"
        },
        "id": "RUHCEaiGHj53",
        "outputId": "28cac008-821d-4403-d47f-8da25e3f7970"
      },
      "outputs": [
        {
          "name": "stdout",
          "output_type": "stream",
          "text": [
            "The autoreload extension is already loaded. To reload it, use:\n",
            "  %reload_ext autoreload\n"
          ]
        }
      ],
      "source": [
        "%load_ext autoreload\n",
        "\n",
        "%autoreload 2"
      ]
    },
    {
      "cell_type": "code",
      "execution_count": 166,
      "metadata": {
        "id": "FIZKmw-4Hj53"
      },
      "outputs": [],
      "source": [
        "if config[\"model\"] == \"attention_gru\":\n",
        "    from attention_gru_translate_model  import Translator\n",
        "    # wandb.run.log_code(include_fn=lambda path: path.endswith(\"attention_gru_translate_model.py\"))\n",
        "\n",
        "    model_kwargs = {\"attention\": True}\n",
        "\n",
        "elif config[\"model\"] == \"gru\":\n",
        "\n",
        "    from gru_translate_model  import Translator\n",
        "    # wandb.run.log_code(include_fn=lambda path: path.endswith(\"attention_gru_translate_model.py\"))\n",
        "\n",
        "    model_kwargs = {}\n",
        "\n",
        "elif config[\"model\"] == \"crnn\":\n",
        "    from context_rnn_translate_model import Translator\n",
        "    # wandb.run.log_code(include_fn=lambda path: path.endswith(\"attention_gru_translate_model.py\"))\n",
        "\n",
        "    model_kwargs = {}\n",
        "# elif config[\"model\"] == \"attention_crnn\":\n",
        "#     from context_rnn_translate_model import Translator\n",
        "#     # wandb.run.log_code(include_fn=lambda path: path.endswith(\"attention_gru_translate_model.py\"))\n",
        "\n",
        "#     model_kwargs = {\"attention\": True}\n",
        "else:\n",
        "    raise NotImplementedError(\"Model \" + config[\"model\"] + \" is not implemented\")"
      ]
    },
    {
      "cell_type": "code",
      "execution_count": 167,
      "metadata": {
        "id": "A2ndQ8Nwrf2f"
      },
      "outputs": [],
      "source": [
        "model = Translator(UNITS, context_text_processor, target_text_processor, input_dim, **model_kwargs)"
      ]
    },
    {
      "cell_type": "code",
      "execution_count": 168,
      "metadata": {
        "id": "9zHF56Ujrf2f"
      },
      "outputs": [],
      "source": [
        "model.compile(optimizer=Adam(learning_rate=config[\"lr\"]),\n",
        "              loss=masked_loss,\n",
        "              metrics=[masked_acc, masked_loss])"
      ]
    },
    {
      "cell_type": "code",
      "execution_count": 169,
      "metadata": {
        "colab": {
          "base_uri": "https://localhost:8080/"
        },
        "id": "w3-cVb8grf2f",
        "outputId": "545af6a8-7a63-4cd8-d256-ae3e211d8906"
      },
      "outputs": [
        {
          "name": "stdout",
          "output_type": "stream",
          "text": [
            "Epoch 1/120\n",
            "100/100 [==============================] - 40s 290ms/step - loss: 6.1113 - masked_acc: 0.1677 - masked_loss: 6.1113 - val_loss: 5.5124 - val_masked_acc: 0.1655 - val_masked_loss: 5.5124\n",
            "Epoch 2/120\n",
            "100/100 [==============================] - 6s 61ms/step - loss: 5.3651 - masked_acc: 0.1885 - masked_loss: 5.3651 - val_loss: 5.1415 - val_masked_acc: 0.2066 - val_masked_loss: 5.1415\n",
            "Epoch 3/120\n",
            "100/100 [==============================] - 6s 63ms/step - loss: 5.0292 - masked_acc: 0.2163 - masked_loss: 5.0292 - val_loss: 4.8424 - val_masked_acc: 0.2333 - val_masked_loss: 4.8424\n",
            "Epoch 4/120\n",
            "100/100 [==============================] - 4s 42ms/step - loss: 4.7701 - masked_acc: 0.2393 - masked_loss: 4.7701 - val_loss: 4.6320 - val_masked_acc: 0.2538 - val_masked_loss: 4.6320\n",
            "Epoch 5/120\n",
            "100/100 [==============================] - 4s 38ms/step - loss: 4.5494 - masked_acc: 0.2602 - masked_loss: 4.5494 - val_loss: 4.4014 - val_masked_acc: 0.2769 - val_masked_loss: 4.4014\n",
            "Epoch 6/120\n",
            "100/100 [==============================] - 5s 48ms/step - loss: 4.3789 - masked_acc: 0.2777 - masked_loss: 4.3789 - val_loss: 4.2235 - val_masked_acc: 0.2923 - val_masked_loss: 4.2235\n",
            "Epoch 7/120\n",
            "100/100 [==============================] - 4s 39ms/step - loss: 4.2232 - masked_acc: 0.2955 - masked_loss: 4.2232 - val_loss: 4.1371 - val_masked_acc: 0.3015 - val_masked_loss: 4.1371\n",
            "Epoch 8/120\n",
            "100/100 [==============================] - 4s 40ms/step - loss: 4.0554 - masked_acc: 0.3123 - masked_loss: 4.0554 - val_loss: 3.9706 - val_masked_acc: 0.3267 - val_masked_loss: 3.9706\n",
            "Epoch 9/120\n",
            "100/100 [==============================] - 6s 56ms/step - loss: 3.9086 - masked_acc: 0.3346 - masked_loss: 3.9086 - val_loss: 3.8394 - val_masked_acc: 0.3435 - val_masked_loss: 3.8394\n",
            "Epoch 10/120\n",
            "100/100 [==============================] - 4s 36ms/step - loss: 3.7753 - masked_acc: 0.3509 - masked_loss: 3.7753 - val_loss: 3.7538 - val_masked_acc: 0.3522 - val_masked_loss: 3.7538\n",
            "Epoch 11/120\n",
            "100/100 [==============================] - 3s 33ms/step - loss: 3.6552 - masked_acc: 0.3662 - masked_loss: 3.6552 - val_loss: 3.5507 - val_masked_acc: 0.3830 - val_masked_loss: 3.5507\n",
            "Epoch 12/120\n",
            "100/100 [==============================] - 4s 35ms/step - loss: 3.5158 - masked_acc: 0.3853 - masked_loss: 3.5158 - val_loss: 3.4780 - val_masked_acc: 0.3884 - val_masked_loss: 3.4780\n",
            "Epoch 13/120\n",
            "100/100 [==============================] - 7s 75ms/step - loss: 3.4528 - masked_acc: 0.3926 - masked_loss: 3.4528 - val_loss: 3.3719 - val_masked_acc: 0.4021 - val_masked_loss: 3.3719\n",
            "Epoch 14/120\n",
            "100/100 [==============================] - 3s 34ms/step - loss: 3.3516 - masked_acc: 0.4078 - masked_loss: 3.3516 - val_loss: 3.2611 - val_masked_acc: 0.4151 - val_masked_loss: 3.2611\n",
            "Epoch 15/120\n",
            "100/100 [==============================] - 4s 38ms/step - loss: 3.2670 - masked_acc: 0.4201 - masked_loss: 3.2673 - val_loss: 3.1649 - val_masked_acc: 0.4293 - val_masked_loss: 3.1649\n",
            "Epoch 16/120\n",
            "100/100 [==============================] - 5s 47ms/step - loss: 3.1140 - masked_acc: 0.4316 - masked_loss: 3.1140 - val_loss: 3.1351 - val_masked_acc: 0.4280 - val_masked_loss: 3.1351\n",
            "Epoch 17/120\n",
            "100/100 [==============================] - 3s 34ms/step - loss: 3.0559 - masked_acc: 0.4435 - masked_loss: 3.0559 - val_loss: 3.0896 - val_masked_acc: 0.4390 - val_masked_loss: 3.0896\n",
            "Epoch 18/120\n",
            "100/100 [==============================] - 3s 35ms/step - loss: 2.9875 - masked_acc: 0.4510 - masked_loss: 2.9875 - val_loss: 3.0645 - val_masked_acc: 0.4442 - val_masked_loss: 3.0645\n",
            "Epoch 19/120\n",
            "100/100 [==============================] - 3s 32ms/step - loss: 2.9270 - masked_acc: 0.4612 - masked_loss: 2.9270 - val_loss: 2.8743 - val_masked_acc: 0.4688 - val_masked_loss: 2.8743\n",
            "Epoch 20/120\n",
            "100/100 [==============================] - 4s 45ms/step - loss: 2.8468 - masked_acc: 0.4716 - masked_loss: 2.8468 - val_loss: 2.8674 - val_masked_acc: 0.4735 - val_masked_loss: 2.8674\n",
            "Epoch 21/120\n",
            "100/100 [==============================] - 3s 33ms/step - loss: 2.8051 - masked_acc: 0.4774 - masked_loss: 2.8051 - val_loss: 2.8497 - val_masked_acc: 0.4771 - val_masked_loss: 2.8497\n",
            "Epoch 22/120\n",
            "100/100 [==============================] - 3s 31ms/step - loss: 2.7848 - masked_acc: 0.4872 - masked_loss: 2.7848 - val_loss: 2.8192 - val_masked_acc: 0.4794 - val_masked_loss: 2.8192\n",
            "Epoch 23/120\n",
            "100/100 [==============================] - 3s 30ms/step - loss: 2.7369 - masked_acc: 0.4902 - masked_loss: 2.7369 - val_loss: 2.7351 - val_masked_acc: 0.4917 - val_masked_loss: 2.7351\n",
            "Epoch 24/120\n",
            "100/100 [==============================] - 5s 46ms/step - loss: 2.6657 - masked_acc: 0.4990 - masked_loss: 2.6657 - val_loss: 2.6885 - val_masked_acc: 0.5008 - val_masked_loss: 2.6885\n",
            "Epoch 25/120\n",
            "100/100 [==============================] - 3s 33ms/step - loss: 2.6480 - masked_acc: 0.5032 - masked_loss: 2.6480 - val_loss: 2.6460 - val_masked_acc: 0.5106 - val_masked_loss: 2.6460\n",
            "Epoch 26/120\n",
            "100/100 [==============================] - 3s 31ms/step - loss: 2.5987 - masked_acc: 0.5116 - masked_loss: 2.5987 - val_loss: 2.5721 - val_masked_acc: 0.5166 - val_masked_loss: 2.5721\n",
            "Epoch 27/120\n",
            "100/100 [==============================] - 4s 36ms/step - loss: 2.5594 - masked_acc: 0.5173 - masked_loss: 2.5594 - val_loss: 2.5315 - val_masked_acc: 0.5219 - val_masked_loss: 2.5315\n",
            "Epoch 28/120\n",
            "100/100 [==============================] - 4s 41ms/step - loss: 2.5038 - masked_acc: 0.5238 - masked_loss: 2.5038 - val_loss: 2.4474 - val_masked_acc: 0.5304 - val_masked_loss: 2.4474\n",
            "Epoch 29/120\n",
            "100/100 [==============================] - 3s 31ms/step - loss: 2.4397 - masked_acc: 0.5355 - masked_loss: 2.4397 - val_loss: 2.4595 - val_masked_acc: 0.5292 - val_masked_loss: 2.4595\n",
            "Epoch 30/120\n",
            "100/100 [==============================] - 3s 35ms/step - loss: 2.3758 - masked_acc: 0.5439 - masked_loss: 2.3756 - val_loss: 2.4419 - val_masked_acc: 0.5332 - val_masked_loss: 2.4419\n",
            "Epoch 31/120\n",
            "100/100 [==============================] - 4s 39ms/step - loss: 2.1979 - masked_acc: 0.5624 - masked_loss: 2.1979 - val_loss: 2.4324 - val_masked_acc: 0.5319 - val_masked_loss: 2.4324\n",
            "Epoch 32/120\n",
            "100/100 [==============================] - 4s 35ms/step - loss: 2.1622 - masked_acc: 0.5705 - masked_loss: 2.1622 - val_loss: 2.4409 - val_masked_acc: 0.5352 - val_masked_loss: 2.4409\n",
            "Epoch 33/120\n",
            "100/100 [==============================] - 3s 30ms/step - loss: 2.1490 - masked_acc: 0.5731 - masked_loss: 2.1490 - val_loss: 2.3632 - val_masked_acc: 0.5442 - val_masked_loss: 2.3632\n",
            "Epoch 34/120\n",
            "100/100 [==============================] - 3s 31ms/step - loss: 2.1768 - masked_acc: 0.5707 - masked_loss: 2.1768 - val_loss: 2.2809 - val_masked_acc: 0.5655 - val_masked_loss: 2.2809\n",
            "Epoch 35/120\n",
            "100/100 [==============================] - 4s 40ms/step - loss: 2.1545 - masked_acc: 0.5742 - masked_loss: 2.1545 - val_loss: 2.3243 - val_masked_acc: 0.5513 - val_masked_loss: 2.3243\n",
            "Epoch 36/120\n",
            "100/100 [==============================] - 3s 35ms/step - loss: 2.1079 - masked_acc: 0.5783 - masked_loss: 2.1079 - val_loss: 2.3323 - val_masked_acc: 0.5629 - val_masked_loss: 2.3323\n",
            "Epoch 37/120\n",
            "100/100 [==============================] - 3s 30ms/step - loss: 2.0805 - masked_acc: 0.5874 - masked_loss: 2.0805 - val_loss: 2.2538 - val_masked_acc: 0.5649 - val_masked_loss: 2.2538\n",
            "Epoch 38/120\n",
            "100/100 [==============================] - 3s 30ms/step - loss: 2.0818 - masked_acc: 0.5838 - masked_loss: 2.0818 - val_loss: 2.1654 - val_masked_acc: 0.5692 - val_masked_loss: 2.1654\n",
            "Epoch 39/120\n",
            "100/100 [==============================] - 4s 42ms/step - loss: 2.0557 - masked_acc: 0.5899 - masked_loss: 2.0557 - val_loss: 2.1595 - val_masked_acc: 0.5712 - val_masked_loss: 2.1595\n",
            "Epoch 40/120\n",
            "100/100 [==============================] - 3s 33ms/step - loss: 2.0300 - masked_acc: 0.5933 - masked_loss: 2.0300 - val_loss: 2.1449 - val_masked_acc: 0.5824 - val_masked_loss: 2.1449\n",
            "Epoch 41/120\n",
            "100/100 [==============================] - 3s 33ms/step - loss: 2.0003 - masked_acc: 0.5973 - masked_loss: 2.0003 - val_loss: 2.1572 - val_masked_acc: 0.5768 - val_masked_loss: 2.1572\n",
            "Epoch 42/120\n",
            "100/100 [==============================] - 3s 32ms/step - loss: 1.9984 - masked_acc: 0.6006 - masked_loss: 1.9984 - val_loss: 2.1935 - val_masked_acc: 0.5719 - val_masked_loss: 2.1935\n",
            "Epoch 43/120\n",
            "100/100 [==============================] - 5s 47ms/step - loss: 2.0018 - masked_acc: 0.5979 - masked_loss: 2.0018 - val_loss: 2.0882 - val_masked_acc: 0.5893 - val_masked_loss: 2.0882\n",
            "Epoch 44/120\n",
            "100/100 [==============================] - 3s 30ms/step - loss: 1.9619 - masked_acc: 0.6039 - masked_loss: 1.9619 - val_loss: 1.9966 - val_masked_acc: 0.6045 - val_masked_loss: 1.9966\n",
            "Epoch 45/120\n",
            "100/100 [==============================] - 4s 36ms/step - loss: 1.8708 - masked_acc: 0.6215 - masked_loss: 1.8718 - val_loss: 2.1214 - val_masked_acc: 0.5834 - val_masked_loss: 2.1214\n",
            "Epoch 46/120\n",
            "100/100 [==============================] - 4s 37ms/step - loss: 1.6962 - masked_acc: 0.6427 - masked_loss: 1.6962 - val_loss: 2.0032 - val_masked_acc: 0.6026 - val_masked_loss: 2.0032\n",
            "Epoch 47/120\n",
            "100/100 [==============================] - 4s 41ms/step - loss: 1.6917 - masked_acc: 0.6415 - masked_loss: 1.6917 - val_loss: 2.0732 - val_masked_acc: 0.5894 - val_masked_loss: 2.0732\n",
            "Epoch 48/120\n",
            "100/100 [==============================] - 3s 30ms/step - loss: 1.7095 - masked_acc: 0.6411 - masked_loss: 1.7095 - val_loss: 2.0421 - val_masked_acc: 0.6010 - val_masked_loss: 2.0421\n",
            "Epoch 49/120\n",
            "100/100 [==============================] - 3s 30ms/step - loss: 1.6972 - masked_acc: 0.6448 - masked_loss: 1.6972 - val_loss: 2.0249 - val_masked_acc: 0.5967 - val_masked_loss: 2.0249\n",
            "Epoch 50/120\n",
            "100/100 [==============================] - 3s 33ms/step - loss: 1.7054 - masked_acc: 0.6432 - masked_loss: 1.7054 - val_loss: 2.0220 - val_masked_acc: 0.5948 - val_masked_loss: 2.0220\n",
            "Epoch 51/120\n",
            "100/100 [==============================] - 4s 41ms/step - loss: 1.6804 - masked_acc: 0.6460 - masked_loss: 1.6804 - val_loss: 1.9182 - val_masked_acc: 0.6191 - val_masked_loss: 1.9182\n",
            "Epoch 52/120\n",
            "100/100 [==============================] - 3s 30ms/step - loss: 1.6920 - masked_acc: 0.6463 - masked_loss: 1.6920 - val_loss: 2.0059 - val_masked_acc: 0.6089 - val_masked_loss: 2.0059\n",
            "Epoch 53/120\n",
            "100/100 [==============================] - 3s 30ms/step - loss: 1.6861 - masked_acc: 0.6452 - masked_loss: 1.6861 - val_loss: 1.9187 - val_masked_acc: 0.6158 - val_masked_loss: 1.9187\n",
            "Epoch 54/120\n",
            "100/100 [==============================] - 4s 36ms/step - loss: 1.6753 - masked_acc: 0.6493 - masked_loss: 1.6753 - val_loss: 1.8663 - val_masked_acc: 0.6217 - val_masked_loss: 1.8663\n",
            "Epoch 55/120\n",
            "100/100 [==============================] - 4s 40ms/step - loss: 1.6863 - masked_acc: 0.6485 - masked_loss: 1.6863 - val_loss: 1.8890 - val_masked_acc: 0.6226 - val_masked_loss: 1.8890\n",
            "Epoch 56/120\n",
            "100/100 [==============================] - 3s 35ms/step - loss: 1.6434 - masked_acc: 0.6528 - masked_loss: 1.6434 - val_loss: 1.8365 - val_masked_acc: 0.6285 - val_masked_loss: 1.8365\n",
            "Epoch 57/120\n",
            "100/100 [==============================] - 3s 29ms/step - loss: 1.6650 - masked_acc: 0.6494 - masked_loss: 1.6650 - val_loss: 1.8358 - val_masked_acc: 0.6291 - val_masked_loss: 1.8358\n",
            "Epoch 58/120\n",
            "100/100 [==============================] - 4s 41ms/step - loss: 1.6648 - masked_acc: 0.6509 - masked_loss: 1.6648 - val_loss: 1.8599 - val_masked_acc: 0.6276 - val_masked_loss: 1.8599\n",
            "Epoch 59/120\n",
            "100/100 [==============================] - 4s 36ms/step - loss: 1.6328 - masked_acc: 0.6560 - masked_loss: 1.6328 - val_loss: 1.8230 - val_masked_acc: 0.6341 - val_masked_loss: 1.8230\n",
            "Epoch 60/120\n",
            "100/100 [==============================] - 4s 35ms/step - loss: 1.5219 - masked_acc: 0.6766 - masked_loss: 1.5204 - val_loss: 1.9192 - val_masked_acc: 0.6125 - val_masked_loss: 1.9192\n",
            "Epoch 61/120\n",
            "100/100 [==============================] - 3s 31ms/step - loss: 1.3959 - masked_acc: 0.6958 - masked_loss: 1.3959 - val_loss: 1.8781 - val_masked_acc: 0.6231 - val_masked_loss: 1.8781\n",
            "Epoch 62/120\n",
            "100/100 [==============================] - 5s 49ms/step - loss: 1.3911 - masked_acc: 0.6954 - masked_loss: 1.3911 - val_loss: 1.8452 - val_masked_acc: 0.6341 - val_masked_loss: 1.8452\n",
            "Epoch 63/120\n",
            "100/100 [==============================] - 3s 32ms/step - loss: 1.4042 - masked_acc: 0.6944 - masked_loss: 1.4042 - val_loss: 1.8626 - val_masked_acc: 0.6254 - val_masked_loss: 1.8626\n",
            "Epoch 64/120\n",
            "100/100 [==============================] - 3s 31ms/step - loss: 1.4194 - masked_acc: 0.6891 - masked_loss: 1.4194 - val_loss: 1.8113 - val_masked_acc: 0.6312 - val_masked_loss: 1.8113\n",
            "Epoch 65/120\n",
            "100/100 [==============================] - 3s 31ms/step - loss: 1.4415 - masked_acc: 0.6869 - masked_loss: 1.4415 - val_loss: 1.8012 - val_masked_acc: 0.6360 - val_masked_loss: 1.8012\n",
            "Epoch 66/120\n",
            "100/100 [==============================] - 4s 44ms/step - loss: 1.4261 - masked_acc: 0.6889 - masked_loss: 1.4261 - val_loss: 1.7454 - val_masked_acc: 0.6432 - val_masked_loss: 1.7454\n",
            "Epoch 67/120\n",
            "100/100 [==============================] - 3s 31ms/step - loss: 1.4182 - masked_acc: 0.6918 - masked_loss: 1.4182 - val_loss: 1.7654 - val_masked_acc: 0.6432 - val_masked_loss: 1.7654\n",
            "Epoch 68/120\n",
            "100/100 [==============================] - 3s 31ms/step - loss: 1.4209 - masked_acc: 0.6900 - masked_loss: 1.4209 - val_loss: 1.8001 - val_masked_acc: 0.6414 - val_masked_loss: 1.8001\n",
            "Epoch 69/120\n",
            "100/100 [==============================] - 4s 36ms/step - loss: 1.4001 - masked_acc: 0.6913 - masked_loss: 1.4001 - val_loss: 1.7946 - val_masked_acc: 0.6330 - val_masked_loss: 1.7946\n",
            "Epoch 70/120\n",
            "100/100 [==============================] - 4s 42ms/step - loss: 1.4341 - masked_acc: 0.6886 - masked_loss: 1.4341 - val_loss: 1.7997 - val_masked_acc: 0.6325 - val_masked_loss: 1.7997\n",
            "Epoch 71/120\n",
            "100/100 [==============================] - 3s 32ms/step - loss: 1.4286 - masked_acc: 0.6891 - masked_loss: 1.4286 - val_loss: 1.7070 - val_masked_acc: 0.6520 - val_masked_loss: 1.7070\n",
            "Epoch 72/120\n",
            "100/100 [==============================] - 3s 32ms/step - loss: 1.3986 - masked_acc: 0.6934 - masked_loss: 1.3986 - val_loss: 1.8045 - val_masked_acc: 0.6329 - val_masked_loss: 1.8045\n",
            "Epoch 73/120\n",
            "100/100 [==============================] - 4s 42ms/step - loss: 1.4303 - masked_acc: 0.6887 - masked_loss: 1.4303 - val_loss: 1.7643 - val_masked_acc: 0.6487 - val_masked_loss: 1.7643\n",
            "Epoch 74/120\n",
            "100/100 [==============================] - 3s 34ms/step - loss: 1.4134 - masked_acc: 0.6926 - masked_loss: 1.4134 - val_loss: 1.7015 - val_masked_acc: 0.6526 - val_masked_loss: 1.7015\n",
            "Epoch 75/120\n",
            "100/100 [==============================] - 3s 35ms/step - loss: 1.2947 - masked_acc: 0.7131 - masked_loss: 1.2946 - val_loss: 1.7713 - val_masked_acc: 0.6437 - val_masked_loss: 1.7713\n",
            "Epoch 76/120\n",
            "100/100 [==============================] - 3s 30ms/step - loss: 1.1751 - masked_acc: 0.7334 - masked_loss: 1.1751 - val_loss: 1.7729 - val_masked_acc: 0.6407 - val_masked_loss: 1.7729\n",
            "Epoch 77/120\n",
            "100/100 [==============================] - 4s 45ms/step - loss: 1.1823 - masked_acc: 0.7356 - masked_loss: 1.1823 - val_loss: 1.7767 - val_masked_acc: 0.6434 - val_masked_loss: 1.7767\n",
            "Epoch 78/120\n",
            "100/100 [==============================] - 3s 31ms/step - loss: 1.2061 - masked_acc: 0.7290 - masked_loss: 1.2061 - val_loss: 1.6897 - val_masked_acc: 0.6526 - val_masked_loss: 1.6897\n",
            "Epoch 79/120\n",
            "100/100 [==============================] - 3s 31ms/step - loss: 1.2104 - masked_acc: 0.7297 - masked_loss: 1.2104 - val_loss: 1.7149 - val_masked_acc: 0.6467 - val_masked_loss: 1.7149\n",
            "Epoch 80/120\n",
            "100/100 [==============================] - 4s 35ms/step - loss: 1.2431 - masked_acc: 0.7192 - masked_loss: 1.2431 - val_loss: 1.7494 - val_masked_acc: 0.6462 - val_masked_loss: 1.7494\n",
            "Epoch 81/120\n",
            "100/100 [==============================] - 5s 45ms/step - loss: 1.2129 - masked_acc: 0.7266 - masked_loss: 1.2129 - val_loss: 1.7598 - val_masked_acc: 0.6402 - val_masked_loss: 1.7598\n",
            "Epoch 82/120\n",
            "100/100 [==============================] - 3s 30ms/step - loss: 1.2308 - masked_acc: 0.7258 - masked_loss: 1.2308 - val_loss: 1.6697 - val_masked_acc: 0.6522 - val_masked_loss: 1.6697\n",
            "Epoch 83/120\n",
            "100/100 [==============================] - 3s 31ms/step - loss: 1.2385 - masked_acc: 0.7197 - masked_loss: 1.2385 - val_loss: 1.7932 - val_masked_acc: 0.6400 - val_masked_loss: 1.7932\n",
            "Epoch 84/120\n",
            "100/100 [==============================] - 3s 32ms/step - loss: 1.2367 - masked_acc: 0.7213 - masked_loss: 1.2367 - val_loss: 1.6842 - val_masked_acc: 0.6506 - val_masked_loss: 1.6842\n",
            "Epoch 85/120\n",
            "100/100 [==============================] - 4s 44ms/step - loss: 1.2235 - masked_acc: 0.7235 - masked_loss: 1.2235 - val_loss: 1.6609 - val_masked_acc: 0.6608 - val_masked_loss: 1.6609\n",
            "Epoch 86/120\n",
            "100/100 [==============================] - 3s 31ms/step - loss: 1.2421 - masked_acc: 0.7197 - masked_loss: 1.2421 - val_loss: 1.7089 - val_masked_acc: 0.6488 - val_masked_loss: 1.7089\n",
            "Epoch 87/120\n",
            "100/100 [==============================] - 3s 30ms/step - loss: 1.2256 - masked_acc: 0.7213 - masked_loss: 1.2256 - val_loss: 1.7048 - val_masked_acc: 0.6551 - val_masked_loss: 1.7048\n",
            "Epoch 88/120\n",
            "100/100 [==============================] - 4s 38ms/step - loss: 1.2581 - masked_acc: 0.7169 - masked_loss: 1.2581 - val_loss: 1.6510 - val_masked_acc: 0.6609 - val_masked_loss: 1.6510\n",
            "Epoch 89/120\n",
            "100/100 [==============================] - 4s 41ms/step - loss: 1.2366 - masked_acc: 0.7227 - masked_loss: 1.2366 - val_loss: 1.6833 - val_masked_acc: 0.6530 - val_masked_loss: 1.6833\n",
            "Epoch 90/120\n",
            "100/100 [==============================] - 4s 35ms/step - loss: 1.0925 - masked_acc: 0.7508 - masked_loss: 1.0958 - val_loss: 1.6914 - val_masked_acc: 0.6536 - val_masked_loss: 1.6914\n",
            "Epoch 91/120\n",
            "100/100 [==============================] - 3s 31ms/step - loss: 1.0250 - masked_acc: 0.7650 - masked_loss: 1.0250 - val_loss: 1.6770 - val_masked_acc: 0.6545 - val_masked_loss: 1.6770\n",
            "Epoch 92/120\n",
            "100/100 [==============================] - 4s 45ms/step - loss: 1.0294 - masked_acc: 0.7626 - masked_loss: 1.0294 - val_loss: 1.6358 - val_masked_acc: 0.6661 - val_masked_loss: 1.6358\n",
            "Epoch 93/120\n",
            "100/100 [==============================] - 4s 35ms/step - loss: 1.0468 - masked_acc: 0.7570 - masked_loss: 1.0468 - val_loss: 1.7396 - val_masked_acc: 0.6488 - val_masked_loss: 1.7396\n",
            "Epoch 94/120\n",
            "100/100 [==============================] - 3s 31ms/step - loss: 1.0400 - masked_acc: 0.7585 - masked_loss: 1.0400 - val_loss: 1.6320 - val_masked_acc: 0.6672 - val_masked_loss: 1.6320\n",
            "Epoch 95/120\n",
            "100/100 [==============================] - 3s 30ms/step - loss: 1.0605 - masked_acc: 0.7544 - masked_loss: 1.0605 - val_loss: 1.6844 - val_masked_acc: 0.6541 - val_masked_loss: 1.6844\n",
            "Epoch 96/120\n",
            "100/100 [==============================] - 4s 44ms/step - loss: 1.0701 - masked_acc: 0.7533 - masked_loss: 1.0701 - val_loss: 1.6820 - val_masked_acc: 0.6580 - val_masked_loss: 1.6820\n",
            "Epoch 97/120\n",
            "100/100 [==============================] - 3s 31ms/step - loss: 1.0803 - masked_acc: 0.7492 - masked_loss: 1.0803 - val_loss: 1.7089 - val_masked_acc: 0.6532 - val_masked_loss: 1.7089\n",
            "Epoch 98/120\n",
            "100/100 [==============================] - 3s 31ms/step - loss: 1.0766 - masked_acc: 0.7518 - masked_loss: 1.0766 - val_loss: 1.7076 - val_masked_acc: 0.6507 - val_masked_loss: 1.7076\n",
            "Epoch 99/120\n",
            "100/100 [==============================] - 3s 31ms/step - loss: 1.0781 - masked_acc: 0.7499 - masked_loss: 1.0781 - val_loss: 1.6942 - val_masked_acc: 0.6547 - val_masked_loss: 1.6942\n",
            "Epoch 100/120\n",
            "100/100 [==============================] - 5s 48ms/step - loss: 1.0965 - masked_acc: 0.7467 - masked_loss: 1.0965 - val_loss: 1.6102 - val_masked_acc: 0.6685 - val_masked_loss: 1.6102\n",
            "Epoch 101/120\n",
            "100/100 [==============================] - 3s 31ms/step - loss: 1.0862 - masked_acc: 0.7485 - masked_loss: 1.0862 - val_loss: 1.6417 - val_masked_acc: 0.6645 - val_masked_loss: 1.6417\n",
            "Epoch 102/120\n",
            "100/100 [==============================] - 3s 34ms/step - loss: 1.1119 - masked_acc: 0.7428 - masked_loss: 1.1119 - val_loss: 1.6936 - val_masked_acc: 0.6572 - val_masked_loss: 1.6936\n",
            "Epoch 103/120\n",
            "100/100 [==============================] - 4s 35ms/step - loss: 1.1085 - masked_acc: 0.7452 - masked_loss: 1.1085 - val_loss: 1.6520 - val_masked_acc: 0.6663 - val_masked_loss: 1.6520\n",
            "Epoch 104/120\n",
            "100/100 [==============================] - 4s 40ms/step - loss: 1.1222 - masked_acc: 0.7423 - masked_loss: 1.1222 - val_loss: 1.7165 - val_masked_acc: 0.6508 - val_masked_loss: 1.7165\n",
            "Epoch 105/120\n",
            "100/100 [==============================] - 4s 35ms/step - loss: 0.9454 - masked_acc: 0.7808 - masked_loss: 0.9490 - val_loss: 1.6756 - val_masked_acc: 0.6603 - val_masked_loss: 1.6756\n",
            "Epoch 106/120\n",
            "100/100 [==============================] - 3s 31ms/step - loss: 0.8820 - masked_acc: 0.7914 - masked_loss: 0.8820 - val_loss: 1.6047 - val_masked_acc: 0.6708 - val_masked_loss: 1.6047\n",
            "Epoch 107/120\n",
            "100/100 [==============================] - 4s 37ms/step - loss: 0.9042 - masked_acc: 0.7888 - masked_loss: 0.9042 - val_loss: 1.6825 - val_masked_acc: 0.6622 - val_masked_loss: 1.6825\n",
            "Epoch 108/120\n",
            "100/100 [==============================] - 4s 38ms/step - loss: 0.9157 - masked_acc: 0.7861 - masked_loss: 0.9157 - val_loss: 1.5962 - val_masked_acc: 0.6748 - val_masked_loss: 1.5962\n",
            "Epoch 109/120\n",
            "100/100 [==============================] - 3s 31ms/step - loss: 0.9538 - masked_acc: 0.7753 - masked_loss: 0.9538 - val_loss: 1.6944 - val_masked_acc: 0.6522 - val_masked_loss: 1.6944\n",
            "Epoch 110/120\n",
            "100/100 [==============================] - 4s 40ms/step - loss: 0.9276 - masked_acc: 0.7781 - masked_loss: 0.9276 - val_loss: 1.7083 - val_masked_acc: 0.6591 - val_masked_loss: 1.7083\n",
            "Epoch 111/120\n",
            "100/100 [==============================] - 5s 50ms/step - loss: 0.9557 - masked_acc: 0.7751 - masked_loss: 0.9557 - val_loss: 1.6855 - val_masked_acc: 0.6583 - val_masked_loss: 1.6855\n",
            "Epoch 112/120\n",
            "100/100 [==============================] - 3s 32ms/step - loss: 0.9515 - masked_acc: 0.7745 - masked_loss: 0.9515 - val_loss: 1.6995 - val_masked_acc: 0.6665 - val_masked_loss: 1.6995\n",
            "Epoch 113/120\n",
            "100/100 [==============================] - 3s 31ms/step - loss: 0.9555 - masked_acc: 0.7731 - masked_loss: 0.9555 - val_loss: 1.6191 - val_masked_acc: 0.6722 - val_masked_loss: 1.6191\n",
            "Epoch 114/120\n",
            "100/100 [==============================] - 4s 37ms/step - loss: 0.9759 - masked_acc: 0.7705 - masked_loss: 0.9759 - val_loss: 1.5895 - val_masked_acc: 0.6695 - val_masked_loss: 1.5895\n",
            "Epoch 115/120\n",
            "100/100 [==============================] - 4s 44ms/step - loss: 0.9770 - masked_acc: 0.7714 - masked_loss: 0.9770 - val_loss: 1.6155 - val_masked_acc: 0.6712 - val_masked_loss: 1.6155\n",
            "Epoch 116/120\n",
            "100/100 [==============================] - 3s 32ms/step - loss: 0.9746 - masked_acc: 0.7685 - masked_loss: 0.9746 - val_loss: 1.6336 - val_masked_acc: 0.6694 - val_masked_loss: 1.6336\n",
            "Epoch 117/120\n",
            "100/100 [==============================] - 3s 31ms/step - loss: 0.9601 - masked_acc: 0.7715 - masked_loss: 0.9601 - val_loss: 1.6200 - val_masked_acc: 0.6647 - val_masked_loss: 1.6200\n",
            "Epoch 118/120\n",
            "100/100 [==============================] - 4s 35ms/step - loss: 0.9767 - masked_acc: 0.7677 - masked_loss: 0.9767 - val_loss: 1.6883 - val_masked_acc: 0.6630 - val_masked_loss: 1.6883\n",
            "Epoch 119/120\n",
            "100/100 [==============================] - 4s 40ms/step - loss: 1.0009 - masked_acc: 0.7633 - masked_loss: 1.0009 - val_loss: 1.6532 - val_masked_acc: 0.6652 - val_masked_loss: 1.6532\n",
            "Epoch 120/120\n",
            "100/100 [==============================] - 4s 36ms/step - loss: 0.8169 - masked_acc: 0.8062 - masked_loss: 0.8172 - val_loss: 1.6407 - val_masked_acc: 0.6684 - val_masked_loss: 1.6407\n"
          ]
        }
      ],
      "source": [
        "history = model.fit(\n",
        "    train_ds.repeat(),\n",
        "    epochs=config[\"epochs\"],\n",
        "    steps_per_epoch = 100,\n",
        "    validation_data=val_ds,\n",
        "    validation_steps = 20,  # todo -- убедиться, что это не делает ничего странного.\n",
        "    callbacks=[\n",
        "        # tf.keras.callbacks.EarlyStopping(patience=3),\n",
        "        WandbMetricsLogger()])"
      ]
    },
    {
      "cell_type": "code",
      "execution_count": 170,
      "metadata": {
        "colab": {
          "base_uri": "https://localhost:8080/",
          "height": 466
        },
        "id": "xYkzHkBtrf2g",
        "outputId": "0750e7f7-a2b5-4ad8-832d-c6093719fc60"
      },
      "outputs": [
        {
          "data": {
            "text/plain": [
              "<matplotlib.legend.Legend at 0x7f712c100a00>"
            ]
          },
          "execution_count": 170,
          "metadata": {},
          "output_type": "execute_result"
        },
        {
          "data": {
            "image/png": "[encoded data removed]",
            "text/plain": [
              "<Figure size 640x480 with 1 Axes>"
            ]
          },
          "metadata": {},
          "output_type": "display_data"
        }
      ],
      "source": [
        "plt.plot(history.history['loss'], label='loss')\n",
        "plt.plot(history.history['val_loss'], label='val_loss')\n",
        "plt.ylim([0, max(plt.ylim())])\n",
        "plt.xlabel('Epoch #')\n",
        "plt.ylabel('CE/token')\n",
        "plt.legend()"
      ]
    },
    {
      "cell_type": "code",
      "execution_count": 171,
      "metadata": {
        "colab": {
          "base_uri": "https://localhost:8080/",
          "height": 466
        },
        "id": "IE-Rlne6rf2g",
        "outputId": "5ea295a3-4550-40e8-ebfb-7745069fd567"
      },
      "outputs": [
        {
          "data": {
            "text/plain": [
              "<matplotlib.legend.Legend at 0x7f712ea7a050>"
            ]
          },
          "execution_count": 171,
          "metadata": {},
          "output_type": "execute_result"
        },
        {
          "data": {
            "image/png": "[encoded data removed]",
            "text/plain": [
              "<Figure size 640x480 with 1 Axes>"
            ]
          },
          "metadata": {},
          "output_type": "display_data"
        }
      ],
      "source": [
        "plt.plot(history.history['masked_acc'], label='accuracy')\n",
        "plt.plot(history.history['val_masked_acc'], label='val_accuracy')\n",
        "plt.ylim([0, max(plt.ylim())])\n",
        "plt.xlabel('Epoch #')\n",
        "plt.ylabel('accuracy')\n",
        "plt.legend()"
      ]
    },
    {
      "cell_type": "code",
      "execution_count": 172,
      "metadata": {
        "id": "DXoAo-brrf2g"
      },
      "outputs": [],
      "source": [
        "# result = model.translate(['¿Todavía está en casa?']) # Are you still home\n",
        "# result[0].numpy().decode()"
      ]
    },
    {
      "cell_type": "code",
      "execution_count": 173,
      "metadata": {
        "id": "FpfGQV9NSoAf"
      },
      "outputs": [],
      "source": [
        "# for i in range(len(history.history['masked_acc'])):\n",
        "#   wandb.log({\n",
        "#   # print({\n",
        "#       \"train_accuracy\": history.history['masked_acc'][i],\n",
        "#       \"test_accuracy\": history.history['val_masked_acc'][i],\n",
        "#       \"train_loss\": history.history['masked_loss'][i],\n",
        "#       \"test_loss\": history.history['val_masked_loss'][i],\n",
        "#   })"
      ]
    },
    {
      "cell_type": "markdown",
      "metadata": {
        "id": "Qid2Dxt14Z4N"
      },
      "source": [
        "### Examples of translation"
      ]
    },
    {
      "cell_type": "code",
      "execution_count": 174,
      "metadata": {
        "colab": {
          "base_uri": "https://localhost:8080/"
        },
        "id": "UrUnutpO4f4R",
        "outputId": "8615dab1-809a-4bdf-d1c7-ebeb64cc5b4f"
      },
      "outputs": [
        {
          "name": "stdout",
          "output_type": "stream",
          "text": [
            "Temperature is 0.1\n",
            "Ella ha conseguido sus metas.\n",
            "[UNK] left \n",
            "She has achieved her goals.\n",
            "\n",
            "La policía arrestó a Tom.\n",
            "[UNK] left \n",
            "The police have arrested Tom.\n",
            "\n",
            "Me gustaría hablar dos palabras con usted.\n",
            "[UNK] left \n",
            "I'd like to have a word with you.\n",
            "\n",
            "¿Podría darme cambio de un billete de cien dólares?\n",
            "[UNK] left \n",
            "Could you give me change out of a hundred-dollar bill?\n",
            "\n",
            "Nuestro profesor es un verdadero idiota.\n",
            "[UNK] left \n",
            "Our teacher is a real idiot.\n",
            "\n",
            "Ayer robaron el bate, junto con las pelotas.\n",
            "[UNK] left \n",
            "The bat was stolen yesterday, along with the balls.\n",
            "\n",
            "Tom tiene un auto deportivo amarillo.\n",
            "[UNK] left \n",
            "Tom owns a yellow sports car.\n",
            "\n",
            "Tom es el tipo que Mary quería.\n",
            "[UNK] left \n",
            "Tom is the guy that Mary wanted.\n",
            "\n",
            "Él es el capitán de un equipo.\n",
            "[UNK] left \n",
            "He's the captain of a team.\n",
            "\n",
            "Con frecuencia, la metadona se prescribe como analgésico.\n",
            "[UNK] left \n",
            "Methadone is commonly prescribed as a pain killer.\n",
            "\n",
            "Temperature is 0.2\n",
            "Ella ha conseguido sus metas.\n",
            "[UNK] left   \n",
            "She has achieved her goals.\n",
            "\n",
            "La policía arrestó a Tom.\n",
            "[UNK] left   \n",
            "The police have arrested Tom.\n",
            "\n",
            "Me gustaría hablar dos palabras con usted.\n",
            "[UNK] left   \n",
            "I'd like to have a word with you.\n",
            "\n",
            "¿Podría darme cambio de un billete de cien dólares?\n",
            "[UNK] have the [UNK] \n",
            "Could you give me change out of a hundred-dollar bill?\n",
            "\n",
            "Nuestro profesor es un verdadero idiota.\n",
            "[UNK] left   \n",
            "Our teacher is a real idiot.\n",
            "\n",
            "Ayer robaron el bate, junto con las pelotas.\n",
            "[UNK] left   \n",
            "The bat was stolen yesterday, along with the balls.\n",
            "\n",
            "Tom tiene un auto deportivo amarillo.\n",
            "[UNK] left   \n",
            "Tom owns a yellow sports car.\n",
            "\n",
            "Tom es el tipo que Mary quería.\n",
            "[UNK] left   \n",
            "Tom is the guy that Mary wanted.\n",
            "\n",
            "Él es el capitán de un equipo.\n",
            "[UNK] left   \n",
            "He's the captain of a team.\n",
            "\n",
            "Con frecuencia, la metadona se prescribe como analgésico.\n",
            "[UNK] weather   \n",
            "Methadone is commonly prescribed as a pain killer.\n",
            "\n",
            "Temperature is 0.3\n",
            "Ella ha conseguido sus metas.\n",
            "[UNK] ache    \n",
            "She has achieved her goals.\n",
            "\n",
            "La policía arrestó a Tom.\n",
            "[UNK] left    \n",
            "The police have arrested Tom.\n",
            "\n",
            "Me gustaría hablar dos palabras con usted.\n",
            "[UNK] left    \n",
            "I'd like to have a word with you.\n",
            "\n",
            "¿Podría darme cambio de un billete de cien dólares?\n",
            "[UNK] [UNK]    \n",
            "Could you give me change out of a hundred-dollar bill?\n",
            "\n",
            "Nuestro profesor es un verdadero idiota.\n",
            "screen the [UNK]   \n",
            "Our teacher is a real idiot.\n",
            "\n",
            "Ayer robaron el bate, junto con las pelotas.\n",
            "[UNK] left    \n",
            "The bat was stolen yesterday, along with the balls.\n",
            "\n",
            "Tom tiene un auto deportivo amarillo.\n",
            "[UNK] meet    \n",
            "Tom owns a yellow sports car.\n",
            "\n",
            "Tom es el tipo que Mary quería.\n",
            "[UNK] left    \n",
            "Tom is the guy that Mary wanted.\n",
            "\n",
            "Él es el capitán de un equipo.\n",
            "[UNK]     \n",
            "He's the captain of a team.\n",
            "\n",
            "Con frecuencia, la metadona se prescribe como analgésico.\n",
            "[UNK]     \n",
            "Methadone is commonly prescribed as a pain killer.\n",
            "\n",
            "Temperature is 0.4\n",
            "Ella ha conseguido sus metas.\n",
            "[UNK] go     \n",
            "She has achieved her goals.\n",
            "\n",
            "La policía arrestó a Tom.\n",
            "[UNK] station     \n",
            "The police have arrested Tom.\n",
            "\n",
            "Me gustaría hablar dos palabras con usted.\n",
            "[UNK] clock     \n",
            "I'd like to have a word with you.\n",
            "\n",
            "¿Podría darme cambio de un billete de cien dólares?\n",
            "relief he was    \n",
            "Could you give me change out of a hundred-dollar bill?\n",
            "\n",
            "Nuestro profesor es un verdadero idiota.\n",
            "[UNK] left     \n",
            "Our teacher is a real idiot.\n",
            "\n",
            "Ayer robaron el bate, junto con las pelotas.\n",
            "[UNK] visit     \n",
            "The bat was stolen yesterday, along with the balls.\n",
            "\n",
            "Tom tiene un auto deportivo amarillo.\n",
            "bear the [UNK]    \n",
            "Tom owns a yellow sports car.\n",
            "\n",
            "Tom es el tipo que Mary quería.\n",
            "[UNK]      \n",
            "Tom is the guy that Mary wanted.\n",
            "\n",
            "Él es el capitán de un equipo.\n",
            "[UNK] left     \n",
            "He's the captain of a team.\n",
            "\n",
            "Con frecuencia, la metadona se prescribe como analgésico.\n",
            "[UNK] have the [UNK]   \n",
            "Methadone is commonly prescribed as a pain killer.\n",
            "\n",
            "Temperature is 0.5\n",
            "Ella ha conseguido sus metas.\n",
            "[UNK] return     \n",
            "She has achieved her goals.\n",
            "\n",
            "La policía arrestó a Tom.\n",
            "[UNK] left     \n",
            "The police have arrested Tom.\n",
            "\n",
            "Me gustaría hablar dos palabras con usted.\n",
            "[UNK]      \n",
            "I'd like to have a word with you.\n",
            "\n",
            "¿Podría darme cambio de un billete de cien dólares?\n",
            "fit on a back   \n",
            "Could you give me change out of a hundred-dollar bill?\n",
            "\n",
            "Nuestro profesor es un verdadero idiota.\n",
            "[UNK] [UNK]     \n",
            "Our teacher is a real idiot.\n",
            "\n",
            "Ayer robaron el bate, junto con las pelotas.\n",
            "drop in the [UNK]   \n",
            "The bat was stolen yesterday, along with the balls.\n",
            "\n",
            "Tom tiene un auto deportivo amarillo.\n",
            "peanuts will be in   \n",
            "Tom owns a yellow sports car.\n",
            "\n",
            "Tom es el tipo que Mary quería.\n",
            "direct deal     \n",
            "Tom is the guy that Mary wanted.\n",
            "\n",
            "Él es el capitán de un equipo.\n",
            "accompany you guys    \n",
            "He's the captain of a team.\n",
            "\n",
            "Con frecuencia, la metadona se prescribe como analgésico.\n",
            "antique show     \n",
            "Methadone is commonly prescribed as a pain killer.\n",
            "\n",
            "Temperature is 0.6\n",
            "Ella ha conseguido sus metas.\n",
            "painting again      \n",
            "She has achieved her goals.\n",
            "\n",
            "La policía arrestó a Tom.\n",
            "peanuts will be in    \n",
            "The police have arrested Tom.\n",
            "\n",
            "Me gustaría hablar dos palabras con usted.\n",
            "name [UNK]      \n",
            "I'd like to have a word with you.\n",
            "\n",
            "¿Podría darme cambio de un billete de cien dólares?\n",
            "peanuts will be in    \n",
            "Could you give me change out of a hundred-dollar bill?\n",
            "\n",
            "Nuestro profesor es un verdadero idiota.\n",
            "excuse my parents     \n",
            "Our teacher is a real idiot.\n",
            "\n",
            "Ayer robaron el bate, junto con las pelotas.\n",
            "the [UNK] left     \n",
            "The bat was stolen yesterday, along with the balls.\n",
            "\n",
            "Tom tiene un auto deportivo amarillo.\n",
            "investment will be in    \n",
            "Tom owns a yellow sports car.\n",
            "\n",
            "Tom es el tipo que Mary quería.\n",
            "lions       \n",
            "Tom is the guy that Mary wanted.\n",
            "\n",
            "Él es el capitán de un equipo.\n",
            "resign talk to me    \n",
            "He's the captain of a team.\n",
            "\n",
            "Con frecuencia, la metadona se prescribe como analgésico.\n",
            "look at the bottom of the one \n",
            "Methadone is commonly prescribed as a pain killer.\n",
            "\n"
          ]
        }
      ],
      "source": [
        "text_table = wandb.Table(columns=[\"source\", \"translate\", \"target\", \"temperature\"])\n",
        "n_samples = 10\n",
        "\n",
        "for context_strings, target_strings in train_raw.take(1):\n",
        "    for temp in np.arange(0.1, 0.7, 0.1):\n",
        "        translate_strings = model.translate(context_strings, temperature=temp)\n",
        "\n",
        "        decoded_strings = [x.numpy() for x in\n",
        "                           [context_strings, translate_strings, target_strings]]\n",
        "        print(\"Temperature is\", np.round(temp, 2))\n",
        "        for i in range(min(len(context_strings), n_samples)):\n",
        "            for t in decoded_strings:\n",
        "                print(t[i].decode())\n",
        "            print()\n",
        "            text_table.add_data(*[t[i] for t in decoded_strings], temp)\n",
        "\n",
        "wandb.log({\"training_samples\" : text_table})"
      ]
    },
    {
      "cell_type": "code",
      "execution_count": 175,
      "metadata": {
        "colab": {
          "base_uri": "https://localhost:8080/",
          "height": 682,
          "referenced_widgets": [
            "a0685a57b54142b79ae7a5da5612ef6d",
            "274dec4568854ca69619aa5dae815b74",
            "f2bf45d6ccdb4c60913454dba04e669a",
            "08bdc54deb6c434ca9cb5209c165e649",
            "8696a85bfdbd497b8f0095b0c7c5124d",
            "03586103e3da40b4b52abe68d8badf10",
            "ce326b87648e4ab4852c840bad46a70a",
            "e1957c2f3ace48db8c4e0dd19dec2a65"
          ]
        },
        "id": "5GeEQqcvSlDM",
        "outputId": "e093ad50-804a-406f-84b8-746dd676e38a"
      },
      "outputs": [
        {
          "data": {
            "text/html": [
              "Waiting for W&B process to finish... <strong style=\"color:green\">(success).</strong>"
            ],
            "text/plain": [
              "<IPython.core.display.HTML object>"
            ]
          },
          "metadata": {},
          "output_type": "display_data"
        },
        {
          "data": {
            "application/vnd.jupyter.widget-view+json": {
              "model_id": "a0685a57b54142b79ae7a5da5612ef6d",
              "version_major": 2,
              "version_minor": 0
            },
            "text/plain": [
              "VBox(children=(Label(value='1.132 MB of 1.132 MB uploaded (0.124 MB deduped)\\r'), FloatProgress(value=1.0, max…"
            ]
          },
          "metadata": {},
          "output_type": "display_data"
        },
        {
          "data": {
            "text/html": [
              "<style>\n",
              "    table.wandb td:nth-child(1) { padding: 0 10px; text-align: left ; width: auto;} td:nth-child(2) {text-align: left ; width: 100%}\n",
              "    .wandb-row { display: flex; flex-direction: row; flex-wrap: wrap; justify-content: flex-start; width: 100% }\n",
              "    .wandb-col { display: flex; flex-direction: column; flex-basis: 100%; flex: 1; padding: 10px; }\n",
              "    </style>\n",
              "<div class=\"wandb-row\"><div class=\"wandb-col\"><h3>Run history:</h3><br/><table class=\"wandb\"><tr><td>epoch/epoch</td><td>▁▁▁▂▂▂▂▂▂▃▃▃▃▃▃▄▄▄▄▄▅▅▅▅▅▅▆▆▆▆▆▇▇▇▇▇▇███</td></tr><tr><td>epoch/learning_rate</td><td>▁▁▁▁▁▁▁▁▁▁▁▁▁▁▁▁▁▁▁▁▁▁▁▁▁▁▁▁▁▁▁▁▁▁▁▁▁▁▁▁</td></tr><tr><td>epoch/loss</td><td>█▆▆▅▄▄▄▄▃▃▃▃▃▃▃▂▂▂▂▂▂▂▂▂▂▁▂▂▂▂▁▁▁▁▁▁▁▁▁▁</td></tr><tr><td>epoch/masked_acc</td><td>▁▂▂▃▃▄▄▅▅▅▅▅▆▆▆▆▆▆▆▆▇▇▇▇▇▇▇▇▇▇█▇▇▇▇█████</td></tr><tr><td>epoch/masked_loss</td><td>█▆▆▅▄▄▄▄▃▃▃▃▃▃▃▂▂▂▂▂▂▂▂▂▂▁▂▂▂▂▁▁▁▁▁▁▁▁▁▁</td></tr><tr><td>epoch/val_loss</td><td>█▆▆▅▄▄▃▃▃▂▂▂▂▂▂▂▂▂▁▁▁▁▁▁▁▁▁▁▁▁▁▁▁▁▁▁▁▁▁▁</td></tr><tr><td>epoch/val_masked_acc</td><td>▁▂▃▄▄▅▅▅▆▆▆▇▇▇▇▇▇▇▇▇▇▇██████████████████</td></tr><tr><td>epoch/val_masked_loss</td><td>█▆▆▅▄▄▃▃▃▂▂▂▂▂▂▂▂▂▁▁▁▁▁▁▁▁▁▁▁▁▁▁▁▁▁▁▁▁▁▁</td></tr></table><br/></div><div class=\"wandb-col\"><h3>Run summary:</h3><br/><table class=\"wandb\"><tr><td>epoch/epoch</td><td>119</td></tr><tr><td>epoch/learning_rate</td><td>0.001</td></tr><tr><td>epoch/loss</td><td>0.8169</td></tr><tr><td>epoch/masked_acc</td><td>0.80622</td></tr><tr><td>epoch/masked_loss</td><td>0.81716</td></tr><tr><td>epoch/val_loss</td><td>1.64068</td></tr><tr><td>epoch/val_masked_acc</td><td>0.66835</td></tr><tr><td>epoch/val_masked_loss</td><td>1.64068</td></tr></table><br/></div></div>"
            ],
            "text/plain": [
              "<IPython.core.display.HTML object>"
            ]
          },
          "metadata": {},
          "output_type": "display_data"
        },
        {
          "data": {
            "text/html": [
              " View run <strong style=\"color:#cdcd00\">graceful-lake-35</strong> at: <a href='https://wandb.ai/amirfvb/CRNN_translate/runs/xqshba6x' target=\"_blank\">https://wandb.ai/amirfvb/CRNN_translate/runs/xqshba6x</a><br/>Synced 5 W&B file(s), 1 media file(s), 24 artifact file(s) and 1 other file(s)"
            ],
            "text/plain": [
              "<IPython.core.display.HTML object>"
            ]
          },
          "metadata": {},
          "output_type": "display_data"
        },
        {
          "data": {
            "text/html": [
              "Find logs at: <code>./wandb/run-20230626_142100-xqshba6x/logs</code>"
            ],
            "text/plain": [
              "<IPython.core.display.HTML object>"
            ]
          },
          "metadata": {},
          "output_type": "display_data"
        }
      ],
      "source": [
        "wandb.finish()"
      ]
    }
  ],
  "metadata": {
    "accelerator": "GPU",
    "colab": {
      "gpuType": "T4",
      "provenance": []
    },
    "kernelspec": {
      "display_name": "Python 3",
      "name": "python3"
    },
    "language_info": {
      "codemirror_mode": {
        "name": "ipython",
        "version": 3
      },
      "file_extension": ".py",
      "mimetype": "text/x-python",
      "name": "python",
      "nbconvert_exporter": "python",
      "pygments_lexer": "ipython3",
      "version": "3.10.11"
    },
    "orig_nbformat": 4,
    "widgets": {
      "application/vnd.jupyter.widget-state+json": {
        "03586103e3da40b4b52abe68d8badf10": {
          "model_module": "@jupyter-widgets/controls",
          "model_module_version": "1.5.0",
          "model_name": "DescriptionStyleModel",
          "state": {
            "_model_module": "@jupyter-widgets/controls",
            "_model_module_version": "1.5.0",
            "_model_name": "DescriptionStyleModel",
            "_view_count": null,
            "_view_module": "@jupyter-widgets/base",
            "_view_module_version": "1.2.0",
            "_view_name": "StyleView",
            "description_width": ""
          }
        },
        "08bdc54deb6c434ca9cb5209c165e649": {
          "model_module": "@jupyter-widgets/base",
          "model_module_version": "1.2.0",
          "model_name": "LayoutModel",
          "state": {
            "_model_module": "@jupyter-widgets/base",
            "_model_module_version": "1.2.0",
            "_model_name": "LayoutModel",
            "_view_count": null,
            "_view_module": "@jupyter-widgets/base",
            "_view_module_version": "1.2.0",
            "_view_name": "LayoutView",
            "align_content": null,
            "align_items": null,
            "align_self": null,
            "border": null,
            "bottom": null,
            "display": null,
            "flex": null,
            "flex_flow": null,
            "grid_area": null,
            "grid_auto_columns": null,
            "grid_auto_flow": null,
            "grid_auto_rows": null,
            "grid_column": null,
            "grid_gap": null,
            "grid_row": null,
            "grid_template_areas": null,
            "grid_template_columns": null,
            "grid_template_rows": null,
            "height": null,
            "justify_content": null,
            "justify_items": null,
            "left": null,
            "margin": null,
            "max_height": null,
            "max_width": null,
            "min_height": null,
            "min_width": null,
            "object_fit": null,
            "object_position": null,
            "order": null,
            "overflow": null,
            "overflow_x": null,
            "overflow_y": null,
            "padding": null,
            "right": null,
            "top": null,
            "visibility": null,
            "width": null
          }
        },
        "274dec4568854ca69619aa5dae815b74": {
          "model_module": "@jupyter-widgets/controls",
          "model_module_version": "1.5.0",
          "model_name": "LabelModel",
          "state": {
            "_dom_classes": [],
            "_model_module": "@jupyter-widgets/controls",
            "_model_module_version": "1.5.0",
            "_model_name": "LabelModel",
            "_view_count": null,
            "_view_module": "@jupyter-widgets/controls",
            "_view_module_version": "1.5.0",
            "_view_name": "LabelView",
            "description": "",
            "description_tooltip": null,
            "layout": "IPY_MODEL_8696a85bfdbd497b8f0095b0c7c5124d",
            "placeholder": "​",
            "style": "IPY_MODEL_03586103e3da40b4b52abe68d8badf10",
            "value": "1.132 MB of 1.132 MB uploaded (0.124 MB deduped)\r"
          }
        },
        "8696a85bfdbd497b8f0095b0c7c5124d": {
          "model_module": "@jupyter-widgets/base",
          "model_module_version": "1.2.0",
          "model_name": "LayoutModel",
          "state": {
            "_model_module": "@jupyter-widgets/base",
            "_model_module_version": "1.2.0",
            "_model_name": "LayoutModel",
            "_view_count": null,
            "_view_module": "@jupyter-widgets/base",
            "_view_module_version": "1.2.0",
            "_view_name": "LayoutView",
            "align_content": null,
            "align_items": null,
            "align_self": null,
            "border": null,
            "bottom": null,
            "display": null,
            "flex": null,
            "flex_flow": null,
            "grid_area": null,
            "grid_auto_columns": null,
            "grid_auto_flow": null,
            "grid_auto_rows": null,
            "grid_column": null,
            "grid_gap": null,
            "grid_row": null,
            "grid_template_areas": null,
            "grid_template_columns": null,
            "grid_template_rows": null,
            "height": null,
            "justify_content": null,
            "justify_items": null,
            "left": null,
            "margin": null,
            "max_height": null,
            "max_width": null,
            "min_height": null,
            "min_width": null,
            "object_fit": null,
            "object_position": null,
            "order": null,
            "overflow": null,
            "overflow_x": null,
            "overflow_y": null,
            "padding": null,
            "right": null,
            "top": null,
            "visibility": null,
            "width": null
          }
        },
        "a0685a57b54142b79ae7a5da5612ef6d": {
          "model_module": "@jupyter-widgets/controls",
          "model_module_version": "1.5.0",
          "model_name": "VBoxModel",
          "state": {
            "_dom_classes": [],
            "_model_module": "@jupyter-widgets/controls",
            "_model_module_version": "1.5.0",
            "_model_name": "VBoxModel",
            "_view_count": null,
            "_view_module": "@jupyter-widgets/controls",
            "_view_module_version": "1.5.0",
            "_view_name": "VBoxView",
            "box_style": "",
            "children": [
              "IPY_MODEL_274dec4568854ca69619aa5dae815b74",
              "IPY_MODEL_f2bf45d6ccdb4c60913454dba04e669a"
            ],
            "layout": "IPY_MODEL_08bdc54deb6c434ca9cb5209c165e649"
          }
        },
        "ce326b87648e4ab4852c840bad46a70a": {
          "model_module": "@jupyter-widgets/base",
          "model_module_version": "1.2.0",
          "model_name": "LayoutModel",
          "state": {
            "_model_module": "@jupyter-widgets/base",
            "_model_module_version": "1.2.0",
            "_model_name": "LayoutModel",
            "_view_count": null,
            "_view_module": "@jupyter-widgets/base",
            "_view_module_version": "1.2.0",
            "_view_name": "LayoutView",
            "align_content": null,
            "align_items": null,
            "align_self": null,
            "border": null,
            "bottom": null,
            "display": null,
            "flex": null,
            "flex_flow": null,
            "grid_area": null,
            "grid_auto_columns": null,
            "grid_auto_flow": null,
            "grid_auto_rows": null,
            "grid_column": null,
            "grid_gap": null,
            "grid_row": null,
            "grid_template_areas": null,
            "grid_template_columns": null,
            "grid_template_rows": null,
            "height": null,
            "justify_content": null,
            "justify_items": null,
            "left": null,
            "margin": null,
            "max_height": null,
            "max_width": null,
            "min_height": null,
            "min_width": null,
            "object_fit": null,
            "object_position": null,
            "order": null,
            "overflow": null,
            "overflow_x": null,
            "overflow_y": null,
            "padding": null,
            "right": null,
            "top": null,
            "visibility": null,
            "width": null
          }
        },
        "e1957c2f3ace48db8c4e0dd19dec2a65": {
          "model_module": "@jupyter-widgets/controls",
          "model_module_version": "1.5.0",
          "model_name": "ProgressStyleModel",
          "state": {
            "_model_module": "@jupyter-widgets/controls",
            "_model_module_version": "1.5.0",
            "_model_name": "ProgressStyleModel",
            "_view_count": null,
            "_view_module": "@jupyter-widgets/base",
            "_view_module_version": "1.2.0",
            "_view_name": "StyleView",
            "bar_color": null,
            "description_width": ""
          }
        },
        "f2bf45d6ccdb4c60913454dba04e669a": {
          "model_module": "@jupyter-widgets/controls",
          "model_module_version": "1.5.0",
          "model_name": "FloatProgressModel",
          "state": {
            "_dom_classes": [],
            "_model_module": "@jupyter-widgets/controls",
            "_model_module_version": "1.5.0",
            "_model_name": "FloatProgressModel",
            "_view_count": null,
            "_view_module": "@jupyter-widgets/controls",
            "_view_module_version": "1.5.0",
            "_view_name": "ProgressView",
            "bar_style": "",
            "description": "",
            "description_tooltip": null,
            "layout": "IPY_MODEL_ce326b87648e4ab4852c840bad46a70a",
            "max": 1,
            "min": 0,
            "orientation": "horizontal",
            "style": "IPY_MODEL_e1957c2f3ace48db8c4e0dd19dec2a65",
            "value": 1
          }
        }
      }
    }
  },
  "nbformat": 4,
  "nbformat_minor": 0
}
